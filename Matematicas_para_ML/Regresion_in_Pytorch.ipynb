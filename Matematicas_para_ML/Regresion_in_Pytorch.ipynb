{
  "nbformat": 4,
  "nbformat_minor": 0,
  "metadata": {
    "colab": {
      "private_outputs": true,
      "provenance": []
    },
    "kernelspec": {
      "name": "python3",
      "display_name": "Python 3"
    },
    "language_info": {
      "name": "python"
    }
  },
  "cells": [
    {
      "cell_type": "markdown",
      "source": [
        "# Regresión en PyTorch"
      ],
      "metadata": {
        "id": "oJr7NMm7fEun"
      }
    },
    {
      "cell_type": "markdown",
      "source": [
        "En este cuaderno, usamos la librería PyTorch **diferenciación automática** para ajustar una recta a puntos de datos. Así, aquí usamos el cálculo para resolver el mismo problema de regresión que usamos para resolver la Pseudoinversa de Moore-Penrose en el [*Cuaderno de Álgebra Lineal II*](https://github.com/joanby/matematicas-ml/blob/master/notebooks/2-linear-algebra-ii.ipynb)."
      ],
      "metadata": {
        "id": "baplWgStfGb2"
      }
    },
    {
      "cell_type": "code",
      "source": [
        "import torch\n",
        "import matplotlib.pyplot as plt"
      ],
      "metadata": {
        "id": "ooPJr4DIfMY9"
      },
      "execution_count": null,
      "outputs": []
    },
    {
      "cell_type": "code",
      "source": [
        "x=torch.tensor([0,1,2,3,4,5,6,7.])\n",
        "x"
      ],
      "metadata": {
        "id": "328M6IKrfXjt"
      },
      "execution_count": null,
      "outputs": []
    },
    {
      "cell_type": "markdown",
      "source": [
        "Los valores $y$ se crearon utilizando la ecuación de una recta $y = mx + b$. De este modo, sabemos cuáles son los parámetros del modelo que hay que aprender, digamos, $m = -0,5$ y $b = 2$. Se ha añadido ruido aleatorio distribuido normalmente para simular el error de muestreo:"
      ],
      "metadata": {
        "id": "hRRTanMSgYf0"
      }
    },
    {
      "cell_type": "code",
      "source": [
        "#y=-0.5*x+2 + torch.normal(mean=torch.zeros(8),std=0.2)"
      ],
      "metadata": {
        "id": "7QaFAj7_gfpN"
      },
      "execution_count": null,
      "outputs": []
    },
    {
      "cell_type": "markdown",
      "source": [
        "Para la reproducibilidad de esta demostración, he aquí un ejemplo fijo de los valores $y$ obtenidos ejecutando la línea comentada anteriormente:"
      ],
      "metadata": {
        "id": "dTzsppSKgzqs"
      }
    },
    {
      "cell_type": "code",
      "source": [
        "y=torch.tensor([1.86,1.31,.62,.33,.09,-.67,-1.23,-1.37]) #puntuacion de olvido delpaciente"
      ],
      "metadata": {
        "id": "nhgbLJT5g4sU"
      },
      "execution_count": null,
      "outputs": []
    },
    {
      "cell_type": "code",
      "source": [
        "y"
      ],
      "metadata": {
        "id": "00eCtz7khkXE"
      },
      "execution_count": null,
      "outputs": []
    },
    {
      "cell_type": "code",
      "source": [
        "fig,ax=plt.subplots()\n",
        "plt.title('Ensayo Clinico')\n",
        "plt.xlabel('Dosis de Droga')\n",
        "plt.ylabel('Nivel de Olvido')\n",
        "ax.scatter(x,y)"
      ],
      "metadata": {
        "id": "xMBvNaeUhnSc"
      },
      "execution_count": null,
      "outputs": []
    },
    {
      "cell_type": "markdown",
      "source": [
        "Inicializar el parámetro de pendiente $m$ con un valor «aleatorio» de 0,9..."
      ],
      "metadata": {
        "id": "H7zIYNLElFyB"
      }
    },
    {
      "cell_type": "markdown",
      "source": [
        "**N.B.**: En esta sencilla demostración, podríamos empezar adivinando valores de parámetros aproximadamente correctos. O podríamos utilizar un método algebraico (por ejemplo, la pseudoinversa de Moore-Penrose) o estadístico (por ejemplo, la regresión por mínimos cuadrados ordinarios) para resolver los parámetros rápidamente. Sin embargo, esta pequeña demostración de aprendizaje automático con dos parámetros y ocho puntos de datos puede ampliarse a millones de parámetros y millones de puntos de datos. Los demás enfoques -adivinanzas, álgebra, estadística- no se acercan a este escalado)."
      ],
      "metadata": {
        "id": "CLLTr5nplHZL"
      }
    },
    {
      "cell_type": "code",
      "source": [
        "m=torch.tensor([0.9]).requires_grad_()\n",
        "m"
      ],
      "metadata": {
        "id": "pXC3pR7Pldpo"
      },
      "execution_count": null,
      "outputs": []
    },
    {
      "cell_type": "markdown",
      "source": [
        "...y hacer lo mismo para el parámetro $y$-intercepto $b$:"
      ],
      "metadata": {
        "id": "dIJnCdVcmHUX"
      }
    },
    {
      "cell_type": "code",
      "source": [
        "b=torch.tensor([0.1]).requires_grad_()\n",
        "b"
      ],
      "metadata": {
        "id": "u8RwZy4hmEPX"
      },
      "execution_count": null,
      "outputs": []
    },
    {
      "cell_type": "code",
      "source": [
        "def regression(my_x,my_m,my_b):\n",
        "  return my_m*my_x+my_b"
      ],
      "metadata": {
        "id": "gy0n-9JOmXZo"
      },
      "execution_count": null,
      "outputs": []
    },
    {
      "cell_type": "code",
      "source": [
        "def regression_plot(my_x,my_y,my_m,my_b):\n",
        "  fig,ax=plt.subplots()\n",
        "  plt.scatter(my_x,my_y)\n",
        "  x_min,x_max=ax.get_xlim()\n",
        "  y_min=regression(x_min,my_m,my_b).detach().item()\n",
        "  y_max=regression(x_max,my_m,my_b).detach().item()\n",
        "\n",
        "  ax.set_xlim([x_min,x_max])\n",
        "  plt.plot([x_min,x_max],[y_min,y_max])\n"
      ],
      "metadata": {
        "id": "0_ZmjgNJmtGv"
      },
      "execution_count": null,
      "outputs": []
    },
    {
      "cell_type": "code",
      "source": [
        "regression_plot(x,y,m,b)"
      ],
      "metadata": {
        "id": "I7lxWxiaomq9"
      },
      "execution_count": null,
      "outputs": []
    },
    {
      "cell_type": "markdown",
      "source": [
        "### Machine Learning\n",
        "En cuatro pasos muy sencillos :)"
      ],
      "metadata": {
        "id": "fY_Mjv-wzGTV"
      }
    },
    {
      "cell_type": "markdown",
      "source": [
        "\n",
        "**Paso 1**: Paso hacia adelante"
      ],
      "metadata": {
        "id": "ZNw6ji7K6Ae4"
      }
    },
    {
      "cell_type": "code",
      "source": [
        "yhat=regression(x,m,y) #es el modelo predictivo\n",
        "yhat # es la estimacion de lo que y debe ser usando m=0.9 y b=0.1"
      ],
      "metadata": {
        "id": "jIViC5JL6Cwm"
      },
      "execution_count": null,
      "outputs": []
    },
    {
      "cell_type": "markdown",
      "source": [
        "**Paso 2**: Comparar $\\hat{y}$ con $y$ verdadero para calcular el coste $C$"
      ],
      "metadata": {
        "id": "ODuC-FZx6w4n"
      }
    },
    {
      "cell_type": "markdown",
      "source": [],
      "metadata": {
        "id": "veHQuDwooo_S"
      }
    },
    {
      "cell_type": "markdown",
      "source": [
        "Existe un método PyTorch `MSELoss`, pero vamos a definirlo nosotros mismos para ver cómo funciona. El coste MSE se define por: $$C = \\frac{1}{n} \\sum_{i=1}^n (\\hat{y_i}-y_i)^2 $$"
      ],
      "metadata": {
        "id": "iuXjaO61629n"
      }
    },
    {
      "cell_type": "code",
      "source": [
        "def mse(my_yhat,my_y): #mse mean square error (error cuadrado medio) perdida analisamos cuanto se equivoca el modelo\n",
        "  sigma=torch.sum((my_yhat-my_y)**2) #y puntos de reales de la funcion y my_yhat -> los valores a estimar\n",
        "  return sigma/len(my_y)"
      ],
      "metadata": {
        "id": "uIwYoO9A8Skk"
      },
      "execution_count": null,
      "outputs": []
    },
    {
      "cell_type": "code",
      "source": [
        "C=mse(yhat,y)\n",
        "C"
      ],
      "metadata": {
        "id": "5otjhGy-8tK1"
      },
      "execution_count": null,
      "outputs": []
    },
    {
      "cell_type": "markdown",
      "source": [
        "**Paso 3**: Utilizar autodiff para calcular el gradiente de $C$ en función de los parámetros."
      ],
      "metadata": {
        "id": "QHh3ijg-9Ab5"
      }
    },
    {
      "cell_type": "code",
      "source": [
        "C.backward() #diferenciamos hacia atras la funcion de costes"
      ],
      "metadata": {
        "id": "3zqENACL9a30"
      },
      "execution_count": null,
      "outputs": []
    },
    {
      "cell_type": "code",
      "source": [
        "m.grad #ahora pedimos a gradiente de la funcion de costes\n",
        "#reducir la m es fundamental para reducir la funcion de costes"
      ],
      "metadata": {
        "id": "aujjPYgk9dpj"
      },
      "execution_count": null,
      "outputs": []
    },
    {
      "cell_type": "code",
      "source": [
        "b.grad\n",
        "b"
      ],
      "metadata": {
        "id": "dXsGkjKF9iUj"
      },
      "execution_count": null,
      "outputs": []
    },
    {
      "cell_type": "markdown",
      "source": [
        "**Paso 3**: Utilizar autodiff para calcular el gradiente de $C$ en función de los parámetros."
      ],
      "metadata": {
        "id": "8W_Vmf2W9-6e"
      }
    },
    {
      "cell_type": "code",
      "source": [
        "optimizer=torch.optim.SGD([m,b],lr=0.01) #gradiente descendente estocastico\n",
        "#optim es un metodo muy popular para reducir la gradiente\n",
        "#lr=learning rate"
      ],
      "metadata": {
        "id": "hVJi3AY8-BCu"
      },
      "execution_count": null,
      "outputs": []
    },
    {
      "cell_type": "code",
      "source": [
        "optimizer.step() #damos el siguiente paso para corregir m y b usando las gradientes calculados previamente"
      ],
      "metadata": {
        "id": "BJ-KVE82-U_Z"
      },
      "execution_count": null,
      "outputs": []
    },
    {
      "cell_type": "markdown",
      "source": [
        "Confirme que los parámetros se han ajustado con sensatez:"
      ],
      "metadata": {
        "id": "xRMjK5c7-k3x"
      }
    },
    {
      "cell_type": "code",
      "source": [
        "m"
      ],
      "metadata": {
        "id": "X_Maxgh3-nlH"
      },
      "execution_count": null,
      "outputs": []
    },
    {
      "cell_type": "code",
      "source": [
        "b"
      ],
      "metadata": {
        "id": "ghxzsabp-pzI"
      },
      "execution_count": null,
      "outputs": []
    },
    {
      "cell_type": "code",
      "source": [
        "regression_plot(x,y,m,b)"
      ],
      "metadata": {
        "id": "THbbeRXx-q3F"
      },
      "execution_count": null,
      "outputs": []
    },
    {
      "cell_type": "markdown",
      "source": [
        "Podemos repetir los pasos 1 y 2 para confirmar que el coste ha disminuido:"
      ],
      "metadata": {
        "id": "DRwVdk8iALkX"
      }
    },
    {
      "cell_type": "code",
      "source": [
        "C=mse(regression(x,m,b),y)\n",
        "C"
      ],
      "metadata": {
        "id": "5SKyYDIAANuh"
      },
      "execution_count": null,
      "outputs": []
    },
    {
      "cell_type": "code",
      "source": [
        "epochs=1000 #ronda de entrenamiendo\n",
        "for epoch in range(epochs):\n",
        "  optimizer.zero_grad()#Reinicial gradiente a zero; si no, se acumularia\n",
        "  yhat=regression(x,m,b) # Paso1\n",
        "  C=mse(yhat,y) # Paso 2\n",
        "\n",
        "  C.backward() #Paso 3 #hallamos la pendiente de funcion de costes la m y la b\n",
        "  optimizer.step() #PAso 4\n",
        "\n",
        "  print('Epoch {}, coste {}, m grad {}, b grad {}'.format(epoch, '%.3g' % C.item(), '%.3g' % m.grad.item(), '%.3g' % b.grad.item()))\n"
      ],
      "metadata": {
        "collapsed": true,
        "id": "LepjrvEhA3W_"
      },
      "execution_count": null,
      "outputs": []
    },
    {
      "cell_type": "code",
      "source": [
        "regression_plot(x,y,m,b)"
      ],
      "metadata": {
        "id": "-5-n0SWTCjaU"
      },
      "execution_count": null,
      "outputs": []
    },
    {
      "cell_type": "code",
      "source": [
        "m.item() #obtener los valores finales o flotantes"
      ],
      "metadata": {
        "id": "kWCrw4JdCEW5"
      },
      "execution_count": null,
      "outputs": []
    },
    {
      "cell_type": "code",
      "source": [
        "b.item()"
      ],
      "metadata": {
        "id": "nlHenJQfCHxk"
      },
      "execution_count": null,
      "outputs": []
    },
    {
      "cell_type": "markdown",
      "source": [
        "**N.B.**: El modelo no se aproxima perfectamente a la pendiente (-0,5) y a la intersección $y$ (2,0) utilizadas para simular los resultados $y$ en la parte superior de este cuaderno. Esto refleja la imperfección de la muestra de ocho puntos de datos debido a la adición de ruido aleatorio durante el paso de simulación. En el mundo real, la mejor solución sería muestrear puntos de datos adicionales: Cuantos más datos muestreemos, más precisas serán nuestras estimaciones de los verdaderos parámetros subyacentes."
      ],
      "metadata": {
        "id": "jS8yNkv4CNJU"
      }
    },
    {
      "cell_type": "markdown",
      "source": [
        "Ejercicios:\n",
        "1.- Use Pytorch (o TensorFlow, si lo desea) para encontrar la pendiente de y=x´2+2x+2 donde x=2"
      ],
      "metadata": {
        "id": "YGJzTHW2phZo"
      }
    },
    {
      "cell_type": "code",
      "source": [
        "import numpy as np\n",
        "import torch\n",
        "import matplotlib.pyplot as plt"
      ],
      "metadata": {
        "id": "-eV9qbV4qAGf"
      },
      "execution_count": null,
      "outputs": []
    },
    {
      "cell_type": "code",
      "source": [
        "x=torch.linspace(-10.,10.,1000)"
      ],
      "metadata": {
        "id": "PPRe7wWJtH-C"
      },
      "execution_count": null,
      "outputs": []
    },
    {
      "cell_type": "code",
      "source": [
        "def f(my_x):\n",
        "  my_y=my_x**2+2*x+2"
      ],
      "metadata": {
        "id": "LFt6cgdFvViX"
      },
      "execution_count": null,
      "outputs": []
    },
    {
      "cell_type": "code",
      "source": [
        "y=f(x)"
      ],
      "metadata": {
        "id": "GsUqd4LSIPww"
      },
      "execution_count": null,
      "outputs": []
    },
    {
      "cell_type": "code",
      "source": [
        "y=x**2+2*x+2"
      ],
      "metadata": {
        "id": "fIX-uSD4IXN9"
      },
      "execution_count": null,
      "outputs": []
    },
    {
      "cell_type": "code",
      "source": [
        "fig,ax=plt.subplots()\n",
        "plt.xlim([-10,10])\n",
        "plt.ylim([-10,140])\n",
        "plt.plot(x,y)\n",
        "plt.axvline(x=0,color='lightgray')\n",
        "plt.axhline(y=0,color='lightgray')\n",
        "ax.set_title('y=x**2+2*x+2')\n",
        "ax.set_xlabel('x')\n",
        "ax.set_ylabel('y')\n",
        "plt.grid(color='#dadada',linestyle='--')"
      ],
      "metadata": {
        "id": "2w6JScOyJhV2"
      },
      "execution_count": null,
      "outputs": []
    },
    {
      "cell_type": "code",
      "source": [
        "f(torch.tensor([2]))"
      ],
      "metadata": {
        "id": "er7mlBGbM7bx"
      },
      "execution_count": null,
      "outputs": []
    },
    {
      "cell_type": "code",
      "source": [
        "fig,ax=plt.subplots()\n",
        "plt.xlim([-10,10])\n",
        "plt.ylim([-10,140])\n",
        "plt.plot(x,y)\n",
        "ax.scatter(2,10,color='r')\n",
        "plt.axvline(x=0,color='lightgray')\n",
        "plt.axhline(y=0,color='lightgray')\n",
        "ax.set_title('y=x**2+2*x+2')\n",
        "ax.set_xlabel('x')\n",
        "ax.set_ylabel('y')\n",
        "plt.grid(color='#dadada',linestyle='--')\n",
        "\n"
      ],
      "metadata": {
        "id": "CVZggOYCNIH3"
      },
      "execution_count": null,
      "outputs": []
    },
    {
      "cell_type": "code",
      "source": [
        "f(5)"
      ],
      "metadata": {
        "id": "-Q9iY2PgVNYL"
      },
      "execution_count": null,
      "outputs": []
    },
    {
      "cell_type": "code",
      "source": [
        "fig,ax=plt.subplots()\n",
        "plt.xlim([-10,10])\n",
        "plt.ylim([-10,140])\n",
        "plt.plot(x,y)\n",
        "ax.scatter(2,10,color='y')\n",
        "ax.scatter(5,37,color='r')\n",
        "plt.axvline(x=0,color='lightgray')\n",
        "plt.axhline(y=0,color='lightgray')\n",
        "ax.set_title('y=x**2+2*x+2')\n",
        "ax.set_xlabel('x')\n",
        "ax.set_ylabel('y')\n",
        "plt.grid(color='#dadada',linestyle='--')\n"
      ],
      "metadata": {
        "id": "slSG1-d5dyd6"
      },
      "execution_count": null,
      "outputs": []
    },
    {
      "cell_type": "code",
      "source": [
        "m=(37-10)/(5-2)\n",
        "m"
      ],
      "metadata": {
        "id": "1lvwIT17hInt"
      },
      "execution_count": null,
      "outputs": []
    },
    {
      "cell_type": "code",
      "source": [
        "b=y-m*x"
      ],
      "metadata": {
        "id": "6Y88LIYvhQGk"
      },
      "execution_count": null,
      "outputs": []
    },
    {
      "cell_type": "code",
      "source": [
        "b=37-9*5\n",
        "b"
      ],
      "metadata": {
        "id": "eBYIgsHuhgLl"
      },
      "execution_count": null,
      "outputs": []
    },
    {
      "cell_type": "code",
      "source": [
        "my_y=m*x+b"
      ],
      "metadata": {
        "id": "B2tZhNHih0ir"
      },
      "execution_count": null,
      "outputs": []
    },
    {
      "cell_type": "code",
      "source": [
        "fig,ax=plt.subplots()\n",
        "plt.xlim([-10,10])\n",
        "plt.ylim([-10,140])\n",
        "plt.scatter(2,10,color='y')\n",
        "plt.scatter(5,37,color='r')\n",
        "plt.plot(x,y)\n",
        "plt.plot(x,my_y)\n",
        "plt.axvline(x=0,color='lightgray')\n",
        "plt.axhline(y=0,color='lightgray')"
      ],
      "metadata": {
        "id": "Sheqep0Qh41L"
      },
      "execution_count": null,
      "outputs": []
    },
    {
      "cell_type": "code",
      "source": [
        "f(2.1)"
      ],
      "metadata": {
        "id": "ewvipj0ditGi"
      },
      "execution_count": null,
      "outputs": []
    },
    {
      "cell_type": "code",
      "source": [
        "fig,ax=plt.subplots()\n",
        "plt.xlim([-10,10])\n",
        "plt.ylim([-10,140])\n",
        "plt.plot(x,y)\n",
        "ax.scatter(2,10,color='y')\n",
        "ax.scatter(2.1,10.61 ,color='r')\n",
        "plt.axvline(x=0,color='lightgray')\n",
        "plt.axhline(y=0,color='lightgray')\n",
        "plt.grid(color='#dadada',linestyle='--')"
      ],
      "metadata": {
        "id": "v7pSiZtliwaq"
      },
      "execution_count": null,
      "outputs": []
    },
    {
      "cell_type": "code",
      "source": [
        "m=(10.61-10)/(2.1-2)\n",
        "m"
      ],
      "metadata": {
        "id": "GdtvsJiKkPYQ"
      },
      "execution_count": null,
      "outputs": []
    },
    {
      "cell_type": "code",
      "source": [
        "b=10.61-m*2.1\n",
        "b"
      ],
      "metadata": {
        "id": "Mhw3QQS4kZX4"
      },
      "execution_count": null,
      "outputs": []
    },
    {
      "cell_type": "code",
      "source": [
        "line_y=m*x+b"
      ],
      "metadata": {
        "id": "84OgzPtpkhln"
      },
      "execution_count": null,
      "outputs": []
    },
    {
      "cell_type": "code",
      "source": [
        "fig,ax=plt.subplots()\n",
        "plt.xlim([-10,10])\n",
        "plt.ylim([-10,140])\n",
        "plt.scatter(2,10,color='y')\n",
        "plt.scatter(2.1,10.61 ,color='r')\n",
        "plt.plot(x,y)\n",
        "plt.plot(x,line_y)\n",
        "plt.axvline(x=0,color='lightgray')\n",
        "plt.axhline(y=0,color='lightgray')\n",
        "plt.grid(color='#dadada',linestyle='--')"
      ],
      "metadata": {
        "id": "3xx0I9iKkqV3"
      },
      "execution_count": null,
      "outputs": []
    },
    {
      "cell_type": "code",
      "source": [
        "delta_x=0.00001\n",
        "delta_x\n"
      ],
      "metadata": {
        "id": "KeSbtHDmlcnv"
      },
      "execution_count": null,
      "outputs": []
    },
    {
      "cell_type": "code",
      "source": [
        "#delta_x=x_2-x_1\n"
      ],
      "metadata": {
        "collapsed": true,
        "id": "hr4SbPCHl300"
      },
      "execution_count": null,
      "outputs": []
    },
    {
      "cell_type": "code",
      "source": [
        "x_2=delta_x+2\n",
        "x_2"
      ],
      "metadata": {
        "id": "0jCdOw-VmEFm"
      },
      "execution_count": null,
      "outputs": []
    },
    {
      "cell_type": "code",
      "source": [
        "y_1=f(2)"
      ],
      "metadata": {
        "id": "ih5k4Tm5mSwk"
      },
      "execution_count": null,
      "outputs": []
    },
    {
      "cell_type": "code",
      "source": [
        "y_2=f(2.00001)"
      ],
      "metadata": {
        "id": "D_BkTgIHmXrU"
      },
      "execution_count": null,
      "outputs": []
    },
    {
      "cell_type": "code",
      "source": [
        "m=(8.00001-9)/(2.00001-2)\n",
        "m"
      ],
      "metadata": {
        "id": "5ZM0RWC6mdts"
      },
      "execution_count": null,
      "outputs": []
    },
    {
      "cell_type": "code",
      "source": [
        "b=8.000001-m*(2.000001)\n",
        "b"
      ],
      "metadata": {
        "id": "7_d-pphvoPS2"
      },
      "execution_count": null,
      "outputs": []
    },
    {
      "cell_type": "code",
      "source": [
        "line_y=m*x+b"
      ],
      "metadata": {
        "id": "-lkixAh2oXfR"
      },
      "execution_count": null,
      "outputs": []
    },
    {
      "cell_type": "code",
      "source": [
        "fig,ax=plt.subplots()\n",
        "plt.xlim([-10,10])\n",
        "plt.ylim([-10,140])\n",
        "plt.scatter(2,10,color='y')\n",
        "plt.scatter(2.000001,10 ,color='r')\n",
        "plt.plot(x,y)\n",
        "plt.plot(x,line_y)"
      ],
      "metadata": {
        "id": "Usu-vMoHocif"
      },
      "execution_count": null,
      "outputs": []
    },
    {
      "cell_type": "markdown",
      "source": [
        "Para encontrar la pendiente (derivada) de la función y=x2+2x+2 en el punto x=2 usando PyTorch, seguiremos estos pasos:"
      ],
      "metadata": {
        "id": "Xtu95SAyqJBu"
      }
    },
    {
      "cell_type": "code",
      "source": [
        "import torch"
      ],
      "metadata": {
        "id": "qhla4S_sqYq1"
      },
      "execution_count": null,
      "outputs": []
    },
    {
      "cell_type": "markdown",
      "source": [
        "# 1. Definir la variable x con requires_grad=True (para calcular gradientes)"
      ],
      "metadata": {
        "id": "-9R2wuNgqgyc"
      }
    },
    {
      "cell_type": "code",
      "source": [
        "x=torch.tensor(2.0,requires_grad=True)\n",
        "x"
      ],
      "metadata": {
        "id": "t5TIWaT6qdK3"
      },
      "execution_count": null,
      "outputs": []
    },
    {
      "cell_type": "markdown",
      "source": [
        "# 2. Definir la función y"
      ],
      "metadata": {
        "id": "CxDCg7A5q7q6"
      }
    },
    {
      "cell_type": "code",
      "source": [
        "y=x**2+2*x+2"
      ],
      "metadata": {
        "id": "kBPfxCVIq4Zl"
      },
      "execution_count": null,
      "outputs": []
    },
    {
      "cell_type": "markdown",
      "source": [
        "# 3. Calcular la derivada (pendiente)"
      ],
      "metadata": {
        "id": "7YciNRFGrHFb"
      }
    },
    {
      "cell_type": "code",
      "source": [
        "y.backward()\n"
      ],
      "metadata": {
        "id": "8AIqckLUrIqk"
      },
      "execution_count": null,
      "outputs": []
    },
    {
      "cell_type": "markdown",
      "source": [
        "# 4. Obtener la pendiente en x=2"
      ],
      "metadata": {
        "id": "HpKxuPTIrXq0"
      }
    },
    {
      "cell_type": "code",
      "source": [
        "pendiente=x.grad.item()"
      ],
      "metadata": {
        "id": "jqcOz6vorZ2b"
      },
      "execution_count": null,
      "outputs": []
    },
    {
      "cell_type": "code",
      "source": [
        "f'La pendiente en x=2 es {pendiente}'"
      ],
      "metadata": {
        "id": "DOdcrPQNrfcE"
      },
      "execution_count": null,
      "outputs": []
    }
  ]
}