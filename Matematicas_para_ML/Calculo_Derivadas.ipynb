{
  "nbformat": 4,
  "nbformat_minor": 0,
  "metadata": {
    "colab": {
      "private_outputs": true,
      "provenance": []
    },
    "kernelspec": {
      "name": "python3",
      "display_name": "Python 3"
    },
    "language_info": {
      "name": "python"
    }
  },
  "cells": [
    {
      "cell_type": "markdown",
      "source": [
        "##Segmento 2: Calculo de Derivadas con Diferenciacion"
      ],
      "metadata": {
        "id": "0hJCDBbAYvbU"
      }
    },
    {
      "cell_type": "markdown",
      "source": [
        "Traigamos de vuelta a nuestro viejo amigo y=x2+2x+2:"
      ],
      "metadata": {
        "id": "4vpglPSNY-Tr"
      }
    },
    {
      "cell_type": "code",
      "source": [
        "import numpy as np\n",
        "import matplotlib.pyplot as plt"
      ],
      "metadata": {
        "id": "Szuma1eOa3nr"
      },
      "execution_count": null,
      "outputs": []
    },
    {
      "cell_type": "code",
      "source": [
        "x=np.linspace(-10,10,10000)"
      ],
      "metadata": {
        "collapsed": true,
        "id": "JsVFtYx0a66x"
      },
      "execution_count": null,
      "outputs": []
    },
    {
      "cell_type": "code",
      "source": [
        "def f(my_x):\n",
        "  my_y=my_x**2+2*my_x+2\n",
        "  return my_y"
      ],
      "metadata": {
        "id": "LRz4Eo9pZElr"
      },
      "execution_count": null,
      "outputs": []
    },
    {
      "cell_type": "code",
      "source": [
        "y=f(x)"
      ],
      "metadata": {
        "id": "q7Ck8wpRZMVR"
      },
      "execution_count": null,
      "outputs": []
    },
    {
      "cell_type": "markdown",
      "source": [
        "##Si y=x2+2x+2:"
      ],
      "metadata": {
        "id": "Ez4Po5vLbhhJ"
      }
    },
    {
      "cell_type": "code",
      "source": [
        "y=x**2+2*x+2"
      ],
      "metadata": {
        "id": "dYLGBZAGbnSx"
      },
      "execution_count": null,
      "outputs": []
    },
    {
      "cell_type": "code",
      "source": [
        "fig,ax=plt.subplots()\n",
        "ax.plot(x,y)\n",
        "plt.axvline(x=0,color='lightgray')\n",
        "plt.axhline(y=0,color='lightgray')\n",
        "ax.set_xlabel('x')\n",
        "ax.set_ylabel('y')\n",
        "ax.set_title('y=x**2+2*x+2')\n",
        "plt.grid(color='#dadada',linestyle='--')\n"
      ],
      "metadata": {
        "id": "-viCAa3Ycjnf"
      },
      "execution_count": null,
      "outputs": []
    },
    {
      "cell_type": "markdown",
      "source": [
        "* No hay líneas rectas en la curva.\n",
        "* Sin embargo, si nos acercamos _infinitamente_, observamos curvas que se _aproximan_ a rectas.\n",
        "* Esto nos permite encontrar una pendiente $m$ (tangente) en cualquier punto de la curva, incluso identificar dónde $m = 0$:"
      ],
      "metadata": {
        "id": "2Sii8omRdjHG"
      }
    },
    {
      "cell_type": "markdown",
      "source": [
        "Identifiquemos la pendiente por ejemplo en $x = 2$."
      ],
      "metadata": {
        "id": "qFHsXuo_eBUh"
      }
    },
    {
      "cell_type": "markdown",
      "source": [
        "Primero determinemos el valor de y $y$:"
      ],
      "metadata": {
        "id": "cPXf0UgZeDzO"
      }
    },
    {
      "cell_type": "code",
      "source": [
        "f(2)"
      ],
      "metadata": {
        "id": "uz9iNvVSeHuy"
      },
      "execution_count": null,
      "outputs": []
    },
    {
      "cell_type": "code",
      "source": [
        "fig,ax=plt.subplots()\n",
        "plt.axvline(x=0,color='lightgray')\n",
        "plt.axhline(y=0,color='lightgray')\n",
        "ax.set_xlabel('x')\n",
        "ax.set_ylabel('y')\n",
        "ax.set_title('y=x**2+2*x+2')\n",
        "plt.grid(color='#dadada',linestyle='--')\n",
        "ax.plot(x,y)\n",
        "plt.scatter(2,f(2),color='red')"
      ],
      "metadata": {
        "id": "Ih50_czeeiem"
      },
      "execution_count": null,
      "outputs": []
    },
    {
      "cell_type": "markdown",
      "source": [
        "El *método delta* utiliza la diferencia entre dos puntos para calcular la pendiente. Para ilustrarlo, definamos otro punto, $Q$ donde, digamos, $x = 5$."
      ],
      "metadata": {
        "id": "N4TLHc2zxy_h"
      }
    },
    {
      "cell_type": "code",
      "source": [
        "f(5)"
      ],
      "metadata": {
        "id": "ZSMCOzXhx6ts"
      },
      "execution_count": null,
      "outputs": []
    },
    {
      "cell_type": "code",
      "source": [
        "fig,ax=plt.subplots()\n",
        "plt.axvline(x=0,color='lightgray')\n",
        "plt.axhline(y=0,color='lightgray')\n",
        "ax.set_xlabel('x')\n",
        "ax.set_ylabel('y')\n",
        "ax.set_title('y=x**2+2*x+2')\n",
        "plt.grid(color='#dadada',linestyle='--')\n",
        "ax.plot(x,y)\n",
        "plt.scatter(2,f(2),color='red')\n",
        "plt.scatter(5,f(5),color='yellow')"
      ],
      "metadata": {
        "id": "d5LDSmj3yDGc"
      },
      "execution_count": null,
      "outputs": []
    },
    {
      "cell_type": "markdown",
      "source": [
        "Hallar la pendiente $m$ entre los puntos $P$ y $Q$:$$m = \\frac{\\text{cambio en }y}{\\text{cambio en }x} = \\frac{\\Delta y}{\\Delta x} = \\frac{y_2 - y_1}{x_2 - x_1} = \\frac{37-10}{5-2} = \\frac{27}{3} = 9$$"
      ],
      "metadata": {
        "id": "rhyKO4lEyuF_"
      }
    },
    {
      "cell_type": "code",
      "source": [
        "m=(37-10)/(5-2)\n",
        "m"
      ],
      "metadata": {
        "id": "oOn4WmaVyvxD"
      },
      "execution_count": null,
      "outputs": []
    },
    {
      "cell_type": "markdown",
      "source": [
        "Para representar la recta que pasa por $P$ y $Q$, podemos reordenar la ecuación de la recta $y = mx + b$ para resolver $b$:\n",
        "$$b = y - mx$$"
      ],
      "metadata": {
        "id": "LdjyE-OH2E1p"
      }
    },
    {
      "cell_type": "code",
      "source": [
        "b=y-m*x"
      ],
      "metadata": {
        "id": "64wpKxKP2JGw"
      },
      "execution_count": null,
      "outputs": []
    },
    {
      "cell_type": "code",
      "source": [
        "b=37-m*5\n",
        "b"
      ],
      "metadata": {
        "id": "z3wGS83X2RCh"
      },
      "execution_count": null,
      "outputs": []
    },
    {
      "cell_type": "code",
      "source": [
        "line_y=m*x+b"
      ],
      "metadata": {
        "id": "jRJn8IfU3Bcw"
      },
      "execution_count": null,
      "outputs": []
    },
    {
      "cell_type": "code",
      "source": [
        "fig,ax=plt.subplots()\n",
        "plt.axvline(x=0,color='lightgray')\n",
        "plt.axhline(y=0,color='lightgray')\n",
        "plt.scatter(2,10,color='red')\n",
        "plt.scatter(5,37,color='yellow',zorder=3)\n",
        "ax.set_xlabel('x')\n",
        "ax.set_ylabel('y')\n",
        "ax.set_title('y=x**2+2*x+2')\n",
        "plt.grid(color='#dadada',linestyle='--')\n",
        "plt.xlim(-10,10)\n",
        "plt.ylim(-15,150)\n",
        "ax.plot(x,line_y,color='green')\n",
        "ax.plot(x,y)\n"
      ],
      "metadata": {
        "id": "ZJsLTrBZ3KdI"
      },
      "execution_count": null,
      "outputs": []
    },
    {
      "cell_type": "markdown",
      "source": [
        "Cuanto más se acerque $Q$ a $P$, más se acercará la pendiente $m$ a ser la verdadera tangente del punto $P$. Vamos a demostrarlo con otro punto $Q$ en $x = 2,1$."
      ],
      "metadata": {
        "id": "njgZ2Bbs5VfM"
      }
    },
    {
      "cell_type": "markdown",
      "source": [
        "Antes, nuestra $\\Delta x$ entre $Q$ y $P$ era igual a 3. Ahora es mucho menor: $$\\Delta x = x_2 - x_1 = 2,1 - 2 = 0,1 $$"
      ],
      "metadata": {
        "id": "agGxGfF852CX"
      }
    },
    {
      "cell_type": "code",
      "source": [
        "f(2.1)"
      ],
      "metadata": {
        "id": "5EBeLhvQ5-uG"
      },
      "execution_count": null,
      "outputs": []
    },
    {
      "cell_type": "code",
      "source": [
        "fig,ax=plt.subplots()\n",
        "plt.axvline(x=0,color='lightgray')\n",
        "plt.axhline(y=0,color='lightgray')\n",
        "plt.scatter(2,10,color='red')\n",
        "plt.scatter(2.1,10.61,color='yellow',zorder=3)\n",
        "ax.set_xlabel('x')\n",
        "ax.set_ylabel('y')\n",
        "ax.set_title('y=x**2+2*x+2')\n",
        "plt.grid(color='#dadada',linestyle='--')\n",
        "plt.xlim(-10,10)\n",
        "plt.ylim(-15,150)\n",
        "ax.plot(x,y)"
      ],
      "metadata": {
        "id": "zddCddUd6LGX"
      },
      "execution_count": null,
      "outputs": []
    },
    {
      "cell_type": "code",
      "source": [
        "m=(10.61-10)/(2.1-2)\n",
        "m"
      ],
      "metadata": {
        "id": "nsR7Or767O-X"
      },
      "execution_count": null,
      "outputs": []
    },
    {
      "cell_type": "code",
      "source": [
        "b=10.61-m*2.1\n",
        "b"
      ],
      "metadata": {
        "id": "c5-jZQd77dgc"
      },
      "execution_count": null,
      "outputs": []
    },
    {
      "cell_type": "code",
      "source": [
        "line_y=m*x+b"
      ],
      "metadata": {
        "id": "sxROvHLr7sk1"
      },
      "execution_count": null,
      "outputs": []
    },
    {
      "cell_type": "code",
      "source": [
        "fig,ax=plt.subplots()\n",
        "plt.axvline(x=0,color='lightgray')\n",
        "plt.axhline(y=0,color='lightgray')\n",
        "plt.scatter(2,10,color='red')\n",
        "plt.scatter(2.1,10.6,color='yellow',zorder=3)\n",
        "ax.set_xlabel('x')\n",
        "ax.set_ylabel('y')\n",
        "ax.set_title('y=x**2+2*x+2')\n",
        "plt.grid(color='#dadada',linestyle='--')\n",
        "plt.xlim(-10,10)\n",
        "plt.ylim(-15,150)\n",
        "ax.plot(x,line_y,color='green')\n",
        "ax.plot(x,y)"
      ],
      "metadata": {
        "id": "q9I56q077zBL"
      },
      "execution_count": null,
      "outputs": []
    },
    {
      "cell_type": "markdown",
      "source": [
        "Cuanto más se acerca $Q$ a $P$ (es decir, $\\Delta x$ se aproxima a 0), más claro resulta que la pendiente $m$ en el punto $P$ = (2, 10) es igual a 6."
      ],
      "metadata": {
        "id": "YzNwTpoA8kQG"
      }
    },
    {
      "cell_type": "markdown",
      "source": [
        "Hagamos $\\Delta x$ extremadamente pequeño, 0,000001, para ilustrar esto:"
      ],
      "metadata": {
        "id": "ySqju5oP8n7e"
      }
    },
    {
      "cell_type": "code",
      "source": [
        "delta_x=0.000001\n",
        "delta_x"
      ],
      "metadata": {
        "id": "11M7vSWH8vAM"
      },
      "execution_count": null,
      "outputs": []
    },
    {
      "cell_type": "code",
      "source": [
        "#delta_x=x_2-x_1"
      ],
      "metadata": {
        "id": "98onx92AIGBd"
      },
      "execution_count": null,
      "outputs": []
    },
    {
      "cell_type": "code",
      "source": [
        "x_2=delta_x+2\n",
        "x_2"
      ],
      "metadata": {
        "id": "zTSAIcs2IbL8"
      },
      "execution_count": null,
      "outputs": []
    },
    {
      "cell_type": "code",
      "source": [
        "y_1=f(2)"
      ],
      "metadata": {
        "id": "-sqpzYCsJRZi"
      },
      "execution_count": null,
      "outputs": []
    },
    {
      "cell_type": "code",
      "source": [
        "y_2=f(2.000001)"
      ],
      "metadata": {
        "id": "dsH634m8Jfoa"
      },
      "execution_count": null,
      "outputs": []
    },
    {
      "cell_type": "code",
      "source": [
        "m=(y_2-y_1)/(x_2-2)\n",
        "m"
      ],
      "metadata": {
        "id": "nYPGsss4JnCi"
      },
      "execution_count": null,
      "outputs": []
    },
    {
      "cell_type": "code",
      "source": [
        "b=y_2-m*(2.000001)\n",
        "b"
      ],
      "metadata": {
        "id": "ecuxLwdkKegE"
      },
      "execution_count": null,
      "outputs": []
    },
    {
      "cell_type": "code",
      "source": [
        "line_y=m*x+b"
      ],
      "metadata": {
        "id": "7d9M5QS2LcOR"
      },
      "execution_count": null,
      "outputs": []
    },
    {
      "cell_type": "code",
      "source": [
        "fig,ax=plt.subplots()\n",
        "plt.axvline(x=0,color='lightgray')\n",
        "plt.axhline(y=0,color='lightgray')\n",
        "plt.scatter(2,10,color='red')\n",
        "plt.scatter(2.000001,y_2,color='yellow')\n",
        "plt.plot(x,line_y,color='green')\n",
        "ax.set_xlabel('x')\n",
        "ax.set_ylabel('y')\n",
        "ax.set_title('y=x**2+2*x+2')\n",
        "plt.plot(x,y)\n",
        "plt.grid(color='#dadada',linestyle='--')\n"
      ],
      "metadata": {
        "id": "o6i_bdDjLjUY"
      },
      "execution_count": null,
      "outputs": []
    },
    {
      "cell_type": "markdown",
      "source": [
        "¡Boom! Utilizando el método delta, hemos demostrado que en el punto $P$, la pendiente de la curva es 6."
      ],
      "metadata": {
        "id": "MPTJjjz-OKeK"
      }
    },
    {
      "cell_type": "markdown",
      "source": [
        "**Ejercicio**: Utilizando el método delta, halla la pendiente de la tangente donde $x = -1$."
      ],
      "metadata": {
        "id": "NdXvRx4tON8_"
      }
    },
    {
      "cell_type": "code",
      "source": [
        "x=np.linspace(-10,10,10000)"
      ],
      "metadata": {
        "id": "TytfQbqxQmnN"
      },
      "execution_count": null,
      "outputs": []
    },
    {
      "cell_type": "code",
      "source": [
        "y=f(-1)\n",
        "y"
      ],
      "metadata": {
        "id": "jpCyEalqOTfW"
      },
      "execution_count": null,
      "outputs": []
    },
    {
      "cell_type": "code",
      "source": [
        "y=x**2+2*x+2"
      ],
      "metadata": {
        "id": "-vw6CvlWTgQT"
      },
      "execution_count": null,
      "outputs": []
    },
    {
      "cell_type": "code",
      "source": [
        "fig.ax=plt.subplots()\n",
        "plt.axvline(x=0,color='lightgray')\n",
        "plt.axhline(y=0,color='lightgray')\n",
        "plt.xlim(-10,10)\n",
        "plt.ylim(-15,150)\n",
        "ax.set_xlabel('x')\n",
        "ax.set_ylabel('y')\n",
        "ax.set_title('y=x**2+2*x+2')\n",
        "plt.grid(color='#dadada',linestyle='--')\n",
        "plt.plot(x,y,color='lightblue')\n",
        "plt.scatter(-1,1,color='red')\n",
        "plt.scatter(1,5,color='yellow')"
      ],
      "metadata": {
        "id": "I6ZJcoP2Vrdp"
      },
      "execution_count": null,
      "outputs": []
    },
    {
      "cell_type": "code",
      "source": [
        "y=f(1)\n",
        "y"
      ],
      "metadata": {
        "id": "e0jMK8GaXiu5"
      },
      "execution_count": null,
      "outputs": []
    },
    {
      "cell_type": "code",
      "source": [
        "y=x**2+2*x+2"
      ],
      "metadata": {
        "id": "g3VDme9_JylV"
      },
      "execution_count": null,
      "outputs": []
    },
    {
      "cell_type": "code",
      "source": [
        "fig.ax=plt.subplots()\n",
        "plt.axvline(x=0,color='lightgray')\n",
        "plt.axhline(y=0,color='lightgray')\n",
        "plt.plot(x,y,color='lightblue')\n",
        "plt.xlim(-10,10)\n",
        "plt.ylim(-15,150)\n",
        "plt.scatter(-1,1,color='red')\n",
        "plt.scatter(1,5,color='yellow')\n",
        "ax.set_xlabel('x')\n",
        "ax.set_ylabel('y')\n",
        "ax.set_title('y=x**2+2*x+2')\n",
        "plt.grid(color='#dadada',linestyle='--')\n"
      ],
      "metadata": {
        "id": "Q1MPdwPpYYVL"
      },
      "execution_count": null,
      "outputs": []
    },
    {
      "cell_type": "code",
      "source": [
        "m=(f(1)-f(-1))/(1-(-1))\n",
        "m"
      ],
      "metadata": {
        "id": "aySBlohUXpBY"
      },
      "execution_count": null,
      "outputs": []
    },
    {
      "cell_type": "code",
      "source": [
        "b=y-m*x"
      ],
      "metadata": {
        "id": "dTjyhZn3YRF5"
      },
      "execution_count": null,
      "outputs": []
    },
    {
      "cell_type": "code",
      "source": [
        "b=5-2*1\n",
        "b"
      ],
      "metadata": {
        "id": "QdkunZqoNM_8"
      },
      "execution_count": null,
      "outputs": []
    },
    {
      "cell_type": "code",
      "source": [
        "line_y=m*x+b"
      ],
      "metadata": {
        "id": "l8hLyL3iNbhC"
      },
      "execution_count": null,
      "outputs": []
    },
    {
      "cell_type": "code",
      "source": [
        "fig.ax=plt.subplots()\n",
        "plt.axvline(x=0,color='lightgray')\n",
        "plt.axhline(y=0,color='lightgray')\n",
        "plt.plot(x,y,color='lightblue')\n",
        "plt.xlim(-10,10)\n",
        "plt.ylim(-15,150)\n",
        "plt.scatter(-1,1,color='red')\n",
        "plt.scatter(1,5,color='yellow')\n",
        "plt.plot(x,line_y,color='green')\n",
        "ax.set_xlabel('x')\n",
        "ax.set_ylabel('y')\n",
        "ax.set_title('y=x**2+2*x+2')\n",
        "plt.grid(color='#dadada',linestyle='--')\n"
      ],
      "metadata": {
        "id": "8-DWfMUONzlJ"
      },
      "execution_count": null,
      "outputs": []
    },
    {
      "cell_type": "code",
      "source": [
        "delta_x=0.000001\n",
        "delta_x"
      ],
      "metadata": {
        "id": "JweY5YMGOmzX"
      },
      "execution_count": null,
      "outputs": []
    },
    {
      "cell_type": "code",
      "source": [
        "x_2=delta_x+(-1)\n",
        "x_2"
      ],
      "metadata": {
        "id": "nAcZpmJYPANu"
      },
      "execution_count": null,
      "outputs": []
    },
    {
      "cell_type": "code",
      "source": [
        "y_1=f(-1)\n",
        "y_1"
      ],
      "metadata": {
        "id": "UWZGID-oPyqe"
      },
      "execution_count": null,
      "outputs": []
    },
    {
      "cell_type": "code",
      "source": [
        "y_2=f(x_2)\n",
        "y_2"
      ],
      "metadata": {
        "id": "aam2kG1nP81C"
      },
      "execution_count": null,
      "outputs": []
    },
    {
      "cell_type": "code",
      "source": [
        "fig,ax=plt.subplots()\n",
        "plt.axvline(x=0,color='lightgray')\n",
        "plt.axhline(y=0,color='lightgray')\n",
        "plt.xlim(-10,10)\n",
        "plt.ylim(-15,150)\n",
        "plt.scatter(-1,1,color='red')\n",
        "plt.scatter(x_2,y_2,color='yellow')\n",
        "plt.plot(x,y,color='lightblue')"
      ],
      "metadata": {
        "id": "coXbZxaMSHqc"
      },
      "execution_count": null,
      "outputs": []
    },
    {
      "cell_type": "code",
      "source": [
        "m=(f(x_2)-f(-1))/(x_2-(-1))\n",
        "m"
      ],
      "metadata": {
        "id": "VgX5SXELTUTw"
      },
      "execution_count": null,
      "outputs": []
    },
    {
      "cell_type": "code",
      "source": [
        "b=y_2-m*x_2\n",
        "b"
      ],
      "metadata": {
        "id": "L0tm92InWqKY"
      },
      "execution_count": null,
      "outputs": []
    },
    {
      "cell_type": "code",
      "source": [
        "line_y=m*x+b"
      ],
      "metadata": {
        "id": "HwvVWfdoXc-d"
      },
      "execution_count": null,
      "outputs": []
    },
    {
      "cell_type": "code",
      "source": [
        "fig,ax=plt.subplots()\n",
        "plt.axvline(x=0,color='lightgray')\n",
        "plt.axhline(y=0,color='lightgray')\n",
        "plt.plot(x,y,color='lightblue')\n",
        "plt.xlim(-10,10)\n",
        "plt.ylim(-15,150)\n",
        "plt.scatter(-1,1,color='red')\n",
        "plt.scatter(x_2,y_2,color='yellow')\n",
        "plt.plot(x,line_y,color='green')\n",
        "plt.grid(color='#dadada',linestyle='--')\n",
        "ax.set_xlabel('x')\n",
        "ax.set_ylabel('y')\n",
        "ax.set_title('y=x**2+2*x+2')"
      ],
      "metadata": {
        "id": "SiogKXa9XhDU"
      },
      "execution_count": null,
      "outputs": []
    },
    {
      "cell_type": "markdown",
      "source": [
        "Como $Q$ se hace infinitamente cerca de $P$:\n",
        "* $x_2$ - $x_1$ se aproxima a 0\n",
        "* En otras palabras, $\\Delta x$ se aproxima a 0.\n",
        "* Esto se puede denotar como $\\Delta x \\to 0$"
      ],
      "metadata": {
        "id": "MAc_4njCGrLZ"
      }
    },
    {
      "cell_type": "markdown",
      "source": [
        "Utilizando el método delta, hemos obtenido la definición de diferenciación a partir de los primeros principios. La derivada de $y$ (denotado $dy$) con respecto a $x$ (denotado $dx$) se puede representar como:\n",
        "$$\\frac{dy}{dx} = \\lim_{\\Delta x \\to 0} \\frac{\\Delta y}{\\Delta x}$$"
      ],
      "metadata": {
        "id": "n17yMSDIGskw"
      }
    },
    {
      "cell_type": "markdown",
      "source": [
        "Expandiendo $\\Delta y$ a $y_2 - y_1$:\n",
        "$$\\frac{dy}{dx} = \\lim_{\\Delta x \\to 0} \\frac{y_2 - y_1}{\\Delta x}$$"
      ],
      "metadata": {
        "id": "3GJY1llcG2A4"
      }
    },
    {
      "cell_type": "markdown",
      "source": [
        "Finalmente, sustituyendo $y_1$ por $f(x)$ y sustituyendo $y_2$ por $f(x + \\Delta x)$, obtenemos una representación común de la diferenciación:\n",
        "$$\\frac{dy}{dx} = \\lim_{\\Delta x \\to 0} \\frac{f(x + \\Delta x) - f(x)}{\\Delta x}$$"
      ],
      "metadata": {
        "id": "3jDuA0qxG_Eu"
      }
    },
    {
      "cell_type": "markdown",
      "source": [
        "Observemos la ecuación de diferenciación en acción:"
      ],
      "metadata": {
        "id": "0isyq6TOHEyH"
      }
    },
    {
      "cell_type": "code",
      "source": [
        "def dif_demo(my_f,my_x,my_delta):\n",
        "  my_y=(my_f(my_x+my_delta)-my_f(my_x))/my_delta\n",
        "  return my_y"
      ],
      "metadata": {
        "id": "A5lMjJpeIK4W"
      },
      "execution_count": null,
      "outputs": []
    },
    {
      "cell_type": "code",
      "source": [
        "deltas=[1,0.1,0.01,0.001,0.0001,0.00001,0.000001]"
      ],
      "metadata": {
        "id": "IyDyk3dDIuxP"
      },
      "execution_count": null,
      "outputs": []
    },
    {
      "cell_type": "code",
      "source": [
        "for delta in deltas:\n",
        "  print(dif_demo(f,2,delta))"
      ],
      "metadata": {
        "id": "BGGxu96zKO9W"
      },
      "execution_count": null,
      "outputs": []
    },
    {
      "cell_type": "code",
      "source": [
        "for delta in deltas:\n",
        "  print(dif_demo(f,-1,delta))"
      ],
      "metadata": {
        "id": "VznbjhTSMdN9"
      },
      "execution_count": null,
      "outputs": []
    }
  ]
}