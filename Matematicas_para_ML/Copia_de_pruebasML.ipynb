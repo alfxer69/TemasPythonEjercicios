{
  "nbformat": 4,
  "nbformat_minor": 0,
  "metadata": {
    "colab": {
      "private_outputs": true,
      "provenance": [],
      "cell_execution_strategy": "setup",
      "authorship_tag": "ABX9TyMTMZ/nFR68iyo23rm9G5Iq",
      "include_colab_link": true
    },
    "kernelspec": {
      "name": "python3",
      "display_name": "Python 3"
    },
    "language_info": {
      "name": "python"
    }
  },
  "cells": [
    {
      "cell_type": "markdown",
      "metadata": {
        "id": "view-in-github",
        "colab_type": "text"
      },
      "source": [
        "<a href=\"https://colab.research.google.com/github/alfxer69/TemasPythonEjercicios/blob/main/Copia_de_pruebasML.ipynb\" target=\"_parent\"><img src=\"https://colab.research.google.com/assets/colab-badge.svg\" alt=\"Open In Colab\"/></a>"
      ]
    },
    {
      "cell_type": "code",
      "execution_count": null,
      "metadata": {
        "id": "k6WyT30Gx27X"
      },
      "outputs": [],
      "source": [
        "import torch\n",
        "import math\n",
        "\n",
        "\n",
        "dtype = torch.float\n",
        "device = torch.device(\"cpu\")\n",
        "# device = torch.device(\"cuda:0\") # Uncomment this to run on GPU\n",
        "\n",
        "# Create random input and output data\n",
        "x = torch.linspace(-math.pi, math.pi, 2000, device=device, dtype=dtype)\n",
        "y = torch.sin(x)\n",
        "\n",
        "# Randomly initialize weights\n",
        "a = torch.randn((), device=device, dtype=dtype)\n",
        "b = torch.randn((), device=device, dtype=dtype)\n",
        "c = torch.randn((), device=device, dtype=dtype)\n",
        "d = torch.randn((), device=device, dtype=dtype)\n",
        "\n",
        "learning_rate = 1e-6\n",
        "for t in range(2000):\n",
        "    # Forward pass: compute predicted y\n",
        "    y_pred = a + b * x + c * x ** 2 + d * x ** 3\n",
        "\n",
        "    # Compute and print loss\n",
        "    loss = (y_pred - y).pow(2).sum().item()\n",
        "    if t % 100 == 99:\n",
        "        print(t, loss)\n",
        "\n",
        "    # Backprop to compute gradients of a, b, c, d with respect to loss\n",
        "    grad_y_pred = 2.0 * (y_pred - y)\n",
        "    grad_a = grad_y_pred.sum()\n",
        "    grad_b = (grad_y_pred * x).sum()\n",
        "    grad_c = (grad_y_pred * x ** 2).sum()\n",
        "    grad_d = (grad_y_pred * x ** 3).sum()\n",
        "\n",
        "    # Update weights using gradient descent\n",
        "    a -= learning_rate * grad_a\n",
        "    b -= learning_rate * grad_b\n",
        "    c -= learning_rate * grad_c\n",
        "    d -= learning_rate * grad_d\n",
        "\n",
        "\n",
        "print(f'Result: y = {a.item()} + {b.item()} x + {c.item()} x^2 + {d.item()} x^3')"
      ]
    },
    {
      "cell_type": "code",
      "source": [
        "import tensorflow as tf\n",
        "\n",
        "rank_0_tensor = tf.constant(4)\n",
        "print(rank_0_tensor)"
      ],
      "metadata": {
        "id": "zHFsgH2C1Y_j"
      },
      "execution_count": null,
      "outputs": []
    },
    {
      "cell_type": "code",
      "source": [
        "x_tf = tf.Variable(25)\n",
        "x_tf"
      ],
      "metadata": {
        "id": "w73-Z-Sv48ZJ"
      },
      "execution_count": null,
      "outputs": []
    },
    {
      "cell_type": "code",
      "source": [
        "x_tf.shape"
      ],
      "metadata": {
        "id": "b3elXZwa5iv4"
      },
      "execution_count": null,
      "outputs": []
    },
    {
      "cell_type": "code",
      "source": [
        "y_tf=tf.Variable(3,dtype=tf.int32)\n",
        "y_tf"
      ],
      "metadata": {
        "id": "l71ay6WY5xin"
      },
      "execution_count": null,
      "outputs": []
    },
    {
      "cell_type": "code",
      "source": [
        "x_tf+y_tf"
      ],
      "metadata": {
        "id": "WVggX9Oh6E3o"
      },
      "execution_count": null,
      "outputs": []
    },
    {
      "cell_type": "code",
      "source": [
        "tf_sum=tf.add(x_tf,y_tf)\n",
        "tf_sum"
      ],
      "metadata": {
        "id": "GTbV7tFS6Jve"
      },
      "execution_count": null,
      "outputs": []
    },
    {
      "cell_type": "code",
      "source": [
        "tf_sum.numpy()"
      ],
      "metadata": {
        "id": "pD-flkGZ6WrI"
      },
      "execution_count": null,
      "outputs": []
    },
    {
      "cell_type": "code",
      "source": [
        "tf_x=tf.Variable(25.,dtype=tf.float32)\n",
        "tf_x"
      ],
      "metadata": {
        "id": "L7OLSI4X81Xq"
      },
      "execution_count": null,
      "outputs": []
    },
    {
      "cell_type": "code",
      "source": [
        "tf_x.numpy()"
      ],
      "metadata": {
        "id": "rzevMoYC9FS1"
      },
      "execution_count": null,
      "outputs": []
    },
    {
      "cell_type": "markdown",
      "source": [
        "## Numpy Vectores"
      ],
      "metadata": {
        "id": "t72K0LbHZUrD"
      }
    },
    {
      "cell_type": "code",
      "source": [
        "import numpy as np\n",
        "\n",
        "x=np.array([25,2,5])\n",
        "x"
      ],
      "metadata": {
        "id": "XZMwSNRHZcTU"
      },
      "execution_count": null,
      "outputs": []
    },
    {
      "cell_type": "code",
      "source": [
        "print(len(x))\n",
        "print(type(x))\n",
        "x[0]\n"
      ],
      "metadata": {
        "id": "DLQj1gbmaE7i"
      },
      "execution_count": null,
      "outputs": []
    },
    {
      "cell_type": "code",
      "source": [
        "type(x[0])"
      ],
      "metadata": {
        "id": "Dmvnrv_haWm6"
      },
      "execution_count": null,
      "outputs": []
    },
    {
      "cell_type": "code",
      "source": [
        "#Transponer en np\n",
        "\n",
        "x_t=x.T\n",
        "x_t"
      ],
      "metadata": {
        "id": "Mj7rP3JUaclL"
      },
      "execution_count": null,
      "outputs": []
    },
    {
      "cell_type": "code",
      "source": [
        "y=np.array([[25,2,5]])\n",
        "y.shape\n"
      ],
      "metadata": {
        "id": "qC0d3PvJauny"
      },
      "execution_count": null,
      "outputs": []
    },
    {
      "cell_type": "code",
      "source": [
        "#en este caso si podemos transponer\n",
        "\n",
        "y_t=y.T\n",
        "print(y_t)\n",
        "print()\n",
        "print(y_t.shape)\n",
        "type(y_t)"
      ],
      "metadata": {
        "id": "bfxeIOuabIAC"
      },
      "execution_count": null,
      "outputs": []
    },
    {
      "cell_type": "code",
      "source": [
        "y_t2=y_t.T\n",
        "print(y_t2)\n",
        "print()\n",
        "print(y_t2.shape)\n"
      ],
      "metadata": {
        "id": "f3VrBYPpbTTJ"
      },
      "execution_count": null,
      "outputs": []
    },
    {
      "cell_type": "markdown",
      "source": [
        "# Vetores Nulos"
      ],
      "metadata": {
        "id": "k3NjBMldcDzB"
      }
    },
    {
      "cell_type": "code",
      "source": [
        "z=np.zeros(3)\n",
        "z"
      ],
      "metadata": {
        "id": "3JEwPrpWcGzQ"
      },
      "execution_count": null,
      "outputs": []
    },
    {
      "cell_type": "code",
      "source": [
        "z=np.zeros(5)\n",
        "z"
      ],
      "metadata": {
        "id": "MOVdMX7bcWQ4"
      },
      "execution_count": null,
      "outputs": []
    },
    {
      "cell_type": "code",
      "source": [
        "#vectores en pytorch\n",
        "x_pt=torch.tensor([25,2,5])\n",
        "print(x_pt)\n",
        "print()\n",
        "print(type(x_pt))"
      ],
      "metadata": {
        "id": "hGovhT8wciGg"
      },
      "execution_count": null,
      "outputs": []
    },
    {
      "cell_type": "code",
      "source": [
        "x_tf=tf.Variable([25,2,5])\n",
        "x_tf"
      ],
      "metadata": {
        "id": "RYM3Nm2tc0A5"
      },
      "execution_count": null,
      "outputs": []
    },
    {
      "cell_type": "code",
      "source": [
        "#Distancia simple eucladiana noma l al 2\n",
        "x"
      ],
      "metadata": {
        "id": "ccuY0Wh4DWdl"
      },
      "execution_count": null,
      "outputs": []
    },
    {
      "cell_type": "code",
      "source": [
        "(25**2+2**2+5**2)**(1/2)"
      ],
      "metadata": {
        "id": "TW7wE_TrIgTy"
      },
      "execution_count": null,
      "outputs": []
    },
    {
      "cell_type": "code",
      "source": [
        "#norma L2 alcuadrado con np\n",
        "normaL2=np.linalg.norm(x)\n",
        "normaL2"
      ],
      "metadata": {
        "id": "BSqabVx5I5Yx"
      },
      "execution_count": null,
      "outputs": []
    },
    {
      "cell_type": "code",
      "source": [
        "#Norma L1\n",
        "x\n"
      ],
      "metadata": {
        "id": "jCr5cbZUJZ-p"
      },
      "execution_count": null,
      "outputs": []
    },
    {
      "cell_type": "code",
      "source": [
        "normaL1=np.abs(25)+np.abs(2)+np.abs(5)\n",
        "normaL1"
      ],
      "metadata": {
        "id": "wIvBZxizLE9M"
      },
      "execution_count": null,
      "outputs": []
    },
    {
      "cell_type": "code",
      "source": [
        "#Norma L2 al cuadrado\n",
        "#la norma L2 al cuadrado es xT.x y crece cerca del origen\n",
        "#nos genera un valor escalar\n",
        "x\n"
      ],
      "metadata": {
        "id": "rm7eEXybLqBV"
      },
      "execution_count": null,
      "outputs": []
    },
    {
      "cell_type": "code",
      "source": [
        "norma_L2_al_2=(25**2+2**2+5**2)\n",
        "norma_L2_al_2"
      ],
      "metadata": {
        "id": "yllCo8pEMBA7"
      },
      "execution_count": null,
      "outputs": []
    },
    {
      "cell_type": "code",
      "source": [
        "#con np\n",
        "np.dot(x,x)"
      ],
      "metadata": {
        "id": "2Oppha20Mt6b"
      },
      "execution_count": null,
      "outputs": []
    },
    {
      "cell_type": "code",
      "source": [
        "#Norma del maximo  L infinito\n",
        "#se toma el v.absoluto de cada elemento del array\n",
        "x"
      ],
      "metadata": {
        "id": "WhufnKZrNUNC"
      },
      "execution_count": null,
      "outputs": []
    },
    {
      "cell_type": "code",
      "source": [
        "norma_l_infinito=np.max([np.abs(25),np.abs(2),np.abs(5)])\n",
        "norma_l_infinito"
      ],
      "metadata": {
        "id": "1itcjad9N8Vx"
      },
      "execution_count": null,
      "outputs": []
    },
    {
      "cell_type": "markdown",
      "source": [
        "Vextores Ortogonales\n",
        "Ortogonales significa perpendicular\n",
        "forman un angulo de 90°\n",
        "son extrapolares en un espacio n-dimencional, hay como mucho n vectores ortogonales\n",
        "todos los vectores tienen algo de longitud tienen norma unitaria\n",
        "los vectores ortogonales son ortogonales con norma unitaria"
      ],
      "metadata": {
        "id": "RIjWIXD1m0F_"
      }
    },
    {
      "cell_type": "code",
      "source": [
        "i=np.array([1,0])\n",
        "i"
      ],
      "metadata": {
        "id": "WDbxjGuencsE"
      },
      "execution_count": null,
      "outputs": []
    },
    {
      "cell_type": "code",
      "source": [
        "j=np.array([0,1])\n",
        "j"
      ],
      "metadata": {
        "id": "d3R6CNlhnmmX"
      },
      "execution_count": null,
      "outputs": []
    },
    {
      "cell_type": "code",
      "source": [
        "#i y j son ortogonales forman 90°\n",
        "np.dot(i,j)\n"
      ],
      "metadata": {
        "id": "6WrW797insBC"
      },
      "execution_count": null,
      "outputs": []
    },
    {
      "cell_type": "code",
      "source": [
        "X=np.array([[25,2],[5,26],[3,7]])\n",
        "X"
      ],
      "metadata": {
        "id": "qqDfcjh-29Ci"
      },
      "execution_count": null,
      "outputs": []
    },
    {
      "cell_type": "code",
      "source": [
        "X.shape"
      ],
      "metadata": {
        "id": "EvlZL2rl3Q0Z"
      },
      "execution_count": null,
      "outputs": []
    },
    {
      "cell_type": "code",
      "source": [
        "X.size"
      ],
      "metadata": {
        "id": "HE_JNinl3V0I"
      },
      "execution_count": null,
      "outputs": []
    },
    {
      "cell_type": "code",
      "source": [
        "X[0,:]"
      ],
      "metadata": {
        "id": "WECaJOCN3Y96"
      },
      "execution_count": null,
      "outputs": []
    },
    {
      "cell_type": "code",
      "source": [
        "X[1,:]"
      ],
      "metadata": {
        "id": "aYcw_quV3h41"
      },
      "execution_count": null,
      "outputs": []
    },
    {
      "cell_type": "code",
      "source": [
        "X[:,1]"
      ],
      "metadata": {
        "id": "5POaY-403mGR"
      },
      "execution_count": null,
      "outputs": []
    },
    {
      "cell_type": "code",
      "source": [
        "print(X[0:2,0:2])\n",
        "print(X[0:1,0:1])"
      ],
      "metadata": {
        "id": "WdR7iD8v3yOA"
      },
      "execution_count": null,
      "outputs": []
    },
    {
      "cell_type": "code",
      "source": [
        "X[1:2,1:2]"
      ],
      "metadata": {
        "id": "czAtoI8F4qNQ"
      },
      "execution_count": null,
      "outputs": []
    },
    {
      "cell_type": "code",
      "source": [
        "#Pytorch\n",
        "X_pt=torch.tensor([[25,2],[5,26],[3,7]])\n",
        "X_pt"
      ],
      "metadata": {
        "id": "N9YWBbR65DSt"
      },
      "execution_count": null,
      "outputs": []
    },
    {
      "cell_type": "code",
      "source": [
        "X_pt.shape"
      ],
      "metadata": {
        "id": "gt6BzbHK5WpF"
      },
      "execution_count": null,
      "outputs": []
    },
    {
      "cell_type": "code",
      "source": [
        "X_pt.size"
      ],
      "metadata": {
        "id": "wnTBPsv95cyu"
      },
      "execution_count": null,
      "outputs": []
    },
    {
      "cell_type": "code",
      "source": [
        "X_pt[1,:]"
      ],
      "metadata": {
        "id": "7t0czKvE5kzV"
      },
      "execution_count": null,
      "outputs": []
    },
    {
      "cell_type": "code",
      "source": [
        "#tensor flow\n",
        "X_tf=tf.Variable([[25,2],[5,26],[3,7]])\n",
        "X_tf"
      ],
      "metadata": {
        "id": "4mvXrISl5vrM"
      },
      "execution_count": null,
      "outputs": []
    },
    {
      "cell_type": "code",
      "source": [
        "X_tf.shape"
      ],
      "metadata": {
        "id": "j71TQ__H6FQu"
      },
      "execution_count": null,
      "outputs": []
    },
    {
      "cell_type": "code",
      "source": [
        "tf.rank(X_tf)"
      ],
      "metadata": {
        "id": "jMv66ljF6Miz"
      },
      "execution_count": null,
      "outputs": []
    },
    {
      "cell_type": "code",
      "source": [
        "tf.shape(X_tf)"
      ],
      "metadata": {
        "id": "ZvGNF0vf6c_L"
      },
      "execution_count": null,
      "outputs": []
    },
    {
      "cell_type": "code",
      "source": [
        "X_tf[1,:]"
      ],
      "metadata": {
        "id": "sq-m4wV96qZi"
      },
      "execution_count": null,
      "outputs": []
    },
    {
      "cell_type": "code",
      "source": [
        "X_tf[:,0]"
      ],
      "metadata": {
        "id": "qVyGHO536xDJ"
      },
      "execution_count": null,
      "outputs": []
    },
    {
      "cell_type": "markdown",
      "source": [
        "Tensores de Rango superior\n",
        "1.- #ro de imagenes en el lote de entrenamiento por ejemplo 32\n",
        "2.- Altura de la imagen en pixeles por ej. 38\n",
        "3.- Anchura de la imagen en pixeles por ejemplo 28\n",
        "4.- #ro de canales de color, 3 para imagenes a todo color(RGB)\n",
        "\n"
      ],
      "metadata": {
        "id": "12aizsKNndDx"
      }
    },
    {
      "cell_type": "code",
      "source": [
        "imagenes_pt=torch.zeros([32,28,28,3])\n",
        "imagenes_pt"
      ],
      "metadata": {
        "collapsed": true,
        "id": "peNTVTxOoBPS"
      },
      "execution_count": null,
      "outputs": []
    },
    {
      "cell_type": "code",
      "source": [
        "imagenes_tf=tf.zeros([32,28,28,3])\n",
        "imagenes_tf"
      ],
      "metadata": {
        "collapsed": true,
        "id": "hmHQu3Prog9a"
      },
      "execution_count": null,
      "outputs": []
    },
    {
      "cell_type": "code",
      "source": [
        "#Transpuesta de Tensores\n",
        "print(X)\n",
        "print()\n",
        "\n",
        "X.T"
      ],
      "metadata": {
        "id": "SWIgjPrimptZ"
      },
      "execution_count": null,
      "outputs": []
    },
    {
      "cell_type": "code",
      "source": [
        "X_pt.T"
      ],
      "metadata": {
        "id": "WxKy8Hm9m_lq"
      },
      "execution_count": null,
      "outputs": []
    },
    {
      "cell_type": "code",
      "source": [
        "tf.transpose(X_tf)"
      ],
      "metadata": {
        "id": "nPHByrgfnKRP"
      },
      "execution_count": null,
      "outputs": []
    },
    {
      "cell_type": "markdown",
      "source": [
        "Operaciones Aritmeticas Basicas de Tensores"
      ],
      "metadata": {
        "id": "bLP0vL57Er2-"
      }
    },
    {
      "cell_type": "code",
      "source": [
        "X"
      ],
      "metadata": {
        "id": "BxaQ-431E0XR"
      },
      "execution_count": null,
      "outputs": []
    },
    {
      "cell_type": "code",
      "source": [
        "X*2"
      ],
      "metadata": {
        "id": "LmAtR6SyE6di"
      },
      "execution_count": null,
      "outputs": []
    },
    {
      "cell_type": "code",
      "source": [
        "X+2"
      ],
      "metadata": {
        "id": "zHyFgx5aE9tK"
      },
      "execution_count": null,
      "outputs": []
    },
    {
      "cell_type": "code",
      "source": [
        "X*2+2"
      ],
      "metadata": {
        "id": "CTSTRaIDFDXx"
      },
      "execution_count": null,
      "outputs": []
    },
    {
      "cell_type": "code",
      "source": [
        "X.T"
      ],
      "metadata": {
        "id": "H0n5Ox48FG5i"
      },
      "execution_count": null,
      "outputs": []
    },
    {
      "cell_type": "code",
      "source": [
        "#operadores sobrecargados\n",
        "X_tf*2+2"
      ],
      "metadata": {
        "id": "JKO99b0MFJVx"
      },
      "execution_count": null,
      "outputs": []
    },
    {
      "cell_type": "code",
      "source": [
        "tf.add(tf.multiply(X_tf,2),2)"
      ],
      "metadata": {
        "id": "B4D16ktfFYaz"
      },
      "execution_count": null,
      "outputs": []
    },
    {
      "cell_type": "code",
      "source": [
        "X_pt*+2"
      ],
      "metadata": {
        "id": "YMTbE3fKKX1M"
      },
      "execution_count": null,
      "outputs": []
    },
    {
      "cell_type": "code",
      "source": [
        "torch.add(torch.mul(X_pt,2),2)"
      ],
      "metadata": {
        "id": "N2GT226aKfzc"
      },
      "execution_count": null,
      "outputs": []
    },
    {
      "cell_type": "markdown",
      "source": [
        "Reduccion Tensorial\n"
      ],
      "metadata": {
        "id": "PPnZ69eFJ3lc"
      }
    },
    {
      "cell_type": "code",
      "source": [
        "X"
      ],
      "metadata": {
        "id": "Evjn9eE7J7hZ"
      },
      "execution_count": null,
      "outputs": []
    },
    {
      "cell_type": "code",
      "source": [
        "X.sum()"
      ],
      "metadata": {
        "id": "xnOpTF4cKumC"
      },
      "execution_count": null,
      "outputs": []
    },
    {
      "cell_type": "code",
      "source": [
        "X.sum(axis=0)"
      ],
      "metadata": {
        "id": "NBAY6rhpLCuz"
      },
      "execution_count": null,
      "outputs": []
    },
    {
      "cell_type": "code",
      "source": [
        "X.sum(axis=1)"
      ],
      "metadata": {
        "id": "xpyxrUoOLQAQ"
      },
      "execution_count": null,
      "outputs": []
    },
    {
      "cell_type": "code",
      "source": [
        "X.prod(axis=0)"
      ],
      "metadata": {
        "id": "qIA1HFdFLVTh"
      },
      "execution_count": null,
      "outputs": []
    },
    {
      "cell_type": "code",
      "source": [
        "X.mean(axis=1)"
      ],
      "metadata": {
        "id": "dXYLMUynLkVA"
      },
      "execution_count": null,
      "outputs": []
    },
    {
      "cell_type": "code",
      "source": [
        "X.max()\n"
      ],
      "metadata": {
        "id": "OWrtik7qMFUf"
      },
      "execution_count": null,
      "outputs": []
    },
    {
      "cell_type": "code",
      "source": [
        "torch.sum(X_pt)"
      ],
      "metadata": {
        "id": "i3-OoiLPMOJW"
      },
      "execution_count": null,
      "outputs": []
    },
    {
      "cell_type": "code",
      "source": [
        "torch.prod(X_pt)"
      ],
      "metadata": {
        "id": "Mc1duZzNMVsW"
      },
      "execution_count": null,
      "outputs": []
    },
    {
      "cell_type": "code",
      "source": [
        "torch.max(X_pt,axis=0)"
      ],
      "metadata": {
        "id": "Yfer5gNGM6N-"
      },
      "execution_count": null,
      "outputs": []
    },
    {
      "cell_type": "code",
      "source": [
        "torch.mean(X_pt,dtype=torch.float32,axis=0)"
      ],
      "metadata": {
        "id": "LUgch9RENF6T"
      },
      "execution_count": null,
      "outputs": []
    },
    {
      "cell_type": "code",
      "source": [
        "tf.reduce_sum(X_tf)"
      ],
      "metadata": {
        "id": "SUumycuINeZG"
      },
      "execution_count": null,
      "outputs": []
    },
    {
      "cell_type": "code",
      "source": [
        "tf.reduce_prod(X_tf,axis=0)"
      ],
      "metadata": {
        "id": "apwDEVcbNuDZ"
      },
      "execution_count": null,
      "outputs": []
    },
    {
      "cell_type": "code",
      "source": [
        "tf.reduce_mean(X_tf,axis=1)"
      ],
      "metadata": {
        "id": "eS5dh3fQN3Li"
      },
      "execution_count": null,
      "outputs": []
    },
    {
      "cell_type": "code",
      "source": [
        "tf.reduce_max(X_tf)"
      ],
      "metadata": {
        "id": "-6ZMVxWiOEvx"
      },
      "execution_count": null,
      "outputs": []
    },
    {
      "cell_type": "code",
      "source": [
        "tf.reduce_min(X_tf)"
      ],
      "metadata": {
        "id": "ua9KHJasOK1a"
      },
      "execution_count": null,
      "outputs": []
    },
    {
      "cell_type": "markdown",
      "source": [
        "El Producto Escalar\n",
        "Si tenemos dos vectores (digamos, x y y) con la misma longitud n, podemos calcular el producto punto entre ellos. Esto se anota de varias maneras diferentes, incluyendo las siguientes:\n",
        "\n",
        "x⋅y\n",
        "xTy\n",
        "⟨x,y⟩.\n",
        "Independientemente de la notación que utilices (yo prefiero la primera), el cálculo es el mismo; calculamos los productos de una manera elemento a elemento y luego sumamos reductivamente a través de los productos a un valor escalar. Es decir, x⋅y=∑ni=1xiyi.\n",
        "\n",
        "El producto punto es omnipresente en el aprendizaje profundo: Se realiza en cada neurona artificial de una red neuronal profunda, que puede estar formada por millones (u órdenes de magnitud superiores) de estas neuronas."
      ],
      "metadata": {
        "id": "LWxRJ4Y_kpt5"
      }
    },
    {
      "cell_type": "code",
      "source": [
        "x"
      ],
      "metadata": {
        "id": "cLRSKP6vk0kJ"
      },
      "execution_count": null,
      "outputs": []
    },
    {
      "cell_type": "code",
      "source": [
        "y=np.array([0,1,2])\n",
        "y"
      ],
      "metadata": {
        "id": "0fBOwdCdlK0S"
      },
      "execution_count": null,
      "outputs": []
    },
    {
      "cell_type": "code",
      "source": [
        "25*0+2*1+5*2"
      ],
      "metadata": {
        "id": "o791wPfblWHJ"
      },
      "execution_count": null,
      "outputs": []
    },
    {
      "cell_type": "code",
      "source": [
        "np.dot(x,y)"
      ],
      "metadata": {
        "id": "UUTJrcnTleWB"
      },
      "execution_count": null,
      "outputs": []
    },
    {
      "cell_type": "code",
      "source": [
        "x_pt"
      ],
      "metadata": {
        "id": "1koz9r-GlyfQ"
      },
      "execution_count": null,
      "outputs": []
    },
    {
      "cell_type": "code",
      "source": [
        "y_pt=torch.tensor([0,1,2])\n",
        "y_pt"
      ],
      "metadata": {
        "id": "0SttBvl5mMUf"
      },
      "execution_count": null,
      "outputs": []
    },
    {
      "cell_type": "code",
      "source": [
        "np.dot(x_pt,y_pt)"
      ],
      "metadata": {
        "id": "xKWvsk-ymlXS"
      },
      "execution_count": null,
      "outputs": []
    },
    {
      "cell_type": "code",
      "source": [
        "torch.dot(torch.tensor([25.,2.,5.]),torch.tensor([0.,1.,2.]))"
      ],
      "metadata": {
        "id": "OOexCSwymske"
      },
      "execution_count": null,
      "outputs": []
    },
    {
      "cell_type": "code",
      "source": [
        "x_tf"
      ],
      "metadata": {
        "id": "dzf_eZkinyOc"
      },
      "execution_count": null,
      "outputs": []
    },
    {
      "cell_type": "code",
      "source": [
        "y_tf=tf.Variable([0,1,2])\n",
        "y_tf"
      ],
      "metadata": {
        "id": "VWNtSqaSocjD"
      },
      "execution_count": null,
      "outputs": []
    },
    {
      "cell_type": "code",
      "source": [
        "tf.reduce_sum(tf.multiply(x_tf,y_tf))"
      ],
      "metadata": {
        "id": "_frHOyhJos9a"
      },
      "execution_count": null,
      "outputs": []
    },
    {
      "cell_type": "markdown",
      "source": [
        "Ejercicios"
      ],
      "metadata": {
        "id": "T5YRu0SQACNA"
      }
    },
    {
      "cell_type": "code",
      "source": [
        "y=np.array([[42,4,7,99],[-99,3,17,22]])\n",
        "y"
      ],
      "metadata": {
        "id": "iWbT3mpHAA3w"
      },
      "execution_count": null,
      "outputs": []
    },
    {
      "cell_type": "code",
      "source": [
        "y.T"
      ],
      "metadata": {
        "id": "iHcKGCbJAqAH"
      },
      "execution_count": null,
      "outputs": []
    },
    {
      "cell_type": "code",
      "source": [
        "m=np.array([[25,10],[-2,1]])\n",
        "m\n"
      ],
      "metadata": {
        "id": "nc4O0ESOCeON"
      },
      "execution_count": null,
      "outputs": []
    },
    {
      "cell_type": "code",
      "source": [
        "n=np.array([[-1,7],[10,8]])\n",
        "n"
      ],
      "metadata": {
        "id": "JGalKo3UEsgR"
      },
      "execution_count": null,
      "outputs": []
    },
    {
      "cell_type": "code",
      "source": [
        "(25*-1)+(-2*10)+7*10+1*8"
      ],
      "metadata": {
        "id": "2Evcbj2KC8Wc"
      },
      "execution_count": null,
      "outputs": []
    },
    {
      "cell_type": "code",
      "source": [
        "np.multiply(m,n)"
      ],
      "metadata": {
        "id": "9vCBawFJFzH4"
      },
      "execution_count": null,
      "outputs": []
    },
    {
      "cell_type": "code",
      "source": [
        "torch.multiply(torch.tensor([[25.,10.],[-2.,1.]]),torch.tensor([[-1.,7.],[10.,8.]]))"
      ],
      "metadata": {
        "id": "LUNNhUHTJ_Cy"
      },
      "execution_count": null,
      "outputs": []
    },
    {
      "cell_type": "code",
      "source": [
        "m=tf.Variable([[25.,10.],[-2.,1.]])\n",
        "m"
      ],
      "metadata": {
        "id": "jdBfsbcJL3he"
      },
      "execution_count": null,
      "outputs": []
    },
    {
      "cell_type": "code",
      "source": [
        "n=tf.Variable([[-1.,7.],[10.,8.]])\n",
        "n"
      ],
      "metadata": {
        "id": "HdkuUY27NJq9"
      },
      "execution_count": null,
      "outputs": []
    },
    {
      "cell_type": "code",
      "source": [
        "tf.multiply(m,n)"
      ],
      "metadata": {
        "id": "kXF_4nXxNVlq"
      },
      "execution_count": null,
      "outputs": []
    },
    {
      "cell_type": "code",
      "source": [
        "w=np.array([-1,2,-2])\n",
        "w"
      ],
      "metadata": {
        "id": "DOmubw7YQnOz"
      },
      "execution_count": null,
      "outputs": []
    },
    {
      "cell_type": "code",
      "source": [
        "v=np.array([5,10,0])\n",
        "v"
      ],
      "metadata": {
        "id": "CKO3iCluQ3t1"
      },
      "execution_count": null,
      "outputs": []
    },
    {
      "cell_type": "code",
      "source": [
        "np.dot(w,v)"
      ],
      "metadata": {
        "id": "J5QBNTjsRBBW"
      },
      "execution_count": null,
      "outputs": []
    },
    {
      "cell_type": "code",
      "source": [
        "w_pt=torch.tensor([-1,2,-2])\n",
        "w_pt"
      ],
      "metadata": {
        "id": "oMsvvd10RH7m"
      },
      "execution_count": null,
      "outputs": []
    },
    {
      "cell_type": "code",
      "source": [
        "v_pt=torch.tensor([5, 10,  0])\n",
        "v_pt"
      ],
      "metadata": {
        "id": "qMg0uaSzRUmd"
      },
      "execution_count": null,
      "outputs": []
    },
    {
      "cell_type": "code",
      "source": [
        "torch.dot(w_pt,v_pt)"
      ],
      "metadata": {
        "id": "kRp1f3zXSHo7"
      },
      "execution_count": null,
      "outputs": []
    },
    {
      "cell_type": "code",
      "source": [
        "w_tf=tf.Variable([-1,2,-2])\n",
        "w_tf"
      ],
      "metadata": {
        "id": "qvMhBzlGSg0k"
      },
      "execution_count": null,
      "outputs": []
    },
    {
      "cell_type": "code",
      "source": [
        "v_tf=tf.Variable([5, 10,  0])\n",
        "v_tf"
      ],
      "metadata": {
        "id": "YaGdIPw-Tng5"
      },
      "execution_count": null,
      "outputs": []
    },
    {
      "cell_type": "code",
      "source": [
        "tf.reduce_sum(tf.multiply(w_tf,v_tf))\n"
      ],
      "metadata": {
        "id": "aCIWfWYVTyGa"
      },
      "execution_count": null,
      "outputs": []
    },
    {
      "cell_type": "markdown",
      "source": [
        "Visualizacion de Sistemas Lineales"
      ],
      "metadata": {
        "id": "cHFfCc7zyOy4"
      }
    },
    {
      "cell_type": "code",
      "source": [
        "import numpy as np\n",
        "import matplotlib.pyplot as plt\n",
        "\n",
        "x=np.linspace(-10,10,1000)\n",
        "y_1=3*x\n",
        "y_2=1+(5*x)/2\n",
        "fig,ax=plt.subplots()\n",
        "plt.xlabel('x')\n",
        "plt.ylabel('y')\n",
        "ax.set_xlim(0,4)\n",
        "ax.set_ylim(0,8)\n",
        "ax.plot(x,y_1,c='green')\n",
        "ax.plot(x,y_2,c='brown')\n",
        "plt.axvline(x=2,color='purple',linestyle='--')\n",
        "plt.axhline(y=6,color='purple',linestyle='--')\n",
        "plt.grid(color='#dadada',linestyle='--')\n",
        "plt.show()\n",
        "\n"
      ],
      "metadata": {
        "id": "QSSRRyohyeRb"
      },
      "execution_count": null,
      "outputs": []
    },
    {
      "cell_type": "code",
      "source": [
        "x=np.linspace(-10,10,1000)\n",
        "y_1=((2*x)/3)-5\n",
        "y_2=(7-2*x)/5\n",
        "fig,ax=plt.subplots()\n",
        "plt.xlabel('x')\n",
        "plt.ylabel('y')\n",
        "ax.set_xlim(-2,8)\n",
        "ax.set_ylim(-6,6)\n",
        "plt.plot(x,y_1,c='green',label='y=(2x/3)-5')\n",
        "plt.plot(x,y_2,c='brown',label='(y=7-2x)/5')\n",
        "plt.title('Ecuaciones lineales',size=10)\n",
        "plt.axvline(x=6,color='purple',linestyle='--')\n",
        "plt.axhline(y=-1,color='purple',linestyle='--')\n",
        "plt.axvline(x=0,color='grey',linestyle='-')\n",
        "plt.axhline(y=0,color='grey',linestyle='-')\n",
        "plt.legend()\n",
        "plt.grid(color='#dadada',linestyle='--')\n",
        "\n"
      ],
      "metadata": {
        "id": "QnMldhfR4evY"
      },
      "execution_count": null,
      "outputs": []
    },
    {
      "cell_type": "markdown",
      "source": [
        "Norma de Frobenius"
      ],
      "metadata": {
        "id": "5UyYLHOjNxQ5"
      }
    },
    {
      "cell_type": "code",
      "source": [
        "X=np.array([[1,2],[3,4]])\n",
        "X"
      ],
      "metadata": {
        "id": "UqtpUODeN4WO"
      },
      "execution_count": null,
      "outputs": []
    },
    {
      "cell_type": "code",
      "source": [
        "Frobenius=(1**2+2**2+3**2+4**2)**(1/2)\n",
        "Frobenius"
      ],
      "metadata": {
        "id": "3pRIa0WkO5Xt"
      },
      "execution_count": null,
      "outputs": []
    },
    {
      "cell_type": "code",
      "source": [
        "np.linalg.norm(X)"
      ],
      "metadata": {
        "id": "da3ykG6ROovo"
      },
      "execution_count": null,
      "outputs": []
    },
    {
      "cell_type": "code",
      "source": [
        "X_pt=torch.tensor([[1.,2.],[3.,4.]])\n",
        "X_pt"
      ],
      "metadata": {
        "id": "YaSodcg_O1BV"
      },
      "execution_count": null,
      "outputs": []
    },
    {
      "cell_type": "code",
      "source": [
        "torch.norm(X_pt)"
      ],
      "metadata": {
        "id": "848vBXRUPxJl"
      },
      "execution_count": null,
      "outputs": []
    },
    {
      "cell_type": "code",
      "source": [
        "X_tf=tf.Variable([[1.,2.],[3.,4.]])\n",
        "X_tf"
      ],
      "metadata": {
        "id": "GR4fDCRXQ45K"
      },
      "execution_count": null,
      "outputs": []
    },
    {
      "cell_type": "code",
      "source": [
        "tf.norm(X_tf)"
      ],
      "metadata": {
        "id": "G5tIGBOYRFgm"
      },
      "execution_count": null,
      "outputs": []
    },
    {
      "cell_type": "markdown",
      "source": [
        "Multiplicacion de Matrices"
      ],
      "metadata": {
        "id": "bgaHE2IAApjZ"
      }
    },
    {
      "cell_type": "code",
      "source": [
        "A=np.array([[3,4],[5,6],[7,8]])\n",
        "A"
      ],
      "metadata": {
        "id": "DeK4j25pAu-L"
      },
      "execution_count": null,
      "outputs": []
    },
    {
      "cell_type": "code",
      "source": [
        "B=np.array([[1,9],[2,0]])\n",
        "B\n"
      ],
      "metadata": {
        "id": "xObiNDgZCCGK"
      },
      "execution_count": null,
      "outputs": []
    },
    {
      "cell_type": "code",
      "source": [
        "np.dot(A,B)"
      ],
      "metadata": {
        "id": "f_c7ALNQCaoi"
      },
      "execution_count": null,
      "outputs": []
    },
    {
      "cell_type": "code",
      "source": [
        "A_pt=torch.tensor([[3,4],[5,6],[7,8]])\n",
        "A_pt"
      ],
      "metadata": {
        "id": "6IdJdk-mCwq3"
      },
      "execution_count": null,
      "outputs": []
    },
    {
      "cell_type": "code",
      "source": [
        "B_pt=torch.from_numpy(B)\n",
        "B_pt"
      ],
      "metadata": {
        "id": "3mT3SWKdGZXO"
      },
      "execution_count": null,
      "outputs": []
    },
    {
      "cell_type": "code",
      "source": [
        "torch.matmul(A_pt,B_pt)"
      ],
      "metadata": {
        "id": "dWM5FEUNI69Q"
      },
      "execution_count": null,
      "outputs": []
    },
    {
      "cell_type": "code",
      "source": [
        "A_tf=tf.Variable([[3,4],[5,6],[7,8]])\n",
        "A_tf"
      ],
      "metadata": {
        "id": "tsCP_k7uH84G"
      },
      "execution_count": null,
      "outputs": []
    },
    {
      "cell_type": "code",
      "source": [
        "B_tf=tf.convert_to_tensor(B,dtype=tf.int32)\n",
        "B_tf"
      ],
      "metadata": {
        "id": "kiwHcQagJxjo"
      },
      "execution_count": null,
      "outputs": []
    },
    {
      "cell_type": "code",
      "source": [
        "tf.matmul(A_tf,B_tf)"
      ],
      "metadata": {
        "id": "Nk9UHBUrKPrj"
      },
      "execution_count": null,
      "outputs": []
    },
    {
      "cell_type": "markdown",
      "source": [
        "Matrices Simetricas"
      ],
      "metadata": {
        "id": "H4FyyhJFSafO"
      }
    },
    {
      "cell_type": "code",
      "source": [
        "X=np.array([[0,1,2],[1,7,8],[2,8,9]])\n",
        "X_sim=X\n",
        "X_sim"
      ],
      "metadata": {
        "id": "JPKOXgeaSiXT"
      },
      "execution_count": null,
      "outputs": []
    },
    {
      "cell_type": "code",
      "source": [
        "X.T"
      ],
      "metadata": {
        "id": "RpvdT0RQTDLj"
      },
      "execution_count": null,
      "outputs": []
    },
    {
      "cell_type": "code",
      "source": [
        "X_sim.T==X_sim"
      ],
      "metadata": {
        "id": "kfzuphEXTFmK"
      },
      "execution_count": null,
      "outputs": []
    },
    {
      "cell_type": "markdown",
      "source": [
        "Matriz Identidad"
      ],
      "metadata": {
        "id": "t1pqn_r9TduZ"
      }
    },
    {
      "cell_type": "code",
      "source": [
        "I=torch.tensor([[1,0,0,0],[0,1,0,0],[0,0,1,0],[0,0,0,1]])\n",
        "I"
      ],
      "metadata": {
        "id": "JwIccZp6Thvy"
      },
      "execution_count": null,
      "outputs": []
    },
    {
      "cell_type": "code",
      "source": [
        "X_pt=torch.tensor([25,2,5,6])\n",
        "X_pt"
      ],
      "metadata": {
        "id": "8dDzXquvT-lr"
      },
      "execution_count": null,
      "outputs": []
    },
    {
      "cell_type": "code",
      "source": [
        "I*X_pt"
      ],
      "metadata": {
        "id": "bZSlW9adURQ4"
      },
      "execution_count": null,
      "outputs": []
    },
    {
      "cell_type": "markdown",
      "source": [
        "Ejercicios Productos de Matrices"
      ],
      "metadata": {
        "id": "ItIT1jZnaG3M"
      }
    },
    {
      "cell_type": "markdown",
      "source": [
        "Ejercicio 1"
      ],
      "metadata": {
        "id": "pru2M-rVe44s"
      }
    },
    {
      "cell_type": "code",
      "source": [
        "A=np.array([[0,1,2],[3,4,5],[6,7,8]])\n",
        "A"
      ],
      "metadata": {
        "id": "YjKBSilxaMnl"
      },
      "execution_count": null,
      "outputs": []
    },
    {
      "cell_type": "code",
      "source": [
        "B=np.array([[-1],[1],[-2]])\n",
        "B\n"
      ],
      "metadata": {
        "id": "d3WFGhmDak3H"
      },
      "execution_count": null,
      "outputs": []
    },
    {
      "cell_type": "code",
      "source": [
        "np.dot(A,B)"
      ],
      "metadata": {
        "id": "D2PI7OyLbcTV"
      },
      "execution_count": null,
      "outputs": []
    },
    {
      "cell_type": "code",
      "source": [
        "A_pt=torch.tensor([[0,1,2],[3,4,5],[6,7,8]])\n",
        "A_pt"
      ],
      "metadata": {
        "id": "M9v7O2YccDTG"
      },
      "execution_count": null,
      "outputs": []
    },
    {
      "cell_type": "code",
      "source": [
        "B_pt=torch.from_numpy(B)\n",
        "B_pt"
      ],
      "metadata": {
        "id": "5eAE_9P_cpRR"
      },
      "execution_count": null,
      "outputs": []
    },
    {
      "cell_type": "code",
      "source": [
        "torch.matmul(A_pt,B_pt)"
      ],
      "metadata": {
        "id": "sl0ne0Woc3gL"
      },
      "execution_count": null,
      "outputs": []
    },
    {
      "cell_type": "code",
      "source": [
        "A_tf=tf.Variable([[0,1,2],[3,4,5],[6,7,8]])\n",
        "A_tf"
      ],
      "metadata": {
        "id": "dvhzFYVVdJZL"
      },
      "execution_count": null,
      "outputs": []
    },
    {
      "cell_type": "code",
      "source": [
        "B_tf=tf.convert_to_tensor(B,dtype=tf.int32)\n",
        "B_tf"
      ],
      "metadata": {
        "id": "V580TypGdfok"
      },
      "execution_count": null,
      "outputs": []
    },
    {
      "cell_type": "code",
      "source": [
        "tf.matmul(A_tf,B_tf)"
      ],
      "metadata": {
        "id": "MD1323uWdyxN"
      },
      "execution_count": null,
      "outputs": []
    },
    {
      "cell_type": "markdown",
      "source": [
        "Ejercicio 2"
      ],
      "metadata": {
        "id": "_4a6b3E5e7kC"
      }
    },
    {
      "cell_type": "code",
      "source": [
        "I=np.array([[1,0,0],[0,1,0],[0,0,1]])\n",
        "I"
      ],
      "metadata": {
        "id": "hmAtPNIHe9jT"
      },
      "execution_count": null,
      "outputs": []
    },
    {
      "cell_type": "code",
      "source": [
        "B=np.array([[-1],[1],[-2]])\n",
        "B"
      ],
      "metadata": {
        "id": "TbVHFN8AgTpi"
      },
      "execution_count": null,
      "outputs": []
    },
    {
      "cell_type": "code",
      "source": [
        "np.dot(I,B)"
      ],
      "metadata": {
        "id": "-uOdHZZfgjDQ"
      },
      "execution_count": null,
      "outputs": []
    },
    {
      "cell_type": "code",
      "source": [
        "I=torch.tensor([[1,0,0],[0,1,0],[0,0,1]])\n",
        "I"
      ],
      "metadata": {
        "id": "vh4dCVOVg4QC"
      },
      "execution_count": null,
      "outputs": []
    },
    {
      "cell_type": "code",
      "source": [
        "B_pt=torch.from_numpy(B)\n",
        "B_pt"
      ],
      "metadata": {
        "id": "QoFSW-oZhMRu"
      },
      "execution_count": null,
      "outputs": []
    },
    {
      "cell_type": "code",
      "source": [
        "torch.matmul(I,B_pt)"
      ],
      "metadata": {
        "id": "pqVZvBRehVpF"
      },
      "execution_count": null,
      "outputs": []
    },
    {
      "cell_type": "code",
      "source": [
        "I=tf.Variable([[1,0,0],[0,1,0],[0,0,1]])\n",
        "I"
      ],
      "metadata": {
        "id": "Ga7r6xyPhlKN"
      },
      "execution_count": null,
      "outputs": []
    },
    {
      "cell_type": "code",
      "source": [
        "B_tf=tf.convert_to_tensor(B,dtype=tf.int32)\n",
        "B_tf"
      ],
      "metadata": {
        "id": "EXeHEtdjiK9n"
      },
      "execution_count": null,
      "outputs": []
    },
    {
      "cell_type": "code",
      "source": [
        "tf.matmul(I,B_tf)"
      ],
      "metadata": {
        "id": "Lte0kdTwipVb"
      },
      "execution_count": null,
      "outputs": []
    },
    {
      "cell_type": "markdown",
      "source": [
        "Ejercicio 3"
      ],
      "metadata": {
        "id": "1VjNW9OBi_bc"
      }
    },
    {
      "cell_type": "code",
      "source": [
        "A=np.array([[0,1,2],[3,4,5],[6,7,8]])\n",
        "A"
      ],
      "metadata": {
        "id": "UPCzfPq4jCGg"
      },
      "execution_count": null,
      "outputs": []
    },
    {
      "cell_type": "code",
      "source": [
        "B=np.array([[-1,0],[1,1],[-2,2]])\n",
        "B"
      ],
      "metadata": {
        "id": "A9E8mZJIa9A5"
      },
      "execution_count": null,
      "outputs": []
    },
    {
      "cell_type": "code",
      "source": [
        "np.dot(A,B)"
      ],
      "metadata": {
        "id": "wZV82xlVerJg"
      },
      "execution_count": null,
      "outputs": []
    },
    {
      "cell_type": "code",
      "source": [
        "A_pt=torch.tensor([[0,1,2],[3,4,5],[6,7,8]])\n",
        "A_pt"
      ],
      "metadata": {
        "id": "dVXDDm_tewn0"
      },
      "execution_count": null,
      "outputs": []
    },
    {
      "cell_type": "code",
      "source": [
        "B_pt=torch.from_numpy(B)\n",
        "B_pt"
      ],
      "metadata": {
        "id": "yxSLZ9v7gEbp"
      },
      "execution_count": null,
      "outputs": []
    },
    {
      "cell_type": "code",
      "source": [
        "torch.matmul(A_pt,B_pt)"
      ],
      "metadata": {
        "id": "n9toE3eugO2n"
      },
      "execution_count": null,
      "outputs": []
    },
    {
      "cell_type": "code",
      "source": [
        "A_tf=tf.Variable([[0,1,2],[3,4,5],[6,7,8]])\n",
        "A_tf"
      ],
      "metadata": {
        "id": "6wjIZ5Koga2q"
      },
      "execution_count": null,
      "outputs": []
    },
    {
      "cell_type": "code",
      "source": [
        "B_tf=tf.convert_to_tensor(B,dtype=tf.int32)\n",
        "B_tf"
      ],
      "metadata": {
        "id": "XDzGPVYch9mD"
      },
      "execution_count": null,
      "outputs": []
    },
    {
      "cell_type": "code",
      "source": [
        "tf.matmul(A_tf,B_tf)"
      ],
      "metadata": {
        "id": "0tT28Ct_iKSj"
      },
      "execution_count": null,
      "outputs": []
    },
    {
      "cell_type": "markdown",
      "source": [
        "Inversa de una Matriz\n",
        "\n",
        "Ecuacion lineal:\n",
        " 4b + 2c =  4 //\n",
        "-5b - 3c = -7"
      ],
      "metadata": {
        "id": "oIToIKvOpq4j"
      }
    },
    {
      "cell_type": "code",
      "source": [
        "X=np.array([[4,2],[-5,-3]])\n",
        "X"
      ],
      "metadata": {
        "id": "Sb84NDzGptMG"
      },
      "execution_count": null,
      "outputs": []
    },
    {
      "cell_type": "code",
      "source": [
        "y=np.array([4,-7])\n",
        "y"
      ],
      "metadata": {
        "id": "lMKBQ0Flq_tF"
      },
      "execution_count": null,
      "outputs": []
    },
    {
      "cell_type": "markdown",
      "source": [
        "w=X**-1*y"
      ],
      "metadata": {
        "id": "UV5pDYlDrIVg"
      }
    },
    {
      "cell_type": "code",
      "source": [
        "x=np.linspace(-10,10,1000)\n",
        "y1=2-2*b\n",
        "y2=(7-5*b)/3\n",
        "fig,ax=plt.subplots()\n",
        "plt.xlabel('x')\n",
        "plt.ylabel('y')\n",
        "\n",
        "ax.set_xlim(-2,8)\n",
        "ax.set_ylim(-2,8)\n",
        "\n",
        "ax.axvline(x=0,color='grey',linestyle='-')\n",
        "ax.axhline(y=0,color='grey',linestyle='-')\n",
        "\n",
        "plt.plot(x,y1,c='green',label='y=2-2b')\n",
        "plt.plot(x,y2,c='brown',label='y=(7-5*b)/3')\n",
        "\n",
        "ax.axvline(x=-1,color='purple',linestyle='--')\n",
        "ax.axhline(y=4,color='purple',linestyle='--')\n",
        "\n",
        "plt.grid(color='#dadada',linestyle='--')\n",
        "plt.legend()\n",
        "plt.show()\n"
      ],
      "metadata": {
        "id": "IuwOwi1OrTdu"
      },
      "execution_count": null,
      "outputs": []
    },
    {
      "cell_type": "code",
      "source": [
        "b = np.linspace(-10, 10, 1000) # inicio, final, n puntos\n",
        "c1 = 2 - 2*b\n",
        "c2 = (7-5*b)/3\n",
        "\n",
        "fig, ax = plt.subplots()\n",
        "plt.xlabel('b', c='darkorange')\n",
        "plt.ylabel('c', c='brown')\n",
        "\n",
        "plt.axvline(x=0, color='lightgray')\n",
        "plt.axhline(y=0, color='lightgray')\n",
        "\n",
        "ax.set_xlim([-2, 3])\n",
        "ax.set_ylim([-1, 5])\n",
        "ax.plot(b, c1, c='purple')\n",
        "ax.plot(b, c2, c='purple')\n",
        "plt.axvline(x=-1, color='green', linestyle='--')\n",
        "_ = plt.axhline(y=4, color='green', linestyle='--')"
      ],
      "metadata": {
        "id": "r3VtoLDa1pRf"
      },
      "execution_count": null,
      "outputs": []
    },
    {
      "cell_type": "markdown",
      "source": [
        "Inversa de una Matriz"
      ],
      "metadata": {
        "id": "HHip6QtGpLRX"
      }
    },
    {
      "cell_type": "code",
      "source": [
        "X_inv=np.linalg.inv(X)\n",
        "X_inv"
      ],
      "metadata": {
        "id": "YXYwPJMKpPdf"
      },
      "execution_count": null,
      "outputs": []
    },
    {
      "cell_type": "code",
      "source": [
        "#multiplicamos X**-1*X\n",
        "np.dot(X_inv,X)"
      ],
      "metadata": {
        "id": "PK2iQ9FYpkeO"
      },
      "execution_count": null,
      "outputs": []
    },
    {
      "cell_type": "code",
      "source": [
        "resultado=np.dot(X_inv,X)\n",
        "np.round(resultado)"
      ],
      "metadata": {
        "id": "B0XMb2Wtp0Pe"
      },
      "execution_count": null,
      "outputs": []
    },
    {
      "cell_type": "code",
      "source": [
        "X_tf=torch.tensor([[4,2],[-5,-3.]])\n",
        "X_tf"
      ],
      "metadata": {
        "id": "efu9agM8sZt8"
      },
      "execution_count": null,
      "outputs": []
    },
    {
      "cell_type": "code",
      "source": [
        "torch.inverse(X_tf)"
      ],
      "metadata": {
        "id": "R1beehbgs4xZ"
      },
      "execution_count": null,
      "outputs": []
    },
    {
      "cell_type": "code",
      "source": [
        "X_tf=tf.Variable([[4.,2.],[-5.,-3.]])\n",
        "X_tf"
      ],
      "metadata": {
        "id": "vMF6LtPatHQR"
      },
      "execution_count": null,
      "outputs": []
    },
    {
      "cell_type": "code",
      "source": [
        "tf.linalg.inv(X_tf)"
      ],
      "metadata": {
        "id": "upb4bxDgxD03"
      },
      "execution_count": null,
      "outputs": []
    },
    {
      "cell_type": "markdown",
      "source": [
        "Aplicaciones de Matrices"
      ],
      "metadata": {
        "id": "1bMTkrsFU8ed"
      }
    },
    {
      "cell_type": "markdown",
      "source": [
        "1.- Ejercicio1 Multiplicar I_3 x u_1"
      ],
      "metadata": {
        "id": "WPvVi9nfYRjq"
      }
    },
    {
      "cell_type": "code",
      "source": [
        "I_3=np.array([[1,0,0],[0,1,0],[0,0,1]])\n",
        "I_3"
      ],
      "metadata": {
        "id": "38kFXhs5VE30"
      },
      "execution_count": null,
      "outputs": []
    },
    {
      "cell_type": "code",
      "source": [
        "u_1=np.array([[2],[5],[-3]])\n",
        "u_1"
      ],
      "metadata": {
        "id": "9rHMlOG9X_ku"
      },
      "execution_count": null,
      "outputs": []
    },
    {
      "cell_type": "code",
      "source": [
        "np.dot(I_3,u_1)"
      ],
      "metadata": {
        "id": "8_GpzbH7YaA2"
      },
      "execution_count": null,
      "outputs": []
    },
    {
      "cell_type": "code",
      "source": [
        "I_3_pt=torch.tensor([[1,0,0],[0,1,0],[0,0,1]])\n",
        "I_3_pt"
      ],
      "metadata": {
        "id": "hnws7T2xYj71"
      },
      "execution_count": null,
      "outputs": []
    },
    {
      "cell_type": "code",
      "source": [
        "u_1_pt=torch.from_numpy(u_1)\n",
        "u_1_pt"
      ],
      "metadata": {
        "id": "llsllt0uY7qk"
      },
      "execution_count": null,
      "outputs": []
    },
    {
      "cell_type": "code",
      "source": [
        "torch.matmul(I_3_pt,u_1_pt)"
      ],
      "metadata": {
        "id": "q3tnvM6cZz8M"
      },
      "execution_count": null,
      "outputs": []
    },
    {
      "cell_type": "code",
      "source": [
        "I_3_tf=tf.Variable([[1,0,0],[0,1,0],[0,0,1]])\n",
        "I_3_tf"
      ],
      "metadata": {
        "id": "H9izQkaIaKwt"
      },
      "execution_count": null,
      "outputs": []
    },
    {
      "cell_type": "code",
      "source": [
        "u_1_tf=tf.convert_to_tensor(u_1,dtype=tf.int32)\n",
        "u_1_tf"
      ],
      "metadata": {
        "id": "ZaN9D-ngbpDo"
      },
      "execution_count": null,
      "outputs": []
    },
    {
      "cell_type": "code",
      "source": [
        "tf.matmul(I_3_tf,u_1_tf)"
      ],
      "metadata": {
        "id": "kyCj0TlUb-wn"
      },
      "execution_count": null,
      "outputs": []
    },
    {
      "cell_type": "markdown",
      "source": [
        "Ejercicio 2 B x u_2"
      ],
      "metadata": {
        "id": "4EfiU3S6dWQd"
      }
    },
    {
      "cell_type": "code",
      "source": [
        "B=np.array([[2,0,-1],[-2,3,1],[0,4,-1]])\n",
        "B"
      ],
      "metadata": {
        "id": "tjzu3etkdbho"
      },
      "execution_count": null,
      "outputs": []
    },
    {
      "cell_type": "code",
      "source": [
        "u_2=np.array([[2],[5],[-3]])\n",
        "u_2"
      ],
      "metadata": {
        "id": "2Mine2Whfw_i"
      },
      "execution_count": null,
      "outputs": []
    },
    {
      "cell_type": "code",
      "source": [
        "np.dot(B,u_2)"
      ],
      "metadata": {
        "id": "0bRtW76FgAVR"
      },
      "execution_count": null,
      "outputs": []
    },
    {
      "cell_type": "code",
      "source": [
        "B_pt=torch.tensor([[2,0,-1],[-2,3,1],[0,4,-1]])\n",
        "B_pt"
      ],
      "metadata": {
        "id": "dFC1HBVmgrLU"
      },
      "execution_count": null,
      "outputs": []
    },
    {
      "cell_type": "code",
      "source": [
        "u_2_pt=torch.from_numpy(u_2)\n",
        "u_2_pt"
      ],
      "metadata": {
        "id": "ysiyeuKPhV4d"
      },
      "execution_count": null,
      "outputs": []
    },
    {
      "cell_type": "code",
      "source": [
        "torch.matmul(B_pt,u_2_pt)"
      ],
      "metadata": {
        "id": "sKUpvilwjVW5"
      },
      "execution_count": null,
      "outputs": []
    },
    {
      "cell_type": "code",
      "source": [
        "B_tf=tf.Variable([[2,0,-1],[-2,3,1],[0,4,-1]])\n",
        "B_tf"
      ],
      "metadata": {
        "id": "ykWldyMGhwek"
      },
      "execution_count": null,
      "outputs": []
    },
    {
      "cell_type": "code",
      "source": [
        "u_2_tf=tf.convert_to_tensor(u_2,dtype=tf.int32)\n",
        "u_2_tf"
      ],
      "metadata": {
        "id": "AxnnTuSkiQZx"
      },
      "execution_count": null,
      "outputs": []
    },
    {
      "cell_type": "code",
      "source": [
        "tf.matmul(B_tf,u_2_tf)"
      ],
      "metadata": {
        "id": "0iT0hpSCi9oK"
      },
      "execution_count": null,
      "outputs": []
    },
    {
      "cell_type": "markdown",
      "source": [
        "Ejercicio 3 B x U  ==> u_1 + u_2 = U"
      ],
      "metadata": {
        "id": "XOiWC3uEj1VY"
      }
    },
    {
      "cell_type": "code",
      "source": [
        "U=np.array([[2,0],[5,-4],[-3,6]])\n",
        "U"
      ],
      "metadata": {
        "id": "8_5drXrAkIzV"
      },
      "execution_count": null,
      "outputs": []
    },
    {
      "cell_type": "code",
      "source": [
        "B=np.array([[2,0,-1],[-2,3,1],[0,4,-1]])\n",
        "B"
      ],
      "metadata": {
        "id": "6rmektFKkq8j"
      },
      "execution_count": null,
      "outputs": []
    },
    {
      "cell_type": "code",
      "source": [
        "np.dot(B,U)"
      ],
      "metadata": {
        "id": "YatbYh-flLv7"
      },
      "execution_count": null,
      "outputs": []
    },
    {
      "cell_type": "code",
      "source": [
        "B_pt=torch.tensor([[2,0,-1],[-2,3,1],[0,4,-1]])\n",
        "B_pt"
      ],
      "metadata": {
        "id": "bLzhGuUVlUs6"
      },
      "execution_count": null,
      "outputs": []
    },
    {
      "cell_type": "code",
      "source": [
        "U_pt=torch.from_numpy(U)\n",
        "U_pt"
      ],
      "metadata": {
        "id": "pqgXFPrwmSBa"
      },
      "execution_count": null,
      "outputs": []
    },
    {
      "cell_type": "code",
      "source": [
        "torch.matmul(B_pt,U_pt)"
      ],
      "metadata": {
        "id": "nPmwQbSzm5yu"
      },
      "execution_count": null,
      "outputs": []
    },
    {
      "cell_type": "code",
      "source": [
        "B_tf=tf.Variable([[2,0,-1],[-2,3,1],[0,4,-1]])\n",
        "B_tf"
      ],
      "metadata": {
        "id": "9IM6SnSSnEJe"
      },
      "execution_count": null,
      "outputs": []
    },
    {
      "cell_type": "code",
      "source": [
        "U_tf=tf.convert_to_tensor(U,dtype=tf.int32)\n",
        "U_tf"
      ],
      "metadata": {
        "id": "0vCq__4lni79"
      },
      "execution_count": null,
      "outputs": []
    },
    {
      "cell_type": "code",
      "source": [
        "tf.matmul(B_tf,U_tf)"
      ],
      "metadata": {
        "id": "aRe2QegSn6WP"
      },
      "execution_count": null,
      "outputs": []
    },
    {
      "cell_type": "markdown",
      "source": [
        "Transformacion afin mediante Aplicacion Matricial"
      ],
      "metadata": {
        "id": "FgBC-mp4CzTr"
      }
    },
    {
      "cell_type": "code",
      "source": [
        "#Creamos un vector\n",
        "v=np.array([3,1])\n",
        "v"
      ],
      "metadata": {
        "id": "J4J6SMhBC5ti"
      },
      "execution_count": null,
      "outputs": []
    },
    {
      "cell_type": "markdown",
      "source": [
        "Lo representamos usando la funcion plot_vectors()==> Haidren Jean"
      ],
      "metadata": {
        "id": "EmdTR7fQEEEF"
      }
    },
    {
      "cell_type": "code",
      "source": [
        "def plot_vectors(vectors,colors):\n",
        "  plt.figure()\n",
        "  plt.axvline(x=0,color='#dadada')\n",
        "  plt.axhline(y=0,color='#dadada')\n",
        "  plt.grid(color='#dadada',linestyle='--')\n",
        "\n",
        "  for i in range(len(vectors)):\n",
        "    x=np.concatenate([[0,0],vectors[i]])\n",
        "    plt.quiver([x[0]],[x[1]],[x[2]],[x[3]],angles='xy',scale_units='xy',scale=1,color=colors[i])"
      ],
      "metadata": {
        "id": "XMsXAzGBDAbC"
      },
      "execution_count": null,
      "outputs": []
    },
    {
      "cell_type": "code",
      "source": [
        "#usando el ejemplo\n",
        "plot_vectors([v],['blue'])\n",
        "plt.xlabel('X')\n",
        "plt.ylabel('Y')\n",
        "plt.xlim(-1,5)\n",
        "plt.ylim(-1,5)\n"
      ],
      "metadata": {
        "id": "YDuz9XB-FZ5H"
      },
      "execution_count": null,
      "outputs": []
    },
    {
      "cell_type": "markdown",
      "source": [
        "Aplicar una matriz a un vector (es decir, realizar una multiplicación matriz-vector) puede transformar linealmente el vector, por ejemplo, rotarlo o reescalarlo.\n",
        "\n",
        "La matriz identidad, introducida anteriormente, es la excepción que confirma la regla: La aplicación de una matriz identidad no transforma el vector:"
      ],
      "metadata": {
        "id": "BuP9Qzg2JojI"
      }
    },
    {
      "cell_type": "code",
      "source": [
        "I=np.array([[1,0],[0,1]])\n",
        "I"
      ],
      "metadata": {
        "id": "Vd8MGLMjJ-5X"
      },
      "execution_count": null,
      "outputs": []
    },
    {
      "cell_type": "code",
      "source": [
        "Iv=np.dot(I,v)\n",
        "Iv"
      ],
      "metadata": {
        "id": "go-iOmc4Kn62"
      },
      "execution_count": null,
      "outputs": []
    },
    {
      "cell_type": "code",
      "source": [
        "v==Iv"
      ],
      "metadata": {
        "id": "HhdY1qInLnpH"
      },
      "execution_count": null,
      "outputs": []
    },
    {
      "cell_type": "markdown",
      "source": [
        "Por el contrario, consideremos esta matriz (llamémosla E) que voltea los vectores sobre el eje x:"
      ],
      "metadata": {
        "id": "wydrf3WsDR5B"
      }
    },
    {
      "cell_type": "code",
      "source": [
        "E=np.array([[1,0],[0,-1]])\n",
        "E"
      ],
      "metadata": {
        "id": "JM4yYWTuDn2K"
      },
      "execution_count": null,
      "outputs": []
    },
    {
      "cell_type": "code",
      "source": [
        "Ev=np.dot(E,v)\n",
        "Ev"
      ],
      "metadata": {
        "id": "W2gvnJ2cD5JR"
      },
      "execution_count": null,
      "outputs": []
    },
    {
      "cell_type": "code",
      "source": [
        "plot_vectors([v, Ev], ['lightblue', 'blue'])\n",
        "plt.xlim(-1, 5)\n",
        "plt.ylim(-2, 3)\n",
        "plt.xlabel('X')\n",
        "plt.ylabel('Y')"
      ],
      "metadata": {
        "id": "69K7fHT4FamX"
      },
      "execution_count": null,
      "outputs": []
    },
    {
      "cell_type": "markdown",
      "source": [
        "o esta matriz *F* **texto en negrita** que voltea los ejes Y"
      ],
      "metadata": {
        "id": "w6xb1_PsKWC4"
      }
    },
    {
      "cell_type": "code",
      "source": [
        "F=np.array([[-1,0],[0,1]])\n",
        "F"
      ],
      "metadata": {
        "id": "X26jiF1uK0BH"
      },
      "execution_count": null,
      "outputs": []
    },
    {
      "cell_type": "code",
      "source": [
        "Fv=np.dot(F,v)\n",
        "Fv"
      ],
      "metadata": {
        "id": "OxwMYW0vK-d_"
      },
      "execution_count": null,
      "outputs": []
    },
    {
      "cell_type": "code",
      "source": [
        "plot_vectors([v,Fv],['blue','red'])\n",
        "plt.xlim(-5,5)\n",
        "plt.ylim(-1,2)\n",
        "plt.xlabel('X')\n",
        "plt.ylabel('Y')"
      ],
      "metadata": {
        "id": "PWThPrYiLHQG"
      },
      "execution_count": null,
      "outputs": []
    },
    {
      "cell_type": "markdown",
      "source": [
        "Aplicar una matriz de volteo es un ejemplo de transformación afín: un cambio en la geometría que puede ajustar distancias o ángulos entre vectores, pero preserva el paralelismo entre ellos.\n",
        "\n",
        "Además de voltear una matriz sobre un eje (también conocido como reflexión), otras transformaciones afines comunes incluyen:\n",
        "\n",
        "Escalado (cambiando la longitud de los vectores)\n",
        "Cizallamiento (cambiando la longitud de los vectores como veremos con la Mona Lisa)\n",
        "Rotación\n",
        "(Ver aquí para una destacada entrada de blog sobre transformaciones afines en Python, incluyendo cómo aplicarlas tanto a imágenes como a vectores)\n",
        "\n",
        "Una sola matriz puede aplicar múltiples transformaciones afines simultáneamente (por ejemplo, voltear sobre un eje y rotar 45 grados). Como ejemplo, veamos qué ocurre cuando aplicamos esta matriz A al vector v:"
      ],
      "metadata": {
        "id": "8aFd0CVrN1W_"
      }
    },
    {
      "cell_type": "code",
      "source": [
        "A=np.array([[-1,4],[2,-2]])\n",
        "A"
      ],
      "metadata": {
        "id": "kRLRsgLhOH1x"
      },
      "execution_count": null,
      "outputs": []
    },
    {
      "cell_type": "code",
      "source": [
        "Av=np.dot(A,v)\n",
        "Av"
      ],
      "metadata": {
        "id": "B46hEqypppEZ"
      },
      "execution_count": null,
      "outputs": []
    },
    {
      "cell_type": "code",
      "source": [
        "plot_vectors([v,Av],['lightblue','blue'])\n",
        "plt.xlim(-1,5)\n",
        "plt.ylim(-1,5)\n",
        "plt.xlabel('X')\n",
        "plt.ylabel('Y')"
      ],
      "metadata": {
        "id": "WkZT0__GqDx0"
      },
      "execution_count": null,
      "outputs": []
    },
    {
      "cell_type": "code",
      "source": [
        "#Podemos hacer otro ejemplo aplicacion de la Matriz A\n",
        "v2=np.array([2,1])\n",
        "v2"
      ],
      "metadata": {
        "id": "AHowHG87fZDW"
      },
      "execution_count": null,
      "outputs": []
    },
    {
      "cell_type": "code",
      "source": [
        "plot_vectors([v2,np.dot(A,v2)],['lightgreen','green'])\n",
        "plt.xlim(-1,3)\n",
        "plt.ylim(-1,3)\n",
        "plt.xlabel('X')\n",
        "plt.ylabel('Y')\n"
      ],
      "metadata": {
        "id": "2XZBB6crfwlD"
      },
      "execution_count": null,
      "outputs": []
    },
    {
      "cell_type": "markdown",
      "source": [
        "Podemos concatenar varios vectores juntos en una matriz (digamos, V), donde cada columna es un vector independiente. Entonces, cualquier transformación lineal que apliquemos a V se aplicará independientemente a cada columna (vector):"
      ],
      "metadata": {
        "id": "EcKPM8iDgx6q"
      }
    },
    {
      "cell_type": "code",
      "source": [
        "v"
      ],
      "metadata": {
        "id": "gUpy2ttZg4Ja"
      },
      "execution_count": null,
      "outputs": []
    },
    {
      "cell_type": "code",
      "source": [
        "# recordemos que necesitamos convertir array a 2D para transponer en columna, p.e:\n",
        "\n",
        "np.matrix(v).T"
      ],
      "metadata": {
        "id": "kLkBQPB-hpgQ"
      },
      "execution_count": null,
      "outputs": []
    },
    {
      "cell_type": "code",
      "source": [],
      "metadata": {
        "id": "v6XUrkGMWypa"
      },
      "execution_count": null,
      "outputs": []
    },
    {
      "cell_type": "code",
      "metadata": {
        "id": "Zb9cSgjnj3XB"
      },
      "source": [
        "# imagen especular de v en ambos ejes\n",
        "v3=np.array([-3,-1])\n",
        "v4 = np.array([-1, 1])"
      ],
      "execution_count": null,
      "outputs": []
    },
    {
      "cell_type": "code",
      "source": [
        "V=np.concatenate((np.matrix(v).T,\n",
        "                  np.matrix(v2).T,\n",
        "                  np.matrix(v3).T,\n",
        "                  np.matrix(v4).T),axis=1)\n",
        "V"
      ],
      "metadata": {
        "id": "7nbFC13oYlmy"
      },
      "execution_count": null,
      "outputs": []
    },
    {
      "cell_type": "code",
      "source": [
        "IV=np.dot(I,V)\n",
        "IV"
      ],
      "metadata": {
        "id": "Ut9jF4AdaNo1"
      },
      "execution_count": null,
      "outputs": []
    },
    {
      "cell_type": "code",
      "source": [
        "AV=np.dot(A,V)\n",
        "AV"
      ],
      "metadata": {
        "id": "yEVCi_AdafaN"
      },
      "execution_count": null,
      "outputs": []
    },
    {
      "cell_type": "code",
      "source": [
        "#función para convertir una columna de matriz en un vector 1D:\n",
        "def vectorfy(mtrx, clmn):\n",
        "    return np.array(mtrx[:,clmn]).reshape(-1)\n"
      ],
      "metadata": {
        "id": "3WafeuBNOM1r"
      },
      "execution_count": null,
      "outputs": []
    },
    {
      "cell_type": "code",
      "metadata": {
        "id": "L2eQ4w83j3XH",
        "collapsed": true
      },
      "source": [
        "vectorfy(V,0)"
      ],
      "execution_count": null,
      "outputs": []
    },
    {
      "cell_type": "code",
      "source": [
        "vectorfy(V,1)"
      ],
      "metadata": {
        "id": "HjmD8s2YRFZc"
      },
      "execution_count": null,
      "outputs": []
    },
    {
      "cell_type": "code",
      "source": [
        "vectorfy(V,0)==v"
      ],
      "metadata": {
        "id": "FuloYbtTRLnd"
      },
      "execution_count": null,
      "outputs": []
    },
    {
      "cell_type": "code",
      "source": [
        "plot_vectors([vectorfy(V,0),vectorfy(V,1),vectorfy(V,2),vectorfy(V,3),\n",
        "vectorfy(AV,0),vectorfy(AV,1),vectorfy(AV,2),vectorfy(AV,3)],\n",
        " ['lightblue','lightgreen','lightgray','orange','blue','green','gray','red'])\n",
        "plt.xlim(-5,6)\n",
        "plt.ylim(-5,6)\n",
        "plt.xlabel('X')\n",
        "plt.ylabel('Y')"
      ],
      "metadata": {
        "id": "Judeo9fvVLG3"
      },
      "execution_count": null,
      "outputs": []
    },
    {
      "cell_type": "markdown",
      "source": [
        "Valores y Vectores Propios\n",
        "Un vector propio (eigen en alemán significa «típico»; podríamos traducir vector propio por «vector característico») es un vector especial v tal que cuando se transforma por alguna matriz (digamos A), el producto Av tiene exactamente la misma dirección que v.\n",
        "\n",
        "Un valor propio es un escalar (tradicionalmente representado como λ) que simplemente escala el vector propio v de tal manera que se cumple la siguiente ecuación:\n",
        "\n",
        "Av=λv\n",
        "\n",
        "La forma más fácil de entenderlo es a través de un ejemplo:"
      ],
      "metadata": {
        "id": "jub2BXGzpCJu"
      }
    },
    {
      "cell_type": "code",
      "source": [
        "A=np.array([[-1,4],[2,-2]])\n",
        "A"
      ],
      "metadata": {
        "id": "rJIYl5wlqKor"
      },
      "execution_count": null,
      "outputs": []
    },
    {
      "cell_type": "markdown",
      "source": [
        "Los valores y vectores propios pueden derivarse algebraicamente (por ejemplo, con el algoritmo QR, que fue desarrollado independientemente en los años 50 por Vera Kublanovskaya y John Francis), sin embargo esto está fuera del alcance de la serie ML Foundations. Haremos trampas con el método NumPy eig(), que devuelve una tupla de:\n",
        "\n",
        "un vector de valores propios\n",
        "una matriz de vectores propios"
      ],
      "metadata": {
        "id": "2JyczWaEqfPO"
      }
    },
    {
      "cell_type": "code",
      "source": [
        "lambdas,V=np.linalg.eig(A)"
      ],
      "metadata": {
        "id": "_OGZs6oKqoZ_"
      },
      "execution_count": null,
      "outputs": []
    },
    {
      "cell_type": "code",
      "source": [
        "V"
      ],
      "metadata": {
        "id": "GsC3fPxesaxy"
      },
      "execution_count": null,
      "outputs": []
    },
    {
      "cell_type": "code",
      "source": [
        "lambdas"
      ],
      "metadata": {
        "id": "ZCCpsGX-sjpT"
      },
      "execution_count": null,
      "outputs": []
    },
    {
      "cell_type": "markdown",
      "source": [
        "Con un valor propio correspondiente para cada vector propio:\n"
      ],
      "metadata": {
        "id": "3i8Un42xtEet"
      }
    },
    {
      "cell_type": "markdown",
      "source": [
        "Confirmemos que Av=λv para el primer vector propio:"
      ],
      "metadata": {
        "id": "uffN5r5ctVWt"
      }
    },
    {
      "cell_type": "code",
      "source": [
        "v=V[:,0]\n",
        "v"
      ],
      "metadata": {
        "id": "Xp04tpXctQBI"
      },
      "execution_count": null,
      "outputs": []
    },
    {
      "cell_type": "code",
      "source": [
        "lamb=lambdas[0]\n",
        "lamb"
      ],
      "metadata": {
        "id": "qvgPK1ymt03e"
      },
      "execution_count": null,
      "outputs": []
    },
    {
      "cell_type": "code",
      "source": [
        "Av=np.dot(A,v)\n",
        "Av"
      ],
      "metadata": {
        "id": "E5W0tD_muOkA"
      },
      "execution_count": null,
      "outputs": []
    },
    {
      "cell_type": "code",
      "source": [
        "lamb*v"
      ],
      "metadata": {
        "id": "ox3rkc8JuThW"
      },
      "execution_count": null,
      "outputs": []
    },
    {
      "cell_type": "code",
      "source": [
        "Av==lamb*v"
      ],
      "metadata": {
        "id": "rlVTXEFNuerA"
      },
      "execution_count": null,
      "outputs": []
    },
    {
      "cell_type": "code",
      "source": [
        "plot_vectors([Av,v],['lightblue','blue'])\n",
        "plt.xlim(-1,2)\n",
        "plt.ylim(-1,2)\n",
        "plt.xlabel('X')\n",
        "plt.ylabel('Y')"
      ],
      "metadata": {
        "id": "e9TpiC75ulQH"
      },
      "execution_count": null,
      "outputs": []
    },
    {
      "cell_type": "markdown",
      "source": [
        "Vamos con la segunda columna:"
      ],
      "metadata": {
        "id": "yQe4UiL_Yw_x"
      }
    },
    {
      "cell_type": "code",
      "source": [
        "v2=V[:,1]\n",
        "v2"
      ],
      "metadata": {
        "id": "nMBc1gRPZXgs"
      },
      "execution_count": null,
      "outputs": []
    },
    {
      "cell_type": "code",
      "source": [
        "lamb2=lambdas[1]\n",
        "lamb2"
      ],
      "metadata": {
        "id": "V7yUACvSaSGM"
      },
      "execution_count": null,
      "outputs": []
    },
    {
      "cell_type": "code",
      "source": [
        "Av2=np.dot(A,v2)\n",
        "Av2"
      ],
      "metadata": {
        "id": "m70xlAS_acbV"
      },
      "execution_count": null,
      "outputs": []
    },
    {
      "cell_type": "code",
      "source": [
        "lamb2*v2"
      ],
      "metadata": {
        "id": "vZ0zivtha64i"
      },
      "execution_count": null,
      "outputs": []
    },
    {
      "cell_type": "code",
      "source": [
        "Av2==lamb2*v2"
      ],
      "metadata": {
        "id": "KS8m7kmgaqAi"
      },
      "execution_count": null,
      "outputs": []
    },
    {
      "cell_type": "code",
      "source": [
        "plot_vectors([Av2,v2],['orange','red'])\n",
        "plt.xlim(-2,4)\n",
        "plt.ylim(-4,2)\n",
        "plt.xlabel('X')\n",
        "plt.ylabel('Y')"
      ],
      "metadata": {
        "id": "Ca8PUFRYct24"
      },
      "execution_count": null,
      "outputs": []
    },
    {
      "cell_type": "code",
      "source": [
        "plot_vectors([Av,v,Av2,v2],['lightblue','blue','orange','red'])\n",
        "plt.xlim(-1,4)\n",
        "plt.ylim(-3,3)\n",
        "plt.xlabel('X')\n",
        "plt.ylabel('Y')"
      ],
      "metadata": {
        "id": "DulOR0FievXk"
      },
      "execution_count": null,
      "outputs": []
    },
    {
      "cell_type": "markdown",
      "source": [
        "Usando el método eig() de PyTorch, podemos hacer exactamente lo mismo:"
      ],
      "metadata": {
        "id": "ImiIN871fo9x"
      }
    },
    {
      "cell_type": "code",
      "source": [
        "A=np.array([[-1,4],[2,-2.]])\n",
        "A"
      ],
      "metadata": {
        "id": "smPYT8tlfqNb"
      },
      "execution_count": null,
      "outputs": []
    },
    {
      "cell_type": "code",
      "source": [
        "# debe ser tipo float para poder usar PyTorch eig()\n",
        "A_pt=torch.from_numpy(A)\n",
        "A_pt"
      ],
      "metadata": {
        "id": "rQPs7jgYhOJh"
      },
      "execution_count": null,
      "outputs": []
    },
    {
      "cell_type": "code",
      "metadata": {
        "id": "9WvCqoRij3Xf"
      },
      "source": [
        "lambdas_pt,V_pt=torch.linalg.eig(A_pt)"
      ],
      "execution_count": null,
      "outputs": []
    },
    {
      "cell_type": "code",
      "source": [
        "v_pt=V_pt.double()\n",
        "v_pt"
      ],
      "metadata": {
        "id": "e5xVLWE4j-jO"
      },
      "execution_count": null,
      "outputs": []
    },
    {
      "cell_type": "code",
      "source": [
        "lambdas_pt=lambdas_pt.double()\n",
        "lambdas_pt"
      ],
      "metadata": {
        "id": "vFfkEeiIkevy"
      },
      "execution_count": null,
      "outputs": []
    },
    {
      "cell_type": "code",
      "source": [
        "v_pt1=v_pt[:,0]\n",
        "v_pt1"
      ],
      "metadata": {
        "id": "Ffhw_Gz_mJ6v"
      },
      "execution_count": null,
      "outputs": []
    },
    {
      "cell_type": "code",
      "source": [
        "lambdas_pt1=lambdas_pt[0]\n",
        "lambdas_pt1"
      ],
      "metadata": {
        "id": "4EDGHR0fn2hg"
      },
      "execution_count": null,
      "outputs": []
    },
    {
      "cell_type": "code",
      "source": [
        "A_ptv_pt1=torch.matmul(A_pt,v_pt1)\n",
        "A_ptv_pt1"
      ],
      "metadata": {
        "id": "MAwz2topoM42"
      },
      "execution_count": null,
      "outputs": []
    },
    {
      "cell_type": "code",
      "source": [
        "lambdas_pt1*v_pt1"
      ],
      "metadata": {
        "id": "vB69Lb4Uomz2"
      },
      "execution_count": null,
      "outputs": []
    },
    {
      "cell_type": "code",
      "source": [
        "A_ptv_pt1==lambdas_pt1*v_pt1"
      ],
      "metadata": {
        "id": "E2RVWFJyo26j"
      },
      "execution_count": null,
      "outputs": []
    },
    {
      "cell_type": "code",
      "source": [
        "v_pt2=V_pt[:,1]\n",
        "v_pt2"
      ],
      "metadata": {
        "id": "Zwaz2Ijlp2yV"
      },
      "execution_count": null,
      "outputs": []
    },
    {
      "cell_type": "code",
      "source": [
        "v_pt2=v_pt2.double()\n",
        "v_pt2"
      ],
      "metadata": {
        "id": "ds_2a9UNqKSB"
      },
      "execution_count": null,
      "outputs": []
    },
    {
      "cell_type": "code",
      "source": [
        "lambdas_pt2=lambdas_pt[1]\n",
        "lambdas_pt2=lambdas_pt2.double()\n",
        "lambdas_pt2"
      ],
      "metadata": {
        "id": "vQWS8T5OqU5B"
      },
      "execution_count": null,
      "outputs": []
    },
    {
      "cell_type": "code",
      "source": [
        "A_ptv_pt2=torch.matmul(A_pt,v_pt2)\n",
        "A_ptv_pt2.float()"
      ],
      "metadata": {
        "id": "dLaLUe2UqkGh"
      },
      "execution_count": null,
      "outputs": []
    },
    {
      "cell_type": "code",
      "source": [
        "A_ptv_pt2==lambdas_pt2.float()*v_pt2.float()"
      ],
      "metadata": {
        "id": "uqI2KuwprZZw"
      },
      "execution_count": null,
      "outputs": []
    },
    {
      "cell_type": "code",
      "source": [
        "lambdas_pt2*v_pt2"
      ],
      "metadata": {
        "id": "T7pS3-7Brf8b"
      },
      "execution_count": null,
      "outputs": []
    },
    {
      "cell_type": "code",
      "source": [
        "plot_vectors([A_ptv_pt1,v_pt1,A_ptv_pt2,v_pt2],['lightblue','blue','orange','red'])\n",
        "plt.xlim(-1,4)\n",
        "plt.ylim(-3,3)\n",
        "plt.xlabel('X')\n",
        "plt.ylabel('Y')"
      ],
      "metadata": {
        "id": "EclGrdSys3vB"
      },
      "execution_count": null,
      "outputs": []
    },
    {
      "cell_type": "markdown",
      "source": [
        "Aunque la representación se complica en espacios de mayor dimensión, podemos encontrar y utilizar eigenvectores con más de dos dimensiones. He aquí un ejemplo en 3D (se manejan tres dimensiones en tres filas):"
      ],
      "metadata": {
        "id": "VRhiBMcHucL1"
      }
    },
    {
      "cell_type": "code",
      "source": [
        "X=np.array([[25,2,9],[5,26,-5],[3,7,-1]])\n",
        "X"
      ],
      "metadata": {
        "id": "yzOaUOzsugEA"
      },
      "execution_count": null,
      "outputs": []
    },
    {
      "cell_type": "code",
      "source": [
        "lambdas,V_X=np.linalg.eig(X)"
      ],
      "metadata": {
        "id": "3AcYNRwVNO4N"
      },
      "execution_count": null,
      "outputs": []
    },
    {
      "cell_type": "code",
      "source": [
        "V_X"
      ],
      "metadata": {
        "id": "7wsZP-M9NjSS"
      },
      "execution_count": null,
      "outputs": []
    },
    {
      "cell_type": "code",
      "source": [
        "lambdas"
      ],
      "metadata": {
        "id": "LeoMHkhvNl1a"
      },
      "execution_count": null,
      "outputs": []
    },
    {
      "cell_type": "code",
      "source": [
        "V_X1=V_X[:,0]\n",
        "V_X1"
      ],
      "metadata": {
        "id": "bSHIsSY1Nqjp"
      },
      "execution_count": null,
      "outputs": []
    },
    {
      "cell_type": "code",
      "source": [
        "lambdas1=lambdas[0]\n",
        "lambdas1"
      ],
      "metadata": {
        "id": "68OO60WRN3Js"
      },
      "execution_count": null,
      "outputs": []
    },
    {
      "cell_type": "code",
      "source": [
        "XV_X1=np.dot(X,V_X1)\n",
        "XV_X1"
      ],
      "metadata": {
        "id": "CHylVWLCT4lN"
      },
      "execution_count": null,
      "outputs": []
    },
    {
      "cell_type": "code",
      "source": [
        "lambdas1*V_X1"
      ],
      "metadata": {
        "id": "hKM0BRVjWaED"
      },
      "execution_count": null,
      "outputs": []
    },
    {
      "cell_type": "markdown",
      "source": [],
      "metadata": {
        "id": "LvoBS7KeujWy"
      }
    },
    {
      "cell_type": "code",
      "source": [
        "V_X2=V_X[:,1]\n",
        "V_X2"
      ],
      "metadata": {
        "id": "9OVhrkpvWNaw"
      },
      "execution_count": null,
      "outputs": []
    },
    {
      "cell_type": "code",
      "source": [
        "lambdas2=lambdas[1]\n",
        "lambdas2"
      ],
      "metadata": {
        "id": "l7Czt2Y4Wq2-"
      },
      "execution_count": null,
      "outputs": []
    },
    {
      "cell_type": "code",
      "source": [
        "XV_X2=np.dot(X,V_X2)\n",
        "XV_X2"
      ],
      "metadata": {
        "id": "2zkI0HJFW6H1"
      },
      "execution_count": null,
      "outputs": []
    },
    {
      "cell_type": "code",
      "source": [
        "lambdas2*V_X2"
      ],
      "metadata": {
        "id": "SkkyIFgEYgsy"
      },
      "execution_count": null,
      "outputs": []
    },
    {
      "cell_type": "code",
      "source": [
        "V_X3=V_X[:,2]\n",
        "V_X3"
      ],
      "metadata": {
        "id": "NOqTU2V7Yn4i"
      },
      "execution_count": null,
      "outputs": []
    },
    {
      "cell_type": "code",
      "source": [
        "lambdas3=lambdas[2]\n",
        "lambdas3"
      ],
      "metadata": {
        "id": "U4G7S4n1dK9v"
      },
      "execution_count": null,
      "outputs": []
    },
    {
      "cell_type": "code",
      "source": [
        "XV_X3=np.dot(X,V_X3)\n",
        "XV_X3"
      ],
      "metadata": {
        "id": "4uQdW9IhdRAQ"
      },
      "execution_count": null,
      "outputs": []
    },
    {
      "cell_type": "code",
      "source": [
        "lambdas3*V_X3"
      ],
      "metadata": {
        "id": "ID_fJhq3dXmU"
      },
      "execution_count": null,
      "outputs": []
    },
    {
      "cell_type": "markdown",
      "source": [
        "Ejercicios:\n",
        "\n",
        "Utilizar PyTorch para confirmar Xv=λv para el primer vector propio de X.\n",
        "Confirmar Xv=λv para los restantes vectores propios de X (se puede utilizar NumPy o PyTorch, lo que prefiera)."
      ],
      "metadata": {
        "id": "kWiv4B_yW_y8"
      }
    },
    {
      "cell_type": "code",
      "source": [
        "X=torch.tensor([[25,2,9],[5,26,-5],[3,7,-1.]])\n",
        "X"
      ],
      "metadata": {
        "id": "qY2clS_aXBvK"
      },
      "execution_count": null,
      "outputs": []
    },
    {
      "cell_type": "code",
      "source": [
        "lambdas,V_X=torch.linalg.eig(X)"
      ],
      "metadata": {
        "id": "zIXN-SgqZz9c"
      },
      "execution_count": null,
      "outputs": []
    },
    {
      "cell_type": "code",
      "source": [
        "V_X"
      ],
      "metadata": {
        "id": "xRyuwND5eEG3"
      },
      "execution_count": null,
      "outputs": []
    },
    {
      "cell_type": "code",
      "source": [
        "X_v1=V_X[:,0]\n",
        "X_v1"
      ],
      "metadata": {
        "id": "0XKv5UGjXsDW"
      },
      "execution_count": null,
      "outputs": []
    },
    {
      "cell_type": "code",
      "source": [
        "X_v1=X_v1.float()\n",
        "X_v1"
      ],
      "metadata": {
        "id": "RokoaZJcaH21"
      },
      "execution_count": null,
      "outputs": []
    },
    {
      "cell_type": "code",
      "source": [
        "lambdas.float()"
      ],
      "metadata": {
        "id": "coYvmSRSiXec"
      },
      "execution_count": null,
      "outputs": []
    },
    {
      "cell_type": "code",
      "source": [
        "lambdas_1=lambdas[0]\n",
        "lambdas_1.float()"
      ],
      "metadata": {
        "id": "niFHtOW8X5jq"
      },
      "execution_count": null,
      "outputs": []
    },
    {
      "cell_type": "code",
      "source": [
        "Xv_1=torch.matmul(X,X_v1)\n",
        "Xv_1"
      ],
      "metadata": {
        "id": "lRFEOG0hYCfL"
      },
      "execution_count": null,
      "outputs": []
    },
    {
      "cell_type": "code",
      "source": [
        "lambdas_1.float()*X_v1"
      ],
      "metadata": {
        "id": "sc90Fn8yahUF"
      },
      "execution_count": null,
      "outputs": []
    },
    {
      "cell_type": "code",
      "source": [
        "Xv_1==lambdas_1.float()*X_v1"
      ],
      "metadata": {
        "id": "2TWeHTa9ayYb"
      },
      "execution_count": null,
      "outputs": []
    },
    {
      "cell_type": "code",
      "source": [
        "X_v2=V_X[:,1]\n",
        "X_v2.float()"
      ],
      "metadata": {
        "id": "9JGScxzBbOvL"
      },
      "execution_count": null,
      "outputs": []
    },
    {
      "cell_type": "code",
      "source": [
        "lambdas_2=lambdas[1]\n",
        "lambdas_2.float()"
      ],
      "metadata": {
        "id": "F0FQsfqrbtgg"
      },
      "execution_count": null,
      "outputs": []
    },
    {
      "cell_type": "code",
      "source": [
        "Xv_2=torch.matmul(X,X_v2.float())\n",
        "Xv_2.float()"
      ],
      "metadata": {
        "id": "xaaqjA8Tb89P"
      },
      "execution_count": null,
      "outputs": []
    },
    {
      "cell_type": "code",
      "source": [
        "lambdas_2.float()*X_v2.float()"
      ],
      "metadata": {
        "id": "264KoxaVdkDV"
      },
      "execution_count": null,
      "outputs": []
    },
    {
      "cell_type": "code",
      "source": [
        "Xv_2.float()==lambdas_2.float()*X_v2.float()"
      ],
      "metadata": {
        "id": "jAugIH0KhlAj"
      },
      "execution_count": null,
      "outputs": []
    },
    {
      "cell_type": "code",
      "source": [
        "X_v3=V_X[:,2]\n",
        "X_v3.float()"
      ],
      "metadata": {
        "id": "HsVzDiMLh3SX"
      },
      "execution_count": null,
      "outputs": []
    },
    {
      "cell_type": "code",
      "source": [
        "lambdas_3=lambdas[2]\n",
        "lambdas_3.float()"
      ],
      "metadata": {
        "id": "aVraSga7iEtW"
      },
      "execution_count": null,
      "outputs": []
    },
    {
      "cell_type": "code",
      "source": [
        "Xv_3=torch.matmul(X,X_v3.float())\n",
        "Xv_3.float()"
      ],
      "metadata": {
        "id": "W_vTYj9lid7P"
      },
      "execution_count": null,
      "outputs": []
    },
    {
      "cell_type": "code",
      "source": [
        "lambdas_3.float()*X_v3.float()"
      ],
      "metadata": {
        "id": "LIVgNWgljOKc"
      },
      "execution_count": null,
      "outputs": []
    },
    {
      "cell_type": "code",
      "source": [
        "Xv_3.float()==lambdas_3.float()*X_v3.float()"
      ],
      "metadata": {
        "id": "HbxhYjLEjqKq"
      },
      "execution_count": null,
      "outputs": []
    },
    {
      "cell_type": "markdown",
      "source": [
        "Determinantes de una Matriz"
      ],
      "metadata": {
        "id": "IWe2ZM4KNFp2"
      }
    },
    {
      "cell_type": "code",
      "source": [
        "X=np.array([[4,2],[-5,-3]])\n",
        "X"
      ],
      "metadata": {
        "id": "DDm_HDocNJls"
      },
      "execution_count": null,
      "outputs": []
    },
    {
      "cell_type": "code",
      "source": [
        "np.linalg.det(X)"
      ],
      "metadata": {
        "id": "KHv5AefiNUPs"
      },
      "execution_count": null,
      "outputs": []
    },
    {
      "cell_type": "code",
      "source": [
        "N=np.array([[-4,1],[-8,2]])\n",
        "N"
      ],
      "metadata": {
        "id": "mfbtFZKlNf1l"
      },
      "execution_count": null,
      "outputs": []
    },
    {
      "cell_type": "code",
      "source": [
        "np.linalg.det(N)"
      ],
      "metadata": {
        "id": "E6UuYIwSPBax"
      },
      "execution_count": null,
      "outputs": []
    },
    {
      "cell_type": "code",
      "source": [
        "X=torch.tensor([[4,2],[-5,-3.]])\n",
        "X"
      ],
      "metadata": {
        "id": "-aJKwxiVPKZ7"
      },
      "execution_count": null,
      "outputs": []
    },
    {
      "cell_type": "code",
      "source": [
        "torch.det(X)"
      ],
      "metadata": {
        "id": "unl1SR-3PV2P"
      },
      "execution_count": null,
      "outputs": []
    },
    {
      "cell_type": "code",
      "source": [
        "N=torch.tensor([[-4,1],[-8,2.]])\n",
        "N"
      ],
      "metadata": {
        "id": "fcmKRi4ZPksQ"
      },
      "execution_count": null,
      "outputs": []
    },
    {
      "cell_type": "code",
      "source": [
        "torch.det(N)"
      ],
      "metadata": {
        "id": "HsgLJsbkPzh-"
      },
      "execution_count": null,
      "outputs": []
    },
    {
      "cell_type": "code",
      "source": [
        "X=tf.Variable([[4,2],[-5,-3.]])\n",
        "X"
      ],
      "metadata": {
        "id": "h_kYBxe-QM4G"
      },
      "execution_count": null,
      "outputs": []
    },
    {
      "cell_type": "code",
      "source": [
        "tf.linalg.det(X)"
      ],
      "metadata": {
        "id": "jMqayqCzQz_j"
      },
      "execution_count": null,
      "outputs": []
    },
    {
      "cell_type": "code",
      "source": [
        "N=tf.Variable([[-4,1],[-8,2.]])\n",
        "N"
      ],
      "metadata": {
        "id": "RmukdGWcQ-ir"
      },
      "execution_count": null,
      "outputs": []
    },
    {
      "cell_type": "code",
      "source": [
        "tf.linalg.det(N)"
      ],
      "metadata": {
        "id": "bvOepHKYROSU"
      },
      "execution_count": null,
      "outputs": []
    },
    {
      "cell_type": "markdown",
      "source": [
        "Generalizacion de Determinantes"
      ],
      "metadata": {
        "id": "dWtkJOlQyj1W"
      }
    },
    {
      "cell_type": "code",
      "source": [
        "X=np.array([[1,2,4],[2,-1,3],[0,5,1]])\n",
        "X"
      ],
      "metadata": {
        "id": "PH30Ix8ZynPo"
      },
      "execution_count": null,
      "outputs": []
    },
    {
      "cell_type": "code",
      "source": [
        "np.linalg.det(X)"
      ],
      "metadata": {
        "id": "ELPNX1y-zXof"
      },
      "execution_count": null,
      "outputs": []
    },
    {
      "cell_type": "code",
      "source": [
        "N=torch.tensor([[1,2,4],[2,-1,3],[0,5,1.]])\n",
        "N"
      ],
      "metadata": {
        "id": "kbBCB8tKzdeH"
      },
      "execution_count": null,
      "outputs": []
    },
    {
      "cell_type": "code",
      "source": [
        "torch.det(N)"
      ],
      "metadata": {
        "id": "zOkj-l7Qzwsh"
      },
      "execution_count": null,
      "outputs": []
    },
    {
      "cell_type": "code",
      "source": [
        "M=tf.Variable([[1,2,4],[2,-1,3],[0,5,1.]])\n",
        "M"
      ],
      "metadata": {
        "id": "Yir0Eg-Pz_cG"
      },
      "execution_count": null,
      "outputs": []
    },
    {
      "cell_type": "code",
      "source": [
        "tf.linalg.det(M)"
      ],
      "metadata": {
        "id": "qzs-vCAB0ORQ"
      },
      "execution_count": null,
      "outputs": []
    },
    {
      "cell_type": "markdown",
      "source": [
        "Ejercicios\n",
        "Ejercicio 1"
      ],
      "metadata": {
        "id": "BK6qJhe13mv5"
      }
    },
    {
      "cell_type": "code",
      "source": [
        "X=np.array([[25,2],[3,4]])\n",
        "X"
      ],
      "metadata": {
        "id": "Ge34eByN3p1A"
      },
      "execution_count": null,
      "outputs": []
    },
    {
      "cell_type": "code",
      "source": [
        "np.linalg.det(X)"
      ],
      "metadata": {
        "id": "rJNYW3pb3zg5"
      },
      "execution_count": null,
      "outputs": []
    },
    {
      "cell_type": "code",
      "source": [
        "N=torch.from_numpy(X)\n",
        "N.float()"
      ],
      "metadata": {
        "id": "dPvSP4pF37KP"
      },
      "execution_count": null,
      "outputs": []
    },
    {
      "cell_type": "code",
      "source": [
        "torch.det(N.float())"
      ],
      "metadata": {
        "id": "FHrfXlp84F02"
      },
      "execution_count": null,
      "outputs": []
    },
    {
      "cell_type": "code",
      "source": [
        "M=tf.Variable([[1,2,4],[2,-1,3],[0,5,1.]])\n",
        "M"
      ],
      "metadata": {
        "id": "9NKuazpN4X7X"
      },
      "execution_count": null,
      "outputs": []
    },
    {
      "cell_type": "code",
      "source": [
        "tf.linalg.det(M)"
      ],
      "metadata": {
        "id": "TVK9MGdh41e-"
      },
      "execution_count": null,
      "outputs": []
    },
    {
      "cell_type": "markdown",
      "source": [
        "Ejercicio 2"
      ],
      "metadata": {
        "id": "QeiomAFw6H4D"
      }
    },
    {
      "cell_type": "code",
      "source": [
        "Y=np.array([[-2,0],[0,-2]])\n",
        "Y"
      ],
      "metadata": {
        "id": "y3XOfgX66Jyc"
      },
      "execution_count": null,
      "outputs": []
    },
    {
      "cell_type": "code",
      "source": [
        "np.linalg.det(Y)"
      ],
      "metadata": {
        "id": "9wspgy5I75n5"
      },
      "execution_count": null,
      "outputs": []
    },
    {
      "cell_type": "code",
      "source": [
        "Z=torch.from_numpy(Y)\n",
        "Z.float()"
      ],
      "metadata": {
        "id": "deoq6u0S8AoQ"
      },
      "execution_count": null,
      "outputs": []
    },
    {
      "cell_type": "code",
      "source": [
        "torch.det(Z.float())"
      ],
      "metadata": {
        "id": "gQP58hxq8HSr"
      },
      "execution_count": null,
      "outputs": []
    },
    {
      "cell_type": "code",
      "source": [
        "W=tf.Variable([[-2,0],[0,-2.]])\n",
        "W"
      ],
      "metadata": {
        "id": "_w3kphNX8O2f"
      },
      "execution_count": null,
      "outputs": []
    },
    {
      "cell_type": "code",
      "source": [
        "tf.linalg.det(W)"
      ],
      "metadata": {
        "id": "n81iSW6v8aCX"
      },
      "execution_count": null,
      "outputs": []
    },
    {
      "cell_type": "markdown",
      "source": [
        "Ejercicio 3"
      ],
      "metadata": {
        "id": "0rNhY0dL9OH3"
      }
    },
    {
      "cell_type": "code",
      "source": [
        "Q=np.array([[],[],[]])"
      ],
      "metadata": {
        "id": "eCYSCVyS9Pg2"
      },
      "execution_count": null,
      "outputs": []
    },
    {
      "cell_type": "markdown",
      "source": [
        "Segmento 3: Operaciones Matriciales en ML\n",
        "keyboard_arrow_down\n",
        "Descomposición en Valor Singular (SVD)\n",
        "Como en las diapositivas, SVD de la matriz A es:\n",
        "\n",
        "A=UDVT\n",
        "\n",
        "Donde:\n",
        "\n",
        "U es una matriz ortogonal m×m; sus columnas son los vectores singulares izquierdos de A.\n",
        "V es una matriz ortogonal n×n; sus columnas son los vectores singulares derechos de A.\n",
        "D es una matriz diagonal m×n; los elementos a lo largo de su diagonal son los valores singulares de A."
      ],
      "metadata": {
        "id": "3yBJTNK_zxIU"
      }
    },
    {
      "cell_type": "code",
      "source": [
        "A=np.array([[-1,2],[3,-2],[5,7]])\n",
        "A"
      ],
      "metadata": {
        "id": "R-jj3oTrzvwp"
      },
      "execution_count": null,
      "outputs": []
    },
    {
      "cell_type": "code",
      "source": [
        "U,D,VT=np.linalg.svd(A)"
      ],
      "metadata": {
        "id": "sZlB3TDq0ovn"
      },
      "execution_count": null,
      "outputs": []
    },
    {
      "cell_type": "code",
      "source": [
        "U"
      ],
      "metadata": {
        "id": "jz85yXCgW9dQ"
      },
      "execution_count": null,
      "outputs": []
    },
    {
      "cell_type": "code",
      "source": [
        "VT"
      ],
      "metadata": {
        "id": "mE3o7z2-W_xP"
      },
      "execution_count": null,
      "outputs": []
    },
    {
      "cell_type": "code",
      "source": [
        "D"
      ],
      "metadata": {
        "id": "KqK43AXCXCC4"
      },
      "execution_count": null,
      "outputs": []
    },
    {
      "cell_type": "code",
      "source": [
        "D=np.diag(D)\n",
        "D"
      ],
      "metadata": {
        "id": "f1gVozjGXEhW"
      },
      "execution_count": null,
      "outputs": []
    },
    {
      "cell_type": "code",
      "source": [
        "D=np.concatenate((D,[[0,0]]),axis=0)\n",
        "D"
      ],
      "metadata": {
        "id": "Y1KS8WRuXJdA"
      },
      "execution_count": null,
      "outputs": []
    },
    {
      "cell_type": "code",
      "source": [
        "A=np.dot(U,np.dot(D,VT))\n",
        "A"
      ],
      "metadata": {
        "id": "HuZbni6dXibu"
      },
      "execution_count": null,
      "outputs": []
    },
    {
      "cell_type": "markdown",
      "source": [
        "La SVD y la eigencomposición están estrechamente relacionadas:\n",
        "\n",
        "Vectores singulares izquierdos de A = vectores propios de AAT.\n",
        "Vectores singulares derechos de A = vectores propios de ATA.\n",
        "Valores singulares no nulos de A = raíces cuadradas de los valores propios de AAT = raíces cuadradas de los valores propios de ATA"
      ],
      "metadata": {
        "id": "5rhGoRYFV0vw"
      }
    },
    {
      "cell_type": "markdown",
      "source": [
        "Ejercicio: Utilizando la matriz P de los ejercicios PyTorch anteriores, demuestra que estas tres ecuaciones de SVD-eigendecomposición son ciertas."
      ],
      "metadata": {
        "id": "eRB11hjKV4F4"
      }
    },
    {
      "cell_type": "code",
      "source": [
        "P=torch.tensor([[25,2,-5],[3,-2,1],[5,7,4.]])\n",
        "P"
      ],
      "metadata": {
        "id": "HtiKZ0faV-0w"
      },
      "execution_count": null,
      "outputs": []
    },
    {
      "cell_type": "code",
      "source": [
        "U,D,VT=torch.linalg.svd(P)"
      ],
      "metadata": {
        "id": "5MkfTx1FX20X"
      },
      "execution_count": null,
      "outputs": []
    },
    {
      "cell_type": "code",
      "source": [
        "U"
      ],
      "metadata": {
        "id": "KlaHPsNVaMst"
      },
      "execution_count": null,
      "outputs": []
    },
    {
      "cell_type": "code",
      "source": [
        "VT"
      ],
      "metadata": {
        "id": "5VFE7ueUaO9l"
      },
      "execution_count": null,
      "outputs": []
    },
    {
      "cell_type": "code",
      "source": [
        "D"
      ],
      "metadata": {
        "id": "QvgbdeeUaRRV"
      },
      "execution_count": null,
      "outputs": []
    },
    {
      "cell_type": "code",
      "source": [
        "D=np.diag(D)\n",
        "D"
      ],
      "metadata": {
        "id": "kBtxyp_maUwc"
      },
      "execution_count": null,
      "outputs": []
    },
    {
      "cell_type": "code",
      "source": [
        "P=np.dot(U,np.dot(D,VT))\n",
        "P"
      ],
      "metadata": {
        "id": "9QqZyREkalhc"
      },
      "execution_count": null,
      "outputs": []
    },
    {
      "cell_type": "markdown",
      "source": [
        "# **Compresión de Imágenes con SVD**"
      ],
      "metadata": {
        "id": "VHGJaZOltCqL"
      }
    },
    {
      "cell_type": "markdown",
      "source": [
        "La sección presenta código adaptado de Frank Cleary's."
      ],
      "metadata": {
        "id": "Wyeroi7vtHV3"
      }
    },
    {
      "cell_type": "code",
      "source": [
        "from PIL import Image"
      ],
      "metadata": {
        "id": "to7ur2uTtXKx"
      },
      "execution_count": null,
      "outputs": []
    },
    {
      "cell_type": "markdown",
      "source": [
        "Foto de Oboe, el terrier de Jon Krohn, con el libro Aprendizaje Profundo Ilustrado:"
      ],
      "metadata": {
        "id": "iJiCJvqhwidr"
      }
    },
    {
      "cell_type": "code",
      "source": [
        "! wget  https://raw.githubusercontent.com/joanby/DLTFpT/master/notebooks/oboe-with-book.jpg"
      ],
      "metadata": {
        "id": "wuNabZ_ItgRZ"
      },
      "execution_count": null,
      "outputs": []
    },
    {
      "cell_type": "code",
      "source": [
        "image=Image.open('oboe-with-book.jpg')\n",
        "_=plt.imshow(image)"
      ],
      "metadata": {
        "id": "GorQk6tIw4H2"
      },
      "execution_count": null,
      "outputs": []
    },
    {
      "cell_type": "markdown",
      "source": [
        "Convertir la imagen a escala de grises para no tener que lidiar con la complejidad de múltiples canales de color:"
      ],
      "metadata": {
        "id": "Vt422uIXx4N4"
      }
    },
    {
      "cell_type": "code",
      "source": [
        "imggray=image.convert('LA')\n",
        "_=plt.imshow(imggray)"
      ],
      "metadata": {
        "id": "R0ZYM64Lxkj3"
      },
      "execution_count": null,
      "outputs": []
    },
    {
      "cell_type": "markdown",
      "source": [
        "Convierte los datos en una matriz numpy, que no afecta a los datos de la imagen:"
      ],
      "metadata": {
        "id": "PYm37K8x1KOr"
      }
    },
    {
      "cell_type": "code",
      "source": [
        "imgdat=np.array(list(imggray.getdata(band=0)),float)\n",
        "imgdat.shape=(imggray.size[1],imggray.size[0])\n",
        "imgdat=np.matrix(imgdat)\n",
        "_=plt.imshow(imgdat,cmap='gray')"
      ],
      "metadata": {
        "id": "Chu8lDwa1Lp7"
      },
      "execution_count": null,
      "outputs": []
    },
    {
      "cell_type": "markdown",
      "source": [
        "Calcular la SVD de la imagen:"
      ],
      "metadata": {
        "id": "nJwS8UPN4bUx"
      }
    },
    {
      "cell_type": "code",
      "source": [
        "U,sigma,V=np.linalg.svd(imgdat)"
      ],
      "metadata": {
        "id": "F9f7r6Fw4dzN"
      },
      "execution_count": null,
      "outputs": []
    },
    {
      "cell_type": "markdown",
      "source": [
        "Al igual que los valores propios se ordenan en orden descendente en diag(λ), también los valores singulares, por convención, se ordenan en orden descendente en D (o, en este código, diag(σ)). Así, el primer vector singular izquierdo de U y el primer vector singular derecho de V pueden representar la característica más prominente de la imagen:"
      ],
      "metadata": {
        "id": "zIn_1Jn1N3-7"
      }
    },
    {
      "cell_type": "code",
      "source": [
        "reconstimg=np.matrix(U[:,:1])*np.diag(sigma[:1])*np.matrix(V[:1,:])\n",
        "_=plt.imshow(reconstimg,cmap='gray')"
      ],
      "metadata": {
        "id": "OywRNAceN-q9"
      },
      "execution_count": null,
      "outputs": []
    },
    {
      "cell_type": "markdown",
      "source": [
        "Los vectores singulares adicionales mejoran la calidad de la imagen:"
      ],
      "metadata": {
        "id": "EGf3G75_PPw7"
      }
    },
    {
      "cell_type": "code",
      "source": [
        "for i in [2,4,8,16,32,64,128,256,512,1024]:\n",
        "  reconstimg=np.matrix(U[:,:i])*np.diag(sigma[:i])*np.matrix(V[:i,:])\n",
        "  plt.imshow(reconstimg,cmap='gray')\n",
        "  title=\"n = %s\" % i\n",
        "  plt.title(title)\n",
        "  plt.show()"
      ],
      "metadata": {
        "id": "o5Cj5FffPSFG"
      },
      "execution_count": null,
      "outputs": []
    },
    {
      "cell_type": "markdown",
      "source": [
        "Con 64 vectores singulares, la imagen se reconstruye bastante bien, aunque la huella de datos es mucho menor que la de la imagen original:"
      ],
      "metadata": {
        "id": "j0HgPL8Np99Q"
      }
    },
    {
      "cell_type": "code",
      "source": [
        "imgdat.shape"
      ],
      "metadata": {
        "id": "ERgjH9c3qBTS"
      },
      "execution_count": null,
      "outputs": []
    },
    {
      "cell_type": "code",
      "source": [
        "full_presentation=4032*3024\n",
        "full_presentation"
      ],
      "metadata": {
        "id": "s6IgATyIqW6P"
      },
      "execution_count": null,
      "outputs": []
    },
    {
      "cell_type": "code",
      "source": [
        "svd64_rep=64*4032+64+64*3024\n",
        "svd64_rep"
      ],
      "metadata": {
        "id": "HhHoyYftqwhg"
      },
      "execution_count": null,
      "outputs": []
    },
    {
      "cell_type": "code",
      "source": [
        "svd64_rep/full_presentation"
      ],
      "metadata": {
        "id": "O8C2Sl86rCOI"
      },
      "execution_count": null,
      "outputs": []
    },
    {
      "cell_type": "markdown",
      "source": [
        "En concreto, la imagen representada como 64 vectores singulares ocupa el 3,7% del tamaño del original.\n",
        "\n",
        "Además de imágenes, podemos utilizar vectores singulares para la compresión con pérdidas de otros tipos de archivos multimedia."
      ],
      "metadata": {
        "id": "6_4_QOXgwkRS"
      }
    },
    {
      "cell_type": "markdown",
      "source": [],
      "metadata": {
        "id": "b1sZY0d_09ny"
      }
    },
    {
      "cell_type": "markdown",
      "metadata": {
        "id": "FEnTYLbBj3ZE"
      },
      "source": [
        "### La Pseudoinversa de Moore-Penrose"
      ]
    },
    {
      "cell_type": "markdown",
      "source": [
        "Vamos a calcular el pseudoinverso A+ de alguna matriz A utilizando la fórmula de las diapositivas:\n",
        "\n",
        "A+=VD+UT"
      ],
      "metadata": {
        "id": "K2K5iao21OcL"
      }
    },
    {
      "cell_type": "code",
      "source": [
        "A"
      ],
      "metadata": {
        "id": "FSWo8L2k1QYV"
      },
      "execution_count": null,
      "outputs": []
    },
    {
      "cell_type": "markdown",
      "source": [
        "Como se mostró anteriormente, el método NumPy SVD devuelve U, d y VT:"
      ],
      "metadata": {
        "id": "kW9il-Oe3y6G"
      }
    },
    {
      "cell_type": "code",
      "source": [
        "U,D,VT=np.linalg.svd(A)"
      ],
      "metadata": {
        "id": "rw88z2CC30SO"
      },
      "execution_count": null,
      "outputs": []
    },
    {
      "cell_type": "code",
      "source": [
        "U"
      ],
      "metadata": {
        "id": "GLEqbcXI4EVr"
      },
      "execution_count": null,
      "outputs": []
    },
    {
      "cell_type": "code",
      "source": [
        "VT"
      ],
      "metadata": {
        "id": "jaF3c7XN4GJk"
      },
      "execution_count": null,
      "outputs": []
    },
    {
      "cell_type": "code",
      "source": [
        "D"
      ],
      "metadata": {
        "id": "-qyWGsnY4I5-"
      },
      "execution_count": null,
      "outputs": []
    },
    {
      "cell_type": "markdown",
      "source": [
        "Para crear D+, primero invertimos los valores distintos de cero de d:"
      ],
      "metadata": {
        "id": "MJ9po8sH4qjg"
      }
    },
    {
      "cell_type": "code",
      "source": [
        "D=np.diag(D)\n",
        "D"
      ],
      "metadata": {
        "id": "cC3C3_274LNk"
      },
      "execution_count": null,
      "outputs": []
    },
    {
      "cell_type": "code",
      "source": [
        "1/8.66918448"
      ],
      "metadata": {
        "id": "FtljBWxI4VDl"
      },
      "execution_count": null,
      "outputs": []
    },
    {
      "cell_type": "code",
      "source": [
        "1/4.10429538"
      ],
      "metadata": {
        "id": "KigWHdoc4ggH"
      },
      "execution_count": null,
      "outputs": []
    },
    {
      "cell_type": "markdown",
      "source": [
        "...y luego tomaríamos el tranpuesto de la matriz resultante.\n",
        "\n",
        "Como D es una matriz diagonal, esto se puede hacer en un solo paso invirtiendo D:"
      ],
      "metadata": {
        "id": "EqJkk9Ex4_KT"
      }
    },
    {
      "cell_type": "code",
      "source": [
        "Dinv=np.linalg.inv(D)\n",
        "Dinv"
      ],
      "metadata": {
        "id": "j9fgYMEH5A_k"
      },
      "execution_count": null,
      "outputs": []
    },
    {
      "cell_type": "code",
      "source": [
        "Dplus=np.concatenate((Dinv,np.array([[0,0]]).T),axis=1)\n",
        "Dplus"
      ],
      "metadata": {
        "id": "dhEHISjl5y_H"
      },
      "execution_count": null,
      "outputs": []
    },
    {
      "cell_type": "markdown",
      "source": [
        "(Recordemos que D debe tener las mismas dimensiones que A para UDVT de SVD, pero para MPP U y V han intercambiado lados alrededor de la matriz diagonal)."
      ],
      "metadata": {
        "id": "zCldjp-26vJP"
      }
    },
    {
      "cell_type": "markdown",
      "source": [
        "Ahora tenemos todo lo que necesitamos para calcular A+ con VD+UT:"
      ],
      "metadata": {
        "id": "EsxAHX_07PJ_"
      }
    },
    {
      "cell_type": "code",
      "source": [
        "np.dot(VT.T,np.dot(Dplus,U.T))"
      ],
      "metadata": {
        "id": "ZtA1nLIb7Qyy"
      },
      "execution_count": null,
      "outputs": []
    },
    {
      "cell_type": "markdown",
      "source": [
        "Trabajar esta derivación es útil para entender cómo funcionan los pseudoinversos de Moore-Penrose, pero como era de esperar NumPy se carga con un método existente pinv():"
      ],
      "metadata": {
        "id": "wcVRXiy_8yLr"
      }
    },
    {
      "cell_type": "code",
      "source": [
        "np.linalg.pinv(A)"
      ],
      "metadata": {
        "id": "UN-2zgB581vc"
      },
      "execution_count": null,
      "outputs": []
    },
    {
      "cell_type": "markdown",
      "source": [
        "Utiliza el método torch.svd() para calcular el pseudoinverso de A_p, confirmando que tu resultado coincide con la salida de torch.pinverse(A_p):"
      ],
      "metadata": {
        "id": "A5Kr7qp-dITP"
      }
    },
    {
      "cell_type": "code",
      "source": [
        "A_p=torch.tensor([[-1,2],[3,-2],[5,7.]])\n",
        "A_p"
      ],
      "metadata": {
        "id": "6vRzRBMYdQ3G"
      },
      "execution_count": null,
      "outputs": []
    },
    {
      "cell_type": "code",
      "source": [
        "U,D,VT=torch.linalg.svd(A_p)"
      ],
      "metadata": {
        "id": "xMuPUnwYePib"
      },
      "execution_count": null,
      "outputs": []
    },
    {
      "cell_type": "code",
      "source": [
        "U"
      ],
      "metadata": {
        "id": "6CD8pBIqeeU6"
      },
      "execution_count": null,
      "outputs": []
    },
    {
      "cell_type": "code",
      "source": [
        "VT"
      ],
      "metadata": {
        "id": "ZzUu5Gd0ehTW"
      },
      "execution_count": null,
      "outputs": []
    },
    {
      "cell_type": "code",
      "source": [
        "\n",
        "D"
      ],
      "metadata": {
        "id": "NQaMrm4deoDn"
      },
      "execution_count": null,
      "outputs": []
    },
    {
      "cell_type": "code",
      "source": [
        "D=torch.diag(D)\n",
        "D"
      ],
      "metadata": {
        "id": "T7qTfOMQeqt9"
      },
      "execution_count": null,
      "outputs": []
    },
    {
      "cell_type": "code",
      "source": [
        "1/8.66918448"
      ],
      "metadata": {
        "id": "yLPzU0GuDiSF"
      },
      "execution_count": null,
      "outputs": []
    },
    {
      "cell_type": "code",
      "source": [
        "1/4.10429538"
      ],
      "metadata": {
        "id": "Y_q9P392DoOz"
      },
      "execution_count": null,
      "outputs": []
    },
    {
      "cell_type": "code",
      "source": [
        "Dinv=torch.linalg.inv(D)\n",
        "Dinv"
      ],
      "metadata": {
        "id": "2wZ9CsfKEC0x"
      },
      "execution_count": null,
      "outputs": []
    },
    {
      "cell_type": "code",
      "source": [
        "Dplus=torch.concatenate((Dinv,torch.tensor([[0,0]]).T),axis=1)\n",
        "Dplus"
      ],
      "metadata": {
        "id": "rUtSCTtnGZEc"
      },
      "execution_count": null,
      "outputs": []
    },
    {
      "cell_type": "code",
      "source": [
        "torch.matmul(VT.T,torch.matmul(Dplus,U.T))"
      ],
      "metadata": {
        "id": "55TYNJgdN_NK"
      },
      "execution_count": null,
      "outputs": []
    },
    {
      "cell_type": "code",
      "source": [
        "torch.linalg.pinv(A_p)"
      ],
      "metadata": {
        "id": "0Nk95AjwPG8H"
      },
      "execution_count": null,
      "outputs": []
    },
    {
      "cell_type": "markdown",
      "source": [
        "Regresion Lineal con Pheudo-inversa de Moore Penrouse"
      ],
      "metadata": {
        "id": "VoJV3KheOOf1"
      }
    },
    {
      "cell_type": "markdown",
      "source": [
        "En los problemas de regresión, normalmente tenemos muchos más casos (n, o filas de X) que características que predecir (columnas de X). Resolvamos un ejemplo en miniatura de tal situación de sobredeterminación.\n",
        "\n",
        "Tenemos ocho puntos de datos (n = 8):"
      ],
      "metadata": {
        "id": "YUqx21zqOIps"
      }
    },
    {
      "cell_type": "code",
      "source": [
        "x1 = [0, 1, 2, 3, 4, 5, 6, 7.] # E.g.: Dosage of drug for treating Alzheimer's disease\n",
        "y = [1.86, 1.31, .62, .33, .09, -.67, -1.23, -1.37] # E.g.: Patient's \"forgetfulness score\""
      ],
      "metadata": {
        "id": "CNPZm6ZfOL7X"
      },
      "execution_count": null,
      "outputs": []
    },
    {
      "cell_type": "code",
      "metadata": {
        "id": "HaoEgLTzLWyH"
      },
      "source": [
        "title = 'Ensayo Clínico'\n",
        "xlabel = 'Dosis del Fármaco (mL)'\n",
        "ylabel = 'Olvido'"
      ],
      "execution_count": null,
      "outputs": []
    },
    {
      "cell_type": "code",
      "source": [
        "fig,ax=plt.subplots()\n",
        "ax.plot(x1,y,'o')\n",
        "ax.set_title(title)\n",
        "ax.set_xlabel(xlabel)\n",
        "ax.set_ylabel(ylabel)\n"
      ],
      "metadata": {
        "id": "n62a2gWtO79k"
      },
      "execution_count": null,
      "outputs": []
    },
    {
      "cell_type": "markdown",
      "source": [
        "Aunque parece que sólo hay un predictor (x1), nuestro modelo requiere un segundo (llamémoslo x0) para permitir una intersección y. Sin esta segunda variable, la línea que ajustamos al gráfico tendría que pasar por el origen (0, 0). La intersección y es constante en todos los puntos, por lo que podemos establecerla igual a 1 en todos los puntos:"
      ],
      "metadata": {
        "id": "a2g3EYgbQIs_"
      }
    },
    {
      "cell_type": "code",
      "source": [
        "x0=np.ones(8)\n",
        "x0"
      ],
      "metadata": {
        "id": "Q-sr0DYNQTAn"
      },
      "execution_count": null,
      "outputs": []
    },
    {
      "cell_type": "markdown",
      "source": [
        "Concatenar x0 y x1 en una matriz X"
      ],
      "metadata": {
        "id": "oX_f8RONQvDy"
      }
    },
    {
      "cell_type": "code",
      "source": [
        "X=np.concatenate((np.matrix(x0).T,np.matrix(x1).T),axis=1)\n",
        "X"
      ],
      "metadata": {
        "id": "yiyJFjOXQw8A"
      },
      "execution_count": null,
      "outputs": []
    },
    {
      "cell_type": "markdown",
      "source": [
        "Por las diapositivas, sabemos que podemos calcular los pesos w mediante la ecuación w=X+y:"
      ],
      "metadata": {
        "id": "VyH9foMx335l"
      }
    },
    {
      "cell_type": "code",
      "source": [
        "w=np.dot(np.linalg.pinv(X),y)\n",
        "w"
      ],
      "metadata": {
        "id": "b5_5-mge35j1"
      },
      "execution_count": null,
      "outputs": []
    },
    {
      "cell_type": "markdown",
      "source": [
        "La primera ponderación corresponde a la intersección y de la recta, que suele denominarse b:"
      ],
      "metadata": {
        "id": "CcU5Dh9B4ZQD"
      }
    },
    {
      "cell_type": "code",
      "source": [
        "b=np.asarray(w).reshape(-1)[0]\n",
        "b"
      ],
      "metadata": {
        "id": "uwnSUSz_4bQ7"
      },
      "execution_count": null,
      "outputs": []
    },
    {
      "cell_type": "markdown",
      "source": [
        "Mientras que el segundo peso corresponde a la pendiente de la línea, que se suele denotar como m:"
      ],
      "metadata": {
        "id": "my5xrU_gU2EN"
      }
    },
    {
      "cell_type": "code",
      "source": [
        "m=np.asarray(w).reshape(-1)[1]\n",
        "m"
      ],
      "metadata": {
        "id": "JA4QuI0-U35F"
      },
      "execution_count": null,
      "outputs": []
    },
    {
      "cell_type": "markdown",
      "source": [
        "Con los pesos podemos trazar la recta para confirmar que se ajusta a los puntos:"
      ],
      "metadata": {
        "id": "7BZZq0JpVSKI"
      }
    },
    {
      "cell_type": "code",
      "source": [
        "fig,ax=plt.subplots()\n",
        "\n",
        "ax.set_title(title)\n",
        "ax.set_xlabel(xlabel)\n",
        "ax.set_ylabel(ylabel)\n",
        "\n",
        "ax.scatter(x1,y)\n",
        "\n",
        "x_min,x_max=ax.get_xlim()\n",
        "y_at_x_min=m*x_min+b\n",
        "y_at_x_max=m*x_max+b\n",
        "\n",
        "ax.set_xlim(x_min,x_max)\n",
        "ax.plot([x_min,x_max],[y_at_x_min,y_at_x_max],'r')"
      ],
      "metadata": {
        "id": "AI0r138-VTjW"
      },
      "execution_count": null,
      "outputs": []
    },
    {
      "cell_type": "markdown",
      "source": [
        "El Operador Traza"
      ],
      "metadata": {
        "id": "AfL-Vtr9qsst"
      }
    },
    {
      "cell_type": "markdown",
      "source": [
        "Se denomina Tr(A). Simplemente la suma de los elementos diagonales de una matriz:\n",
        "∑iAi,i"
      ],
      "metadata": {
        "id": "wTboVziCquNr"
      }
    },
    {
      "cell_type": "code",
      "source": [
        "A=np.array([[25,2],[5,4]])\n",
        "A"
      ],
      "metadata": {
        "id": "IWzZ7ylQqzLe"
      },
      "execution_count": null,
      "outputs": []
    },
    {
      "cell_type": "code",
      "source": [
        "25+4"
      ],
      "metadata": {
        "id": "6RYT9Ye58TL_"
      },
      "execution_count": null,
      "outputs": []
    },
    {
      "cell_type": "code",
      "source": [
        "np.trace(A)"
      ],
      "metadata": {
        "id": "lHKupmZ08VTn"
      },
      "execution_count": null,
      "outputs": []
    },
    {
      "cell_type": "markdown",
      "source": [
        "El operador de traza tiene una serie de propiedades útiles que resultan prácticas al reordenar ecuaciones de álgebra lineal, por ejemplo"
      ],
      "metadata": {
        "id": "YOjRvzXT8e2A"
      }
    },
    {
      "cell_type": "markdown",
      "source": [
        "Tr(A) = Tr(AT)\n",
        "\n",
        "Suponiendo que las formas de la matriz se alinean: Tr(ABC) = Tr(CAB) = Tr(BCA)"
      ],
      "metadata": {
        "id": "BN1x9AQp8gTs"
      }
    },
    {
      "cell_type": "markdown",
      "source": [
        "En particular, el operador de traza puede proporcionar una forma conveniente de calcular la norma de Frobenius de una matriz:"
      ],
      "metadata": {
        "id": "6XLa-9MY84TM"
      }
    },
    {
      "cell_type": "markdown",
      "source": [
        "        _______\n",
        "||A||F=√Tr(AAT)"
      ],
      "metadata": {
        "id": "xdeIv8WS88Wj"
      }
    },
    {
      "cell_type": "markdown",
      "source": [
        "Ejercicios\n",
        "\n",
        "Con la matriz A_p proporcionada a continuación:\n",
        "\n",
        "Utiliza el método de trazas de PyTorch para calcular la traza de A_p.\n",
        "\n",
        "Utilizar el método de la norma de Frobenius de PyTorch y el método de la traza para demostrar que ||A||F=Tr(AAT)−−−−−−−−√."
      ],
      "metadata": {
        "id": "zzF_rPr99bAH"
      }
    },
    {
      "cell_type": "markdown",
      "source": [
        "Ejercicio 1"
      ],
      "metadata": {
        "id": "YZAM643z-b8m"
      }
    },
    {
      "cell_type": "code",
      "source": [
        "A_p=torch.tensor([[-1,2],[3,-2],[5,7.]])\n",
        "A_p"
      ],
      "metadata": {
        "id": "q6uUtsM__INv"
      },
      "execution_count": null,
      "outputs": []
    },
    {
      "cell_type": "code",
      "source": [
        "torch.trace(A_p)"
      ],
      "metadata": {
        "id": "lVvlYsBi_p6f"
      },
      "execution_count": null,
      "outputs": []
    },
    {
      "cell_type": "markdown",
      "source": [
        "Ejercicio 2"
      ],
      "metadata": {
        "id": "GZiIicUeAPM8"
      }
    },
    {
      "cell_type": "code",
      "source": [
        "nomna_de_frobenius=torch.norm(A_p,p='fro')\n",
        "nomna_de_frobenius"
      ],
      "metadata": {
        "id": "j7e5kvFoARJc"
      },
      "execution_count": null,
      "outputs": []
    },
    {
      "cell_type": "code",
      "source": [
        "torch.sqrt(torch.trace(torch.matmul(A_p,A_p.T)))"
      ],
      "metadata": {
        "id": "CpB05Gj6CtDK"
      },
      "execution_count": null,
      "outputs": []
    },
    {
      "cell_type": "markdown",
      "source": [
        "Análisis de Componentes Principales"
      ],
      "metadata": {
        "id": "LXqyM-ziiFBT"
      }
    },
    {
      "cell_type": "markdown",
      "source": [
        "El ejemplo de ACP está adaptado de aquí."
      ],
      "metadata": {
        "id": "2oWkqAjyi_fr"
      }
    },
    {
      "cell_type": "code",
      "source": [
        "from sklearn import datasets\n",
        "iris=datasets.load_iris()"
      ],
      "metadata": {
        "id": "Mmin9OIojBYD"
      },
      "execution_count": null,
      "outputs": []
    },
    {
      "cell_type": "code",
      "source": [
        "iris.data.shape"
      ],
      "metadata": {
        "id": "WbLs6SMpp4Ou"
      },
      "execution_count": null,
      "outputs": []
    },
    {
      "cell_type": "code",
      "source": [
        "iris.get(\"feature_names\")"
      ],
      "metadata": {
        "id": "94qJKw-YqLCX"
      },
      "execution_count": null,
      "outputs": []
    },
    {
      "cell_type": "code",
      "source": [
        "iris.data[:6,:]"
      ],
      "metadata": {
        "id": "-RSZdrMIqgio"
      },
      "execution_count": null,
      "outputs": []
    },
    {
      "cell_type": "code",
      "source": [
        "from sklearn.decomposition import PCA"
      ],
      "metadata": {
        "id": "R1iHjWnTrFnz"
      },
      "execution_count": null,
      "outputs": []
    },
    {
      "cell_type": "code",
      "source": [
        "pca=PCA(n_components=2)"
      ],
      "metadata": {
        "id": "l-3vZ816rPfh"
      },
      "execution_count": null,
      "outputs": []
    },
    {
      "cell_type": "code",
      "source": [
        "X=pca.fit_transform(iris.data)"
      ],
      "metadata": {
        "id": "CDWcnfnBrfdG"
      },
      "execution_count": null,
      "outputs": []
    },
    {
      "cell_type": "code",
      "source": [
        "X.shape"
      ],
      "metadata": {
        "id": "62t_2izyrysV"
      },
      "execution_count": null,
      "outputs": []
    },
    {
      "cell_type": "code",
      "source": [
        "X[:6,:]"
      ],
      "metadata": {
        "id": "KNPiI8CFtPyz"
      },
      "execution_count": null,
      "outputs": []
    },
    {
      "cell_type": "code",
      "source": [
        "plt.scatter(X[:,0],X[:,1])"
      ],
      "metadata": {
        "id": "lnl_pLjruQ44"
      },
      "execution_count": null,
      "outputs": []
    },
    {
      "cell_type": "code",
      "source": [
        "iris.target.shape"
      ],
      "metadata": {
        "id": "rA43lq0LupTl"
      },
      "execution_count": null,
      "outputs": []
    },
    {
      "cell_type": "code",
      "source": [
        "iris.target[:6]"
      ],
      "metadata": {
        "id": "cNIM06egus5x"
      },
      "execution_count": null,
      "outputs": []
    },
    {
      "cell_type": "code",
      "source": [
        "unique_elements,counts_elements=np.unique(iris.target,return_counts=True)\n",
        "np.asarray((unique_elements,counts_elements))"
      ],
      "metadata": {
        "id": "7FSsP7Wxuy-v"
      },
      "execution_count": null,
      "outputs": []
    },
    {
      "cell_type": "code",
      "source": [
        "list(iris.target_names)"
      ],
      "metadata": {
        "id": "Pu3DU3GgvQzM"
      },
      "execution_count": null,
      "outputs": []
    },
    {
      "cell_type": "code",
      "source": [
        "plt.scatter(X[:,0],X[:,1],c=iris.target)\n",
        "plt.legend(list(iris.target_names))\n"
      ],
      "metadata": {
        "id": "hM47Qfi-vc7H"
      },
      "execution_count": null,
      "outputs": []
    }
  ]
}