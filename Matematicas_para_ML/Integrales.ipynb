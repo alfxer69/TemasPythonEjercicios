{
  "nbformat": 4,
  "nbformat_minor": 0,
  "metadata": {
    "colab": {
      "provenance": []
    },
    "kernelspec": {
      "name": "python3",
      "display_name": "Python 3"
    },
    "language_info": {
      "name": "python"
    }
  },
  "cells": [
    {
      "cell_type": "markdown",
      "source": [
        "## Segmento 3: Integrales"
      ],
      "metadata": {
        "id": "vz7buwzYw-50"
      }
    },
    {
      "cell_type": "code",
      "source": [
        "from scipy.integrate import quad"
      ],
      "metadata": {
        "id": "UmOrPvADxChk"
      },
      "execution_count": 1,
      "outputs": []
    },
    {
      "cell_type": "markdown",
      "source": [
        "De las slides: $$ \\int_1^2 \\frac{x}{2} dx = \\frac{3}{4} $$"
      ],
      "metadata": {
        "id": "v4ZEDWxAz0jn"
      }
    },
    {
      "cell_type": "code",
      "source": [
        "def g(x):\n",
        "  return x/2"
      ],
      "metadata": {
        "id": "ClLjuLsXz1xS"
      },
      "execution_count": 2,
      "outputs": []
    },
    {
      "cell_type": "code",
      "source": [
        "quad(g,1,2)"
      ],
      "metadata": {
        "colab": {
          "base_uri": "https://localhost:8080/"
        },
        "id": "dVCrGDvAz9Ty",
        "outputId": "bbff9fb4-542a-427d-bd59-6b87ae72ac25"
      },
      "execution_count": 3,
      "outputs": [
        {
          "output_type": "execute_result",
          "data": {
            "text/plain": [
              "(0.75, 8.326672684688674e-15)"
            ]
          },
          "metadata": {},
          "execution_count": 3
        }
      ]
    },
    {
      "cell_type": "markdown",
      "source": [
        "Ejercicio"
      ],
      "metadata": {
        "id": "V-wITr891OWA"
      }
    },
    {
      "cell_type": "code",
      "source": [
        "def f(x):\n",
        "  return x*2"
      ],
      "metadata": {
        "id": "6ZmZMl1Y1QGY"
      },
      "execution_count": 23,
      "outputs": []
    },
    {
      "cell_type": "code",
      "source": [
        "quad(f,3,4)"
      ],
      "metadata": {
        "colab": {
          "base_uri": "https://localhost:8080/"
        },
        "id": "HYHTc7bx1aFw",
        "outputId": "14a6ddbb-d778-4aa3-8284-4628db2c0e7b"
      },
      "execution_count": 24,
      "outputs": [
        {
          "output_type": "execute_result",
          "data": {
            "text/plain": [
              "(7.0, 7.771561172376096e-14)"
            ]
          },
          "metadata": {},
          "execution_count": 24
        }
      ]
    },
    {
      "cell_type": "markdown",
      "source": [
        "### Área bajo la curva ROC"
      ],
      "metadata": {
        "id": "KMPK3xlJ4req"
      }
    },
    {
      "cell_type": "markdown",
      "source": [
        "Cuando no tenemos una función pero sí tenemos coordenadas $(x, y)$, podemos utilizar el método `auc()` de la librería scikit-learn, que utiliza una aproximación numérica (la [regla trapezoidal](https://en.wikipedia.org/wiki/Trapezoidal_rule)) para encontrar el área bajo la curva descrita por las coordenadas:"
      ],
      "metadata": {
        "id": "cPmNOH4H4sYl"
      }
    },
    {
      "cell_type": "code",
      "source": [
        "from sklearn.metrics import auc"
      ],
      "metadata": {
        "id": "9ayCfynk4wDV"
      },
      "execution_count": 25,
      "outputs": []
    },
    {
      "cell_type": "markdown",
      "source": [
        "A partir de las diapositivas, las coordenadas $(x, y)$ de nuestra curva ROC de detección de perritos calientes son:\n",
        "\n",
        "* (0, 0)\n",
        "* (0, 0.5)\n",
        "* (0.5, 0.5)\n",
        "* (0.5, 1)\n",
        "* (1, 1)"
      ],
      "metadata": {
        "id": "yKqlQKo848Rw"
      }
    },
    {
      "cell_type": "code",
      "source": [
        "xs=[0,0,0.5,0.5,1]\n",
        "ys=[0,0.5,0.5,1,1]"
      ],
      "metadata": {
        "id": "rPC0D3ER49mu"
      },
      "execution_count": 26,
      "outputs": []
    },
    {
      "cell_type": "code",
      "source": [
        "auc(xs,ys)"
      ],
      "metadata": {
        "colab": {
          "base_uri": "https://localhost:8080/"
        },
        "id": "nkhkgKud5NiP",
        "outputId": "ddc17cc3-0bca-4446-cd8c-c08d86ed506b"
      },
      "execution_count": 27,
      "outputs": [
        {
          "output_type": "execute_result",
          "data": {
            "text/plain": [
              "np.float64(0.75)"
            ]
          },
          "metadata": {},
          "execution_count": 27
        }
      ]
    }
  ]
}