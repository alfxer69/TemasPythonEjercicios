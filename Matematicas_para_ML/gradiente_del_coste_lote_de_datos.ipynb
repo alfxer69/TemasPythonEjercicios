{
  "nbformat": 4,
  "nbformat_minor": 0,
  "metadata": {
    "colab": {
      "private_outputs": true,
      "provenance": []
    },
    "kernelspec": {
      "name": "python3",
      "display_name": "Python 3"
    },
    "language_info": {
      "name": "python"
    }
  },
  "cells": [
    {
      "cell_type": "markdown",
      "source": [
        "# Gradiente del coste de un lote de datos"
      ],
      "metadata": {
        "id": "pjm6gUqeV3bD"
      }
    },
    {
      "cell_type": "markdown",
      "source": [
        "En este cuaderno, ampliamos el cálculo de la derivada parcial del notebook [*Gradiente de Regresión en un Punto*](https://github.com/joanby/matematicas-ml/blob/master/notebooks/single-point-regression-gradient.ipynb) para:\n",
        "\n",
        "* Calcular el gradiente del error cuadrático medio en un lote de datos\n",
        "* Visualizar el descenso de gradiente en acción"
      ],
      "metadata": {
        "id": "cAGScxdRV5Sa"
      }
    },
    {
      "cell_type": "code",
      "source": [
        "import torch\n",
        "import matplotlib.pyplot as plt"
      ],
      "metadata": {
        "id": "3MtS0SFrV-aL"
      },
      "execution_count": null,
      "outputs": []
    },
    {
      "cell_type": "code",
      "source": [
        "xs=torch.tensor([0,1,2,3,4,5,6,7.])\n",
        "ys=torch.tensor([1.86,1.31,.62,.33,.09,-.67,-1.23,-1.37])"
      ],
      "metadata": {
        "id": "hx9889mRWnuv"
      },
      "execution_count": null,
      "outputs": []
    },
    {
      "cell_type": "code",
      "source": [
        "def regression(my_x,my_m,my_b):\n",
        "  return my_m*my_x+my_b"
      ],
      "metadata": {
        "id": "5-sHPJvjW-x5"
      },
      "execution_count": null,
      "outputs": []
    },
    {
      "cell_type": "code",
      "source": [
        "m=torch.tensor(0.9,requires_grad=True)\n",
        "b=torch.tensor(0.1,requires_grad=True)"
      ],
      "metadata": {
        "id": "hjm3Pt1hYKRn"
      },
      "execution_count": null,
      "outputs": []
    },
    {
      "cell_type": "markdown",
      "source": [
        "**Paso 1**: Paso hacia adelante"
      ],
      "metadata": {
        "id": "oTVcCvn8YW-g"
      }
    },
    {
      "cell_type": "code",
      "source": [
        "yhats=regression(xs,m,b)\n",
        "yhats"
      ],
      "metadata": {
        "id": "omW2hw2YYYFd"
      },
      "execution_count": null,
      "outputs": []
    },
    {
      "cell_type": "markdown",
      "source": [
        "**Paso 2**: Comparamos $\\hat{y}$ con el valor real de $y$ para caluclar el coste $C$"
      ],
      "metadata": {
        "id": "u2UwpSPCYgl2"
      }
    },
    {
      "cell_type": "markdown",
      "source": [
        "Como en el notebook [*Regresión en PyTorch*](https://github.com/joanby/matematicas-ml/blob/master/notebooks/regression-in-pytorch.ipynb), vamos a utilizar el error cuadrático medio, que promedia el coste cuadrático a través de múltiples puntos de datos: $$C = \\frac{1}{n} \\sum_{i=1}^n (\\hat{y_i}-y_i)^2 $$"
      ],
      "metadata": {
        "id": "GQK8RUK5Ynd2"
      }
    },
    {
      "cell_type": "code",
      "source": [
        "def mse(my_yhat,my_y):\n",
        "  sigma=torch.sum((my_yhat-my_y)**2)\n",
        "  return sigma/len(my_y)"
      ],
      "metadata": {
        "id": "Qt4jy08jYtT8"
      },
      "execution_count": null,
      "outputs": []
    },
    {
      "cell_type": "code",
      "source": [
        "C=mse(yhats,ys)\n",
        "C"
      ],
      "metadata": {
        "id": "KqVTG4s_ZJbF"
      },
      "execution_count": null,
      "outputs": []
    },
    {
      "cell_type": "markdown",
      "source": [
        "**Paso 3**: Utilizar autodiff para calcular el gradiente de $C$ en función de los parámetros"
      ],
      "metadata": {
        "id": "EDE5z2mrbstI"
      }
    },
    {
      "cell_type": "code",
      "source": [
        "C.backward()"
      ],
      "metadata": {
        "id": "R5ni6NB6buVv"
      },
      "execution_count": null,
      "outputs": []
    },
    {
      "cell_type": "code",
      "source": [
        "m.grad"
      ],
      "metadata": {
        "id": "IbIgQEZpbySA"
      },
      "execution_count": null,
      "outputs": []
    },
    {
      "cell_type": "code",
      "source": [
        "b.grad"
      ],
      "metadata": {
        "id": "XgXjT7Okb1mo"
      },
      "execution_count": null,
      "outputs": []
    }
  ]
}