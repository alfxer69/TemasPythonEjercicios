{
  "nbformat": 4,
  "nbformat_minor": 0,
  "metadata": {
    "colab": {
      "private_outputs": true,
      "provenance": []
    },
    "kernelspec": {
      "name": "python3",
      "display_name": "Python 3"
    },
    "language_info": {
      "name": "python"
    }
  },
  "cells": [
    {
      "cell_type": "markdown",
      "source": [],
      "metadata": {
        "id": "HHOJmGDq3xQc"
      }
    },
    {
      "cell_type": "markdown",
      "source": [
        "## Segmento 3: Diferenciación Automatica"
      ],
      "metadata": {
        "id": "2RZKXVkN3yb7"
      }
    },
    {
      "cell_type": "markdown",
      "source": [
        "**TensorFlow** y **PyTorch** son las dos bibliotecas de diferenciación automática más populares."
      ],
      "metadata": {
        "id": "GrblIA6V5ANP"
      }
    },
    {
      "cell_type": "markdown",
      "source": [
        "Vamos a usarlas para derivar $dy/dx$ en $x = 5$ donde:"
      ],
      "metadata": {
        "id": "lINzvM8V5LGO"
      }
    },
    {
      "cell_type": "markdown",
      "source": [
        "$$y = x^2$$"
      ],
      "metadata": {
        "id": "anEGz-5f72FS"
      }
    },
    {
      "cell_type": "markdown",
      "source": [
        "{dy}/{dx} = 2x = 2(5) = 10"
      ],
      "metadata": {
        "id": "NqXr2wI-7_yi"
      }
    },
    {
      "cell_type": "markdown",
      "source": [
        "Autodiff con Pytorch"
      ],
      "metadata": {
        "id": "HgztT4tO8LSB"
      }
    },
    {
      "cell_type": "code",
      "source": [
        "import numpy as np"
      ],
      "metadata": {
        "id": "MXxDv2C99lJx"
      },
      "execution_count": null,
      "outputs": []
    },
    {
      "cell_type": "code",
      "source": [
        "x=np.linspace(-10,10,1000)"
      ],
      "metadata": {
        "id": "rX17q9mz9cin"
      },
      "execution_count": null,
      "outputs": []
    },
    {
      "cell_type": "code",
      "source": [
        "import torch"
      ],
      "metadata": {
        "id": "zjqxAM6F8o9w"
      },
      "execution_count": null,
      "outputs": []
    },
    {
      "cell_type": "code",
      "source": [
        "x=torch.tensor(5.0)"
      ],
      "metadata": {
        "id": "QMeA5X_s-JRv"
      },
      "execution_count": null,
      "outputs": []
    },
    {
      "cell_type": "code",
      "source": [
        "x"
      ],
      "metadata": {
        "id": "jQUBI3xh-RP3"
      },
      "execution_count": null,
      "outputs": []
    },
    {
      "cell_type": "code",
      "source": [
        "x.requires_grad_()    #rastreas gradientes de forma contagiosa mediante el paso hacia adelante"
      ],
      "metadata": {
        "id": "1VM-e3g88rYQ"
      },
      "execution_count": null,
      "outputs": []
    },
    {
      "cell_type": "code",
      "source": [
        "y=x**2"
      ],
      "metadata": {
        "id": "k3sqaKlA_PaN"
      },
      "execution_count": null,
      "outputs": []
    },
    {
      "cell_type": "code",
      "source": [
        "y.backward() #usando autodiff"
      ],
      "metadata": {
        "id": "tfT4N03y_Sm9"
      },
      "execution_count": null,
      "outputs": []
    },
    {
      "cell_type": "code",
      "source": [
        "x.grad"
      ],
      "metadata": {
        "id": "LnvUiZKJ_anf"
      },
      "execution_count": null,
      "outputs": []
    },
    {
      "cell_type": "markdown",
      "source": [
        "### Autodiff con TensorFlow"
      ],
      "metadata": {
        "id": "fYQxq93xPCXq"
      }
    },
    {
      "cell_type": "code",
      "source": [
        "import tensorflow as tf\n"
      ],
      "metadata": {
        "id": "7Fa0P0zkPGc7"
      },
      "execution_count": null,
      "outputs": []
    },
    {
      "cell_type": "code",
      "source": [
        "x=tf.Variable(5.0)\n",
        "x"
      ],
      "metadata": {
        "id": "BZHPttoLPMNj"
      },
      "execution_count": null,
      "outputs": []
    },
    {
      "cell_type": "code",
      "source": [
        "with tf.GradientTape() as t:\n",
        "  t.watch(x)\n",
        "  y=x**2"
      ],
      "metadata": {
        "id": "gSX3w8WmPXJz"
      },
      "execution_count": null,
      "outputs": []
    },
    {
      "cell_type": "code",
      "source": [
        "t.gradient(y,x)"
      ],
      "metadata": {
        "id": "M0E3ZOiD-ByE"
      },
      "execution_count": null,
      "outputs": []
    }
  ]
}