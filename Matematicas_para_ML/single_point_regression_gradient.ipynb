{
  "nbformat": 4,
  "nbformat_minor": 0,
  "metadata": {
    "colab": {
      "provenance": []
    },
    "kernelspec": {
      "name": "python3",
      "display_name": "Python 3"
    },
    "language_info": {
      "name": "python"
    }
  },
  "cells": [
    {
      "cell_type": "code",
      "source": [
        "# Gradiente de una regresión de un solo punto"
      ],
      "metadata": {
        "id": "aTE7Z05ti13W"
      },
      "execution_count": null,
      "outputs": []
    },
    {
      "cell_type": "markdown",
      "source": [
        "En este cuaderno, calculamos el gradiente del coste cuadrático con respecto a los parámetros de un modelo de regresión en línea recta. Mantenemos las derivadas parciales lo más simples posible limitando el modelo al manejo de un único punto de datos."
      ],
      "metadata": {
        "id": "9oyxRdTBi8-8"
      }
    },
    {
      "cell_type": "code",
      "source": [
        "import torch"
      ],
      "metadata": {
        "id": "EkNfj95jjFoj"
      },
      "execution_count": 1,
      "outputs": []
    },
    {
      "cell_type": "markdown",
      "source": [
        "Usemos los mismos datos que usamos en el cuaderno [*Regresión en PyTorch*](https://github.com/joanby/matematicas-ml/blob/master/notebooks/regression-in-pytorch.ipynb) así como para demostrar la Pseudoinversa de Moore-Penrose en el cuaderno [*Álgebra Lineal II*](https://github.com/joanby/matematicas-ml/blob/master/notebooks/2-linear-algebra-ii.ipynb):"
      ],
      "metadata": {
        "id": "p9NkgsAJjT5L"
      }
    },
    {
      "cell_type": "code",
      "source": [
        "xs=torch.tensor([0,1,2,3,4,5,6,7.])"
      ],
      "metadata": {
        "id": "NfSKDlkFjWBb"
      },
      "execution_count": 6,
      "outputs": []
    },
    {
      "cell_type": "code",
      "source": [
        "ys=torch.tensor([1.86,1.31,.62,.33,.09,-.67,-1.23,-1.37])"
      ],
      "metadata": {
        "id": "Lfkd4WVOjmb7"
      },
      "execution_count": 7,
      "outputs": []
    },
    {
      "cell_type": "markdown",
      "source": [
        "La pendiente de la recta viene dada por $y = mx + b$:"
      ],
      "metadata": {
        "id": "HVMWDnKUj6-S"
      }
    },
    {
      "cell_type": "code",
      "source": [
        "def regression(my_x,my_m,my_b):\n",
        "  return my_m*my_x+my_b"
      ],
      "metadata": {
        "id": "b9G3ExgBj_KT"
      },
      "execution_count": 5,
      "outputs": []
    },
    {
      "cell_type": "markdown",
      "source": [
        "Inicialicemos $m$ y $b$ con los mismos valores «aleatorios» cercanos a cero que hicimos en el cuaderno *Regresión en PyTorch*:"
      ],
      "metadata": {
        "id": "_d9pFerSkV71"
      }
    },
    {
      "cell_type": "code",
      "source": [
        "m=torch.tensor([0.9]).requires_grad_()"
      ],
      "metadata": {
        "id": "uqXvbDR6kaIC"
      },
      "execution_count": 2,
      "outputs": []
    },
    {
      "cell_type": "code",
      "source": [
        "b=torch.tensor([0.1]).requires_grad_()"
      ],
      "metadata": {
        "id": "SaW5ErIukh_R"
      },
      "execution_count": 3,
      "outputs": []
    },
    {
      "cell_type": "markdown",
      "source": [
        "Para mantener las derivadas parciales lo más simple posible, vamos a avanzar con una sola instancia $i$ de los ocho posibles puntos de datos:"
      ],
      "metadata": {
        "id": "MeWe_FcdkxIW"
      }
    },
    {
      "cell_type": "code",
      "source": [
        "i=7\n",
        "x=xs[i]\n",
        "y=ys[i]"
      ],
      "metadata": {
        "id": "j3bWwBFWk_J5"
      },
      "execution_count": 8,
      "outputs": []
    },
    {
      "cell_type": "code",
      "source": [
        "x"
      ],
      "metadata": {
        "colab": {
          "base_uri": "https://localhost:8080/"
        },
        "id": "eeNBk-4-lQx5",
        "outputId": "3a87588d-1c9d-42f8-a900-3eab57c1871a"
      },
      "execution_count": 12,
      "outputs": [
        {
          "output_type": "execute_result",
          "data": {
            "text/plain": [
              "tensor(7.)"
            ]
          },
          "metadata": {},
          "execution_count": 12
        }
      ]
    },
    {
      "cell_type": "code",
      "source": [
        "y"
      ],
      "metadata": {
        "colab": {
          "base_uri": "https://localhost:8080/"
        },
        "id": "PX0AfwGElSLY",
        "outputId": "46a68d83-4150-4ebc-e31e-c49ab53561c3"
      },
      "execution_count": 13,
      "outputs": [
        {
          "output_type": "execute_result",
          "data": {
            "text/plain": [
              "tensor(-1.3700)"
            ]
          },
          "metadata": {},
          "execution_count": 13
        }
      ]
    },
    {
      "cell_type": "markdown",
      "source": [
        "**Paso 1**: Paso hacia adelante"
      ],
      "metadata": {
        "id": "xBVzN3fUlezj"
      }
    },
    {
      "cell_type": "markdown",
      "source": [
        "Podemos fluir el tensor escalar $x$ a través de nuestro modelo de regresión para producir $\\hat{y}$, una estimación de $y$. Antes de cualquier modelo de formación, se trata de una estimación arbitraria:"
      ],
      "metadata": {
        "id": "ngs8EP5glgUQ"
      }
    },
    {
      "cell_type": "code",
      "source": [
        "yhat=regression(x,m,b)\n",
        "yhat"
      ],
      "metadata": {
        "colab": {
          "base_uri": "https://localhost:8080/"
        },
        "id": "9-fmZ5GLlTLB",
        "outputId": "d6dd223f-6929-48b6-cc74-e8b808e792d7"
      },
      "execution_count": 11,
      "outputs": [
        {
          "output_type": "execute_result",
          "data": {
            "text/plain": [
              "tensor([6.4000], grad_fn=<AddBackward0>)"
            ]
          },
          "metadata": {},
          "execution_count": 11
        }
      ]
    },
    {
      "cell_type": "markdown",
      "source": [
        "**Paso 2**: Comparar $\\hat{y}$ con el valor real de $y$ para calcular el coste $C$"
      ],
      "metadata": {
        "id": "HYbMyx6eurBJ"
      }
    },
    {
      "cell_type": "markdown",
      "source": [
        "En el cuaderno *Regresión en PyTorch*, usamos el error cuadrático medio, que promedia el coste cuadrático sobre múltiples puntos de datos. Con un único punto de datos, aquí podemos usar sólo el coste cuadrático. Se define por: $$ C = (\\hat{y} - y)^2 $$"
      ],
      "metadata": {
        "id": "iiyxNodDut0f"
      }
    },
    {
      "cell_type": "code",
      "source": [
        "def squared_error(my_yhat,my_y):\n",
        "  return (my_yhat-my_y)**2"
      ],
      "metadata": {
        "id": "ISEH8BBcuwhI"
      },
      "execution_count": 14,
      "outputs": []
    },
    {
      "cell_type": "code",
      "source": [
        "C=squared_error(yhat,y)\n",
        "C"
      ],
      "metadata": {
        "colab": {
          "base_uri": "https://localhost:8080/"
        },
        "id": "OAWKZufnvDWo",
        "outputId": "d2ee6e68-0e50-4640-95f3-53167fbfe72c"
      },
      "execution_count": 15,
      "outputs": [
        {
          "output_type": "execute_result",
          "data": {
            "text/plain": [
              "tensor([60.3729], grad_fn=<PowBackward0>)"
            ]
          },
          "metadata": {},
          "execution_count": 15
        }
      ]
    },
    {
      "cell_type": "markdown",
      "source": [
        "**Paso 3**: Utilizar autodiff para calcular el gradiente de $C$ en función de los parámetros"
      ],
      "metadata": {
        "id": "BQi75CjmvTQI"
      }
    },
    {
      "cell_type": "code",
      "source": [
        "C.backward()"
      ],
      "metadata": {
        "id": "0Q5uM5Lowo0-"
      },
      "execution_count": 16,
      "outputs": []
    },
    {
      "cell_type": "markdown",
      "source": [
        "La derivada parcial de $C$ Con respecto a $m$ ($\\frac{\\partial C}{\\partial m}$) es:"
      ],
      "metadata": {
        "id": "aGBFA12WwwYU"
      }
    },
    {
      "cell_type": "code",
      "source": [
        "m.grad"
      ],
      "metadata": {
        "colab": {
          "base_uri": "https://localhost:8080/"
        },
        "id": "gVAhcztbwwAl",
        "outputId": "979a001c-bbaf-4c4f-d086-6770f5482e96"
      },
      "execution_count": 18,
      "outputs": [
        {
          "output_type": "execute_result",
          "data": {
            "text/plain": [
              "tensor([108.7800])"
            ]
          },
          "metadata": {},
          "execution_count": 18
        }
      ]
    },
    {
      "cell_type": "markdown",
      "source": [
        "Y la derivada parcial de $C$ con respecto a $b$ ($\\frac{\\partial C}{\\partial b}$) es:"
      ],
      "metadata": {
        "id": "lIWcMwIUw6ju"
      }
    },
    {
      "cell_type": "code",
      "source": [
        "b.grad"
      ],
      "metadata": {
        "colab": {
          "base_uri": "https://localhost:8080/"
        },
        "id": "BR-vWxnEw25b",
        "outputId": "4c7bfcf8-b0ca-4274-da54-6f9f60cc3621"
      },
      "execution_count": 19,
      "outputs": [
        {
          "output_type": "execute_result",
          "data": {
            "text/plain": [
              "tensor([15.5400])"
            ]
          },
          "metadata": {},
          "execution_count": 19
        }
      ]
    }
  ]
}