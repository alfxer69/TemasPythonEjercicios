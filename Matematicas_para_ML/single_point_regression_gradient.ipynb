{
  "nbformat": 4,
  "nbformat_minor": 0,
  "metadata": {
    "colab": {
      "provenance": []
    },
    "kernelspec": {
      "name": "python3",
      "display_name": "Python 3"
    },
    "language_info": {
      "name": "python"
    }
  },
  "cells": [
    {
      "cell_type": "code",
      "source": [
        "# Gradiente de una regresión de un solo punto"
      ],
      "metadata": {
        "id": "aTE7Z05ti13W"
      },
      "execution_count": 1,
      "outputs": []
    },
    {
      "cell_type": "markdown",
      "source": [
        "En este cuaderno, calculamos el gradiente del coste cuadrático con respecto a los parámetros de un modelo de regresión en línea recta. Mantenemos las derivadas parciales lo más simples posible limitando el modelo al manejo de un único punto de datos."
      ],
      "metadata": {
        "id": "9oyxRdTBi8-8"
      }
    },
    {
      "cell_type": "code",
      "source": [
        "import torch"
      ],
      "metadata": {
        "id": "EkNfj95jjFoj"
      },
      "execution_count": 2,
      "outputs": []
    },
    {
      "cell_type": "markdown",
      "source": [
        "Usemos los mismos datos que usamos en el cuaderno [*Regresión en PyTorch*](https://github.com/joanby/matematicas-ml/blob/master/notebooks/regression-in-pytorch.ipynb) así como para demostrar la Pseudoinversa de Moore-Penrose en el cuaderno [*Álgebra Lineal II*](https://github.com/joanby/matematicas-ml/blob/master/notebooks/2-linear-algebra-ii.ipynb):"
      ],
      "metadata": {
        "id": "p9NkgsAJjT5L"
      }
    },
    {
      "cell_type": "code",
      "source": [
        "xs=torch.tensor([0,1,2,3,4,5,6,7.])"
      ],
      "metadata": {
        "id": "NfSKDlkFjWBb"
      },
      "execution_count": 3,
      "outputs": []
    },
    {
      "cell_type": "code",
      "source": [
        "ys=torch.tensor([1.86,1.31,.62,.33,.09,-.67,-1.23,-1.37])"
      ],
      "metadata": {
        "id": "Lfkd4WVOjmb7"
      },
      "execution_count": 4,
      "outputs": []
    },
    {
      "cell_type": "markdown",
      "source": [
        "La pendiente de la recta viene dada por $y = mx + b$:"
      ],
      "metadata": {
        "id": "HVMWDnKUj6-S"
      }
    },
    {
      "cell_type": "code",
      "source": [
        "def regression(my_x,my_m,my_b):\n",
        "  return my_m*my_x+my_b"
      ],
      "metadata": {
        "id": "b9G3ExgBj_KT"
      },
      "execution_count": 5,
      "outputs": []
    },
    {
      "cell_type": "markdown",
      "source": [
        "Inicialicemos $m$ y $b$ con los mismos valores «aleatorios» cercanos a cero que hicimos en el cuaderno *Regresión en PyTorch*:"
      ],
      "metadata": {
        "id": "_d9pFerSkV71"
      }
    },
    {
      "cell_type": "code",
      "source": [
        "m=torch.tensor([0.9]).requires_grad_()"
      ],
      "metadata": {
        "id": "uqXvbDR6kaIC"
      },
      "execution_count": 6,
      "outputs": []
    },
    {
      "cell_type": "code",
      "source": [
        "b=torch.tensor([0.1]).requires_grad_()"
      ],
      "metadata": {
        "id": "SaW5ErIukh_R"
      },
      "execution_count": 7,
      "outputs": []
    },
    {
      "cell_type": "markdown",
      "source": [
        "Para mantener las derivadas parciales lo más simple posible, vamos a avanzar con una sola instancia $i$ de los ocho posibles puntos de datos:"
      ],
      "metadata": {
        "id": "MeWe_FcdkxIW"
      }
    },
    {
      "cell_type": "code",
      "source": [
        "i=7\n",
        "x=xs[i]\n",
        "y=ys[i]"
      ],
      "metadata": {
        "id": "j3bWwBFWk_J5"
      },
      "execution_count": 8,
      "outputs": []
    },
    {
      "cell_type": "code",
      "source": [
        "x"
      ],
      "metadata": {
        "colab": {
          "base_uri": "https://localhost:8080/"
        },
        "id": "eeNBk-4-lQx5",
        "outputId": "56f4f0ca-5f00-4d17-f121-fc2acc4da391"
      },
      "execution_count": 9,
      "outputs": [
        {
          "output_type": "execute_result",
          "data": {
            "text/plain": [
              "tensor(7.)"
            ]
          },
          "metadata": {},
          "execution_count": 9
        }
      ]
    },
    {
      "cell_type": "code",
      "source": [
        "y"
      ],
      "metadata": {
        "colab": {
          "base_uri": "https://localhost:8080/"
        },
        "id": "PX0AfwGElSLY",
        "outputId": "37c34b5d-bd5c-49ae-bca9-17e4f86d497b"
      },
      "execution_count": 10,
      "outputs": [
        {
          "output_type": "execute_result",
          "data": {
            "text/plain": [
              "tensor(-1.3700)"
            ]
          },
          "metadata": {},
          "execution_count": 10
        }
      ]
    },
    {
      "cell_type": "markdown",
      "source": [
        "**Paso 1**: Paso hacia adelante"
      ],
      "metadata": {
        "id": "xBVzN3fUlezj"
      }
    },
    {
      "cell_type": "markdown",
      "source": [
        "Podemos fluir el tensor escalar $x$ a través de nuestro modelo de regresión para producir $\\hat{y}$, una estimación de $y$. Antes de cualquier modelo de formación, se trata de una estimación arbitraria:"
      ],
      "metadata": {
        "id": "ngs8EP5glgUQ"
      }
    },
    {
      "cell_type": "code",
      "source": [
        "yhat=regression(x,m,b)\n",
        "yhat"
      ],
      "metadata": {
        "colab": {
          "base_uri": "https://localhost:8080/"
        },
        "id": "9-fmZ5GLlTLB",
        "outputId": "dff8b236-5cf4-4196-f9bb-1edcd920df28"
      },
      "execution_count": 11,
      "outputs": [
        {
          "output_type": "execute_result",
          "data": {
            "text/plain": [
              "tensor([6.4000], grad_fn=<AddBackward0>)"
            ]
          },
          "metadata": {},
          "execution_count": 11
        }
      ]
    },
    {
      "cell_type": "markdown",
      "source": [
        "**Paso 2**: Comparar $\\hat{y}$ con el valor real de $y$ para calcular el coste $C$"
      ],
      "metadata": {
        "id": "HYbMyx6eurBJ"
      }
    },
    {
      "cell_type": "markdown",
      "source": [
        "En el cuaderno *Regresión en PyTorch*, usamos el error cuadrático medio, que promedia el coste cuadrático sobre múltiples puntos de datos. Con un único punto de datos, aquí podemos usar sólo el coste cuadrático. Se define por: $$ C = (\\hat{y} - y)^2 $$"
      ],
      "metadata": {
        "id": "iiyxNodDut0f"
      }
    },
    {
      "cell_type": "code",
      "source": [
        "def squared_error(my_yhat,my_y):\n",
        "  return (my_yhat-my_y)**2"
      ],
      "metadata": {
        "id": "ISEH8BBcuwhI"
      },
      "execution_count": 12,
      "outputs": []
    },
    {
      "cell_type": "code",
      "source": [
        "C=squared_error(yhat,y)\n",
        "C"
      ],
      "metadata": {
        "colab": {
          "base_uri": "https://localhost:8080/"
        },
        "id": "OAWKZufnvDWo",
        "outputId": "56608310-592a-40b8-86cc-15a0586b8aee"
      },
      "execution_count": 13,
      "outputs": [
        {
          "output_type": "execute_result",
          "data": {
            "text/plain": [
              "tensor([60.3729], grad_fn=<PowBackward0>)"
            ]
          },
          "metadata": {},
          "execution_count": 13
        }
      ]
    },
    {
      "cell_type": "markdown",
      "source": [
        "**Paso 3**: Utilizar autodiff para calcular el gradiente de $C$ en función de los parámetros"
      ],
      "metadata": {
        "id": "BQi75CjmvTQI"
      }
    },
    {
      "cell_type": "code",
      "source": [
        "C.backward()"
      ],
      "metadata": {
        "id": "0Q5uM5Lowo0-"
      },
      "execution_count": 14,
      "outputs": []
    },
    {
      "cell_type": "markdown",
      "source": [
        "La derivada parcial de $C$ Con respecto a $m$ ($\\frac{\\partial C}{\\partial m}$) es:"
      ],
      "metadata": {
        "id": "aGBFA12WwwYU"
      }
    },
    {
      "cell_type": "code",
      "source": [
        "m.grad"
      ],
      "metadata": {
        "colab": {
          "base_uri": "https://localhost:8080/"
        },
        "id": "gVAhcztbwwAl",
        "outputId": "c30415e5-ff08-465a-b251-230b616c8723"
      },
      "execution_count": 15,
      "outputs": [
        {
          "output_type": "execute_result",
          "data": {
            "text/plain": [
              "tensor([108.7800])"
            ]
          },
          "metadata": {},
          "execution_count": 15
        }
      ]
    },
    {
      "cell_type": "markdown",
      "source": [
        "Y la derivada parcial de $C$ con respecto a $b$ ($\\frac{\\partial C}{\\partial b}$) es:"
      ],
      "metadata": {
        "id": "lIWcMwIUw6ju"
      }
    },
    {
      "cell_type": "code",
      "source": [
        "b.grad"
      ],
      "metadata": {
        "colab": {
          "base_uri": "https://localhost:8080/"
        },
        "id": "BR-vWxnEw25b",
        "outputId": "18f615b9-dadc-4eb5-e9ce-e31e0d4cdf09"
      },
      "execution_count": 16,
      "outputs": [
        {
          "output_type": "execute_result",
          "data": {
            "text/plain": [
              "tensor([15.5400])"
            ]
          },
          "metadata": {},
          "execution_count": 16
        }
      ]
    },
    {
      "cell_type": "markdown",
      "source": [
        "Volver a las diapositivas de *Cálculo II*  aquí para derivar $\\frac{\\partial C}{\\partial m}$ y $\\frac{\\partial C}{\\partial b}$.**"
      ],
      "metadata": {
        "id": "oyD9FYK2Kd0Z"
      }
    },
    {
      "cell_type": "markdown",
      "source": [
        "$$ \\frac{\\partial C}{\\partial m} = 2x(\\hat{y} - y) $$"
      ],
      "metadata": {
        "id": "mBSgn3a2KndB"
      }
    },
    {
      "cell_type": "code",
      "source": [
        "2*x*(yhat-y)"
      ],
      "metadata": {
        "colab": {
          "base_uri": "https://localhost:8080/"
        },
        "id": "krm9uKERKtsS",
        "outputId": "53d67b42-428e-42a0-c96f-740656a7fdae"
      },
      "execution_count": 17,
      "outputs": [
        {
          "output_type": "execute_result",
          "data": {
            "text/plain": [
              "tensor([108.7800], grad_fn=<MulBackward0>)"
            ]
          },
          "metadata": {},
          "execution_count": 17
        }
      ]
    },
    {
      "cell_type": "markdown",
      "source": [
        "$$ \\frac{\\partial C}{\\partial b} = 2(\\hat{y}-y) $$"
      ],
      "metadata": {
        "id": "WWi7eSErLmOz"
      }
    },
    {
      "cell_type": "code",
      "source": [
        "2*(yhat-y)"
      ],
      "metadata": {
        "colab": {
          "base_uri": "https://localhost:8080/"
        },
        "id": "NThMkeeyLn_f",
        "outputId": "21d5aaf3-7c6e-43cc-a65c-cac975928c5d"
      },
      "execution_count": 18,
      "outputs": [
        {
          "output_type": "execute_result",
          "data": {
            "text/plain": [
              "tensor([15.5400], grad_fn=<MulBackward0>)"
            ]
          },
          "metadata": {},
          "execution_count": 18
        }
      ]
    },
    {
      "cell_type": "markdown",
      "source": [
        "###LA Gradiente del Coste C"
      ],
      "metadata": {
        "id": "wlUC34FmNvZF"
      }
    },
    {
      "cell_type": "markdown",
      "source": [
        "$\\nabla C = \\nabla_p C = \\left[ \\frac{\\partial{C}}{\\partial{p_1}}, \\frac{\\partial{C}}{\\partial{p_2}}, \\cdots, \\frac{\\partial{C}}{\\partial{p_n}} \\right]^T $"
      ],
      "metadata": {
        "id": "t9U8AC2jN81-"
      }
    },
    {
      "cell_type": "markdown",
      "source": [
        "En este caso, sólo hay dos parámetros, $b$ y $m$:"
      ],
      "metadata": {
        "id": "GUTk_00JOB7x"
      }
    },
    {
      "cell_type": "markdown",
      "source": [
        "$\\nabla C = \\left[ \\frac{\\partial{C}}{\\partial{b}}, \\frac{\\partial{C}}{\\partial{m}} \\right]^T $"
      ],
      "metadata": {
        "id": "gy4oJzvXODHh"
      }
    },
    {
      "cell_type": "code",
      "source": [
        "gradient=torch.tensor([[b.grad,m.grad]]).T\n",
        "gradient"
      ],
      "metadata": {
        "colab": {
          "base_uri": "https://localhost:8080/"
        },
        "id": "9MrbeB3VOLR8",
        "outputId": "a506203a-6f86-4d63-c3d2-8e91dcb83cd5"
      },
      "execution_count": 19,
      "outputs": [
        {
          "output_type": "execute_result",
          "data": {
            "text/plain": [
              "tensor([[ 15.5400],\n",
              "        [108.7800]])"
            ]
          },
          "metadata": {},
          "execution_count": 19
        }
      ]
    }
  ]
}