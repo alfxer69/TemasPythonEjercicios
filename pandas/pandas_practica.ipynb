{
 "cells": [
  {
   "cell_type": "code",
   "execution_count": 2,
   "id": "40043284",
   "metadata": {},
   "outputs": [
    {
     "data": {
      "text/plain": [
       "'Ejercicios de Practica con Pandas'"
      ]
     },
     "execution_count": 2,
     "metadata": {},
     "output_type": "execute_result"
    }
   ],
   "source": [
    "\"Ejercicios de Practica con Pandas\""
   ]
  },
  {
   "cell_type": "code",
   "execution_count": 3,
   "id": "4aec30d7",
   "metadata": {},
   "outputs": [],
   "source": [
    "import pandas as pd\n",
    "import numpy as np"
   ]
  },
  {
   "cell_type": "code",
   "execution_count": 4,
   "id": "0312e27c",
   "metadata": {},
   "outputs": [],
   "source": [
    "#creamos un diccionario\n",
    "diccionario={\n",
    "    'uno':1,\n",
    "    'dos':2,\n",
    "    'tres':3,\n",
    "    'cuatro':4,\n",
    "    'cinco':5\n",
    "}"
   ]
  },
  {
   "cell_type": "code",
   "execution_count": 5,
   "id": "b2f964e3",
   "metadata": {},
   "outputs": [
    {
     "data": {
      "text/plain": [
       "uno       1\n",
       "dos       2\n",
       "tres      3\n",
       "cuatro    4\n",
       "cinco     5\n",
       "dtype: int64"
      ]
     },
     "execution_count": 5,
     "metadata": {},
     "output_type": "execute_result"
    }
   ],
   "source": [
    "mi_serie= pd.Series(diccionario)\n",
    "mi_serie"
   ]
  },
  {
   "cell_type": "markdown",
   "id": "afad91ea",
   "metadata": {},
   "source": [
    "El siguiente ejemplo crea una Series a partir de un ndarray:"
   ]
  },
  {
   "cell_type": "code",
   "execution_count": 6,
   "id": "9548ab23",
   "metadata": {},
   "outputs": [
    {
     "data": {
      "text/plain": [
       "uno       1\n",
       "dos       2\n",
       "tres      3\n",
       "cuatro    4\n",
       "cinco     5\n",
       "dtype: int32"
      ]
     },
     "execution_count": 6,
     "metadata": {},
     "output_type": "execute_result"
    }
   ],
   "source": [
    "array = np.array([1, 2, 3, 4, 5])\n",
    "\n",
    "indice=['uno','dos','tres','cuatro','cinco']\n",
    "\n",
    "mi_serie2=pd.Series(array,index=indice)\n",
    "mi_serie2"
   ]
  },
  {
   "cell_type": "markdown",
   "id": "2dc965af",
   "metadata": {},
   "source": [
    "El siguiente ejemplo crea una Series a partir de un ndarray:"
   ]
  },
  {
   "cell_type": "code",
   "execution_count": 7,
   "id": "b30cfe27",
   "metadata": {},
   "outputs": [
    {
     "data": {
      "text/plain": [
       "uno       1\n",
       "dos       1\n",
       "tres      1\n",
       "cuatro    1\n",
       "cinco     1\n",
       "dtype: int64"
      ]
     },
     "execution_count": 7,
     "metadata": {},
     "output_type": "execute_result"
    }
   ],
   "source": [
    "numero=1\n",
    "indice=['uno','dos','tres','cuatro','cinco']\n",
    "mi_serie3=pd.Series(numero,index=indice)\n",
    "mi_serie3"
   ]
  },
  {
   "cell_type": "markdown",
   "id": "19a62a2a",
   "metadata": {},
   "source": [
    "Las Series actúa de manera muy similar a un ndarray, y pueden ser \n",
    "utilizadas en la mayoría de las funciones de NumPy:"
   ]
  },
  {
   "cell_type": "code",
   "execution_count": 8,
   "id": "81aca263",
   "metadata": {},
   "outputs": [
    {
     "data": {
      "text/plain": [
       "uno       1.000000\n",
       "dos       1.414214\n",
       "tres      1.732051\n",
       "cuatro    2.000000\n",
       "cinco     2.236068\n",
       "dtype: float64"
      ]
     },
     "execution_count": 8,
     "metadata": {},
     "output_type": "execute_result"
    }
   ],
   "source": [
    "mi_serie.iloc[0]\n",
    "mi_serie.iloc[:5]\n",
    "mi_serie.iloc[:-1]\n",
    "mi_serie.loc[mi_serie>3]\n",
    "mi_serie.iloc[[0,2,4]]\n",
    "np.sqrt(mi_serie)"
   ]
  },
  {
   "cell_type": "markdown",
   "id": "4e5c5c48",
   "metadata": {},
   "source": [
    " Una serie es como un diccionario de tamaño fijo en el que puedes obtener y establecer valores por etiqueta de índice"
   ]
  },
  {
   "cell_type": "code",
   "execution_count": 9,
   "id": "454b44bc",
   "metadata": {},
   "outputs": [
    {
     "data": {
      "text/plain": [
       "False"
      ]
     },
     "execution_count": 9,
     "metadata": {},
     "output_type": "execute_result"
    }
   ],
   "source": [
    "mi_serie.loc['uno']\n",
    "mi_serie.loc['dos']\n",
    "'tres' in mi_serie\n",
    "'trece' in mi_serie"
   ]
  },
  {
   "cell_type": "markdown",
   "id": "4cebcbf8",
   "metadata": {},
   "source": [
    "Cuando se trabaja con vectores en NumPy, no suele ser necesario hacer un \n",
    "bucle de valor a valor. Lo mismo ocurre cuando se trabaja con Series en \n",
    "pandas:"
   ]
  },
  {
   "cell_type": "code",
   "execution_count": 10,
   "id": "e5a9a9e7",
   "metadata": {},
   "outputs": [
    {
     "data": {
      "text/plain": [
       "uno        5\n",
       "dos       10\n",
       "tres      15\n",
       "cuatro    20\n",
       "cinco     25\n",
       "dtype: int64"
      ]
     },
     "execution_count": 10,
     "metadata": {},
     "output_type": "execute_result"
    }
   ],
   "source": [
    "mi_serie+mi_serie\n",
    "mi_serie*5"
   ]
  },
  {
   "cell_type": "markdown",
   "id": "a6199fe1",
   "metadata": {},
   "source": [
    "Una diferencia clave entre la Series y el ndarray es que las operaciones \n",
    "entre Series alinean automáticamente los datos a partir de la etiqueta. De esta forma, se pueden escribir cálculos sin tener en cuenta si las series implicadas tienen las mismas etiquetas*"
   ]
  },
  {
   "cell_type": "code",
   "execution_count": 11,
   "id": "eaff8788",
   "metadata": {},
   "outputs": [
    {
     "data": {
      "text/plain": [
       "cinco     NaN\n",
       "cuatro    8.0\n",
       "dos       4.0\n",
       "tres      6.0\n",
       "uno       NaN\n",
       "dtype: float64"
      ]
     },
     "execution_count": 11,
     "metadata": {},
     "output_type": "execute_result"
    }
   ],
   "source": [
    "mi_serie.iloc[:-1]+mi_serie.iloc[1:]"
   ]
  },
  {
   "cell_type": "markdown",
   "id": "727a0617",
   "metadata": {},
   "source": [
    "##Introducción a Estructuras de Datos - DataFrame\n",
    " DataFrame es una estructura de datos etiquetada en 2 dimensiones con columnas de \n",
    "tipos comúnmente diferentes. \n",
    "● Es similar a una hoja de cálculo o una tabla SQL, o un diccionario de objetos de tipo Series. \n",
    "● Es el objeto de pandas más utilizado. \n",
    "● Al igual que la serie, el DataFrame acepta muchos tipos diferentes de entrada:\n",
    " ○ Diccionario de 1D ndarray, listas, diccionarios, o Series\n",
    " ○ 2D ndarray\n",
    " ○ ndarray estructurado o de registro\n",
    " ○ Una Series\n",
    " ○ Otro DataFrame\n",
    " ● Junto con los datos, se puede pasar opcionalmente los argumentos de índice (etiquetas de filas) y de columnas (etiquetas de columnas)."
   ]
  },
  {
   "cell_type": "markdown",
   "id": "6a12bd89",
   "metadata": {},
   "source": [
    "##Introducción a Estructuras de Datos - DataFrame a partir de un \n",
    "diccionario de Series o diccionarios\n",
    "● El índice resultante será la unión de los índices de las distintas Series. \n",
    "● Si hay algunos diccionarios anidados, estos se convertirán primero en \n",
    "Series. \n",
    "● Si no se pasan columnas, las columnas serán la lista ordenada de \n",
    "claves de los diccionarios.\n",
    "\n"
   ]
  },
  {
   "cell_type": "code",
   "execution_count": 12,
   "id": "d8052ad3",
   "metadata": {},
   "outputs": [
    {
     "ename": "NameError",
     "evalue": "name 'diccionario1' is not defined",
     "output_type": "error",
     "traceback": [
      "\u001b[1;31m---------------------------------------------------------------------------\u001b[0m",
      "\u001b[1;31mNameError\u001b[0m                                 Traceback (most recent call last)",
      "Cell \u001b[1;32mIn[12], line 6\u001b[0m\n\u001b[0;32m      1\u001b[0m datos1 \u001b[38;5;241m=\u001b[39m pd\u001b[38;5;241m.\u001b[39mSeries([\u001b[38;5;241m1\u001b[39m, \u001b[38;5;241m2\u001b[39m, \u001b[38;5;241m3\u001b[39m, \u001b[38;5;241m4\u001b[39m, \u001b[38;5;241m5\u001b[39m], index\u001b[38;5;241m=\u001b[39m[\u001b[38;5;124m'\u001b[39m\u001b[38;5;124ma\u001b[39m\u001b[38;5;124m'\u001b[39m, \u001b[38;5;124m'\u001b[39m\u001b[38;5;124mb\u001b[39m\u001b[38;5;124m'\u001b[39m, \u001b[38;5;124m'\u001b[39m\u001b[38;5;124mc\u001b[39m\u001b[38;5;124m'\u001b[39m, \u001b[38;5;124m'\u001b[39m\u001b[38;5;124md\u001b[39m\u001b[38;5;124m'\u001b[39m, \u001b[38;5;124m'\u001b[39m\u001b[38;5;124me\u001b[39m\u001b[38;5;124m'\u001b[39m])\n\u001b[0;32m      2\u001b[0m datos2 \u001b[38;5;241m=\u001b[39m pd\u001b[38;5;241m.\u001b[39mSeries([\u001b[38;5;241m6\u001b[39m, \u001b[38;5;241m7\u001b[39m, \u001b[38;5;241m8\u001b[39m, \u001b[38;5;241m9\u001b[39m, \u001b[38;5;241m10\u001b[39m], index\u001b[38;5;241m=\u001b[39m[\u001b[38;5;124m'\u001b[39m\u001b[38;5;124ma\u001b[39m\u001b[38;5;124m'\u001b[39m, \u001b[38;5;124m'\u001b[39m\u001b[38;5;124mb\u001b[39m\u001b[38;5;124m'\u001b[39m, \u001b[38;5;124m'\u001b[39m\u001b[38;5;124mc\u001b[39m\u001b[38;5;124m'\u001b[39m, \u001b[38;5;124m'\u001b[39m\u001b[38;5;124md\u001b[39m\u001b[38;5;124m'\u001b[39m, \u001b[38;5;124m'\u001b[39m\u001b[38;5;124me\u001b[39m\u001b[38;5;124m'\u001b[39m])\n\u001b[0;32m      4\u001b[0m diccionario1\u001b[38;5;241m=\u001b[39m{\u001b[38;5;124m'\u001b[39m\u001b[38;5;124mdic1\u001b[39m\u001b[38;5;124m'\u001b[39m:pd\u001b[38;5;241m.\u001b[39mSeries(datos1,index\u001b[38;5;241m=\u001b[39mdatos1\u001b[38;5;241m.\u001b[39mindex),\n\u001b[0;32m      5\u001b[0m               \u001b[38;5;124m'\u001b[39m\u001b[38;5;124mdic2\u001b[39m\u001b[38;5;124m'\u001b[39m:pd\u001b[38;5;241m.\u001b[39mSeries(datos2,index\u001b[38;5;241m=\u001b[39mdatos2\u001b[38;5;241m.\u001b[39mindex),\n\u001b[1;32m----> 6\u001b[0m               \u001b[38;5;124m'\u001b[39m\u001b[38;5;124mdic3\u001b[39m\u001b[38;5;124m'\u001b[39m:diccionario1[\u001b[38;5;124m'\u001b[39m\u001b[38;5;124mdic1\u001b[39m\u001b[38;5;124m'\u001b[39m]\u001b[38;5;241m+\u001b[39mdiccionario1[\u001b[38;5;124m'\u001b[39m\u001b[38;5;124mdic2\u001b[39m\u001b[38;5;124m'\u001b[39m],\n\u001b[0;32m      7\u001b[0m               \u001b[38;5;124m'\u001b[39m\u001b[38;5;124mdic4\u001b[39m\u001b[38;5;124m'\u001b[39m:diccionario1[\u001b[38;5;124m'\u001b[39m\u001b[38;5;124mdic1\u001b[39m\u001b[38;5;124m'\u001b[39m]\u001b[38;5;241m*\u001b[39m\u001b[38;5;241m5\u001b[39m}\n\u001b[0;32m      9\u001b[0m df\u001b[38;5;241m=\u001b[39mpd\u001b[38;5;241m.\u001b[39mDataFrame(diccionario1)\n\u001b[0;32m     10\u001b[0m df\n",
      "\u001b[1;31mNameError\u001b[0m: name 'diccionario1' is not defined"
     ]
    }
   ],
   "source": [
    "datos1 = pd.Series([1, 2, 3, 4, 5], index=['a', 'b', 'c', 'd', 'e'])\n",
    "datos2 = pd.Series([6, 7, 8, 9, 10], index=['a', 'b', 'c', 'd', 'e'])\n",
    "\n",
    "diccionario1={'dic1':pd.Series(datos1,index=datos1.index),\n",
    "              'dic2':pd.Series(datos2,index=datos2.index),\n",
    "              'dic3':diccionario1['dic1']+diccionario1['dic2'],\n",
    "              'dic4':diccionario1['dic1']*5}\n",
    "\n",
    "df=pd.DataFrame(diccionario1)\n",
    "df\n"
   ]
  },
  {
   "cell_type": "markdown",
   "id": "db4a65e1",
   "metadata": {},
   "source": [
    "Introducción a Estructuras de Datos - DataFrame a partir de un \n",
    "ndarray estructurado o de registro.\n",
    " ● Es similar a un diccionario de arrays:"
   ]
  },
  {
   "cell_type": "code",
   "execution_count": null,
   "id": "35eafcd4",
   "metadata": {},
   "outputs": [
    {
     "name": "stderr",
     "output_type": "stream",
     "text": [
      "C:\\Users\\Usuario\\AppData\\Local\\Temp\\ipykernel_19444\\3822272240.py:1: DeprecationWarning: Data type alias 'a' was deprecated in NumPy 2.0. Use the 'S' alias instead.\n",
      "  datos=np.zeros((2,), dtype=[('A','i4'),('B','f4'),('C','a10')])\n"
     ]
    },
    {
     "data": {
      "text/html": [
       "<div>\n",
       "<style scoped>\n",
       "    .dataframe tbody tr th:only-of-type {\n",
       "        vertical-align: middle;\n",
       "    }\n",
       "\n",
       "    .dataframe tbody tr th {\n",
       "        vertical-align: top;\n",
       "    }\n",
       "\n",
       "    .dataframe thead th {\n",
       "        text-align: right;\n",
       "    }\n",
       "</style>\n",
       "<table border=\"1\" class=\"dataframe\">\n",
       "  <thead>\n",
       "    <tr style=\"text-align: right;\">\n",
       "      <th></th>\n",
       "      <th>A</th>\n",
       "      <th>B</th>\n",
       "      <th>C</th>\n",
       "    </tr>\n",
       "  </thead>\n",
       "  <tbody>\n",
       "    <tr>\n",
       "      <th>0</th>\n",
       "      <td>0</td>\n",
       "      <td>0.0</td>\n",
       "      <td>b''</td>\n",
       "    </tr>\n",
       "    <tr>\n",
       "      <th>1</th>\n",
       "      <td>0</td>\n",
       "      <td>0.0</td>\n",
       "      <td>b''</td>\n",
       "    </tr>\n",
       "  </tbody>\n",
       "</table>\n",
       "</div>"
      ],
      "text/plain": [
       "   A    B    C\n",
       "0  0  0.0  b''\n",
       "1  0  0.0  b''"
      ]
     },
     "execution_count": 59,
     "metadata": {},
     "output_type": "execute_result"
    }
   ],
   "source": [
    "datos=np.zeros((2,), dtype=[('A','i4'),('B','f4'),('C','a10')])\n",
    "df=pd.DataFrame(datos)\n",
    "df"
   ]
  },
  {
   "cell_type": "code",
   "execution_count": null,
   "id": "2af0fe3d",
   "metadata": {},
   "outputs": [
    {
     "data": {
      "text/html": [
       "<div>\n",
       "<style scoped>\n",
       "    .dataframe tbody tr th:only-of-type {\n",
       "        vertical-align: middle;\n",
       "    }\n",
       "\n",
       "    .dataframe tbody tr th {\n",
       "        vertical-align: top;\n",
       "    }\n",
       "\n",
       "    .dataframe thead th {\n",
       "        text-align: right;\n",
       "    }\n",
       "</style>\n",
       "<table border=\"1\" class=\"dataframe\">\n",
       "  <thead>\n",
       "    <tr style=\"text-align: right;\">\n",
       "      <th></th>\n",
       "      <th>0</th>\n",
       "      <th>1</th>\n",
       "      <th>2</th>\n",
       "    </tr>\n",
       "  </thead>\n",
       "  <tbody>\n",
       "    <tr>\n",
       "      <th>0</th>\n",
       "      <td>1</td>\n",
       "      <td>2.0</td>\n",
       "      <td>Hola</td>\n",
       "    </tr>\n",
       "    <tr>\n",
       "      <th>1</th>\n",
       "      <td>2</td>\n",
       "      <td>3.0</td>\n",
       "      <td>Mundo</td>\n",
       "    </tr>\n",
       "  </tbody>\n",
       "</table>\n",
       "</div>"
      ],
      "text/plain": [
       "   0    1      2\n",
       "0  1  2.0   Hola\n",
       "1  2  3.0  Mundo"
      ]
     },
     "execution_count": 61,
     "metadata": {},
     "output_type": "execute_result"
    }
   ],
   "source": [
    "datos=[(1,2.,'Hola'),(2,3.,'Mundo')]\n",
    "df=pd.DataFrame(datos)\n",
    "df"
   ]
  },
  {
   "cell_type": "markdown",
   "id": "53ed1689",
   "metadata": {},
   "source": [
    "Introducción a Estructuras de Datos - DataFrame a partir de una \n",
    "lista de diccionarios\n",
    " ● Es similar a un diccionario de arrays:"
   ]
  },
  {
   "cell_type": "code",
   "execution_count": null,
   "id": "f724e6d5",
   "metadata": {},
   "outputs": [
    {
     "data": {
      "text/html": [
       "<div>\n",
       "<style scoped>\n",
       "    .dataframe tbody tr th:only-of-type {\n",
       "        vertical-align: middle;\n",
       "    }\n",
       "\n",
       "    .dataframe tbody tr th {\n",
       "        vertical-align: top;\n",
       "    }\n",
       "\n",
       "    .dataframe thead th {\n",
       "        text-align: right;\n",
       "    }\n",
       "</style>\n",
       "<table border=\"1\" class=\"dataframe\">\n",
       "  <thead>\n",
       "    <tr style=\"text-align: right;\">\n",
       "      <th></th>\n",
       "      <th>uno</th>\n",
       "      <th>dos</th>\n",
       "      <th>tres</th>\n",
       "    </tr>\n",
       "  </thead>\n",
       "  <tbody>\n",
       "    <tr>\n",
       "      <th>0</th>\n",
       "      <td>1</td>\n",
       "      <td>2</td>\n",
       "      <td>0.0</td>\n",
       "    </tr>\n",
       "    <tr>\n",
       "      <th>1</th>\n",
       "      <td>1</td>\n",
       "      <td>2</td>\n",
       "      <td>3.0</td>\n",
       "    </tr>\n",
       "  </tbody>\n",
       "</table>\n",
       "</div>"
      ],
      "text/plain": [
       "   uno  dos  tres\n",
       "0    1    2   0.0\n",
       "1    1    2   3.0"
      ]
     },
     "execution_count": 71,
     "metadata": {},
     "output_type": "execute_result"
    }
   ],
   "source": [
    "diccionario=[{'uno':1,'dos':2},{'uno':1,'dos':2,'tres':3}]\n",
    "df=pd.DataFrame(diccionario)\n",
    "df=df.replace(np.nan, 0)  # Rellena NaN con 0\n",
    "df  \n",
    "# Rellena NaN con 0\n",
    "  # Elimina columnas con todos los valores NaN"
   ]
  },
  {
   "cell_type": "markdown",
   "id": "76438ae0",
   "metadata": {},
   "source": [
    "Introducción a Estructuras de Datos - DataFrame a partir del \n",
    "método from_dict\n",
    "from_dict toma un diccionario de diccionarios o un diccionario de \n",
    "secuencias tipo array y devuelve un DataFrame. \n",
    "● Funciona como el constructor del DataFrame, excepto por el parámetro \n",
    "de orientación que es \"columnas\" por defecto, pero que puede ser \n",
    "configurado como \"índice\" para usar las teclas de dictado como \n",
    "etiquetas de fila:"
   ]
  },
  {
   "cell_type": "code",
   "execution_count": null,
   "id": "faf73b4a",
   "metadata": {},
   "outputs": [
    {
     "data": {
      "text/html": [
       "<div>\n",
       "<style scoped>\n",
       "    .dataframe tbody tr th:only-of-type {\n",
       "        vertical-align: middle;\n",
       "    }\n",
       "\n",
       "    .dataframe tbody tr th {\n",
       "        vertical-align: top;\n",
       "    }\n",
       "\n",
       "    .dataframe thead th {\n",
       "        text-align: right;\n",
       "    }\n",
       "</style>\n",
       "<table border=\"1\" class=\"dataframe\">\n",
       "  <thead>\n",
       "    <tr style=\"text-align: right;\">\n",
       "      <th></th>\n",
       "      <th>A</th>\n",
       "      <th>B</th>\n",
       "      <th>C</th>\n",
       "    </tr>\n",
       "  </thead>\n",
       "  <tbody>\n",
       "    <tr>\n",
       "      <th>0</th>\n",
       "      <td>1</td>\n",
       "      <td>4</td>\n",
       "      <td>7</td>\n",
       "    </tr>\n",
       "    <tr>\n",
       "      <th>1</th>\n",
       "      <td>2</td>\n",
       "      <td>5</td>\n",
       "      <td>8</td>\n",
       "    </tr>\n",
       "    <tr>\n",
       "      <th>2</th>\n",
       "      <td>3</td>\n",
       "      <td>6</td>\n",
       "      <td>9</td>\n",
       "    </tr>\n",
       "  </tbody>\n",
       "</table>\n",
       "</div>"
      ],
      "text/plain": [
       "   A  B  C\n",
       "0  1  4  7\n",
       "1  2  5  8\n",
       "2  3  6  9"
      ]
     },
     "execution_count": 72,
     "metadata": {},
     "output_type": "execute_result"
    }
   ],
   "source": [
    "diccionario={'A':[1,2,3],'B':[4,5,6],'C':[7,8,9]}\n",
    "df=pd.DataFrame(diccionario)\n",
    "df"
   ]
  },
  {
   "cell_type": "markdown",
   "id": "778dcc5a",
   "metadata": {},
   "source": [
    "##Manipulación de Estructuras de Datos - Introducción\n",
    " Pandas ahora soporta dos tipos de indexación multieje:\n",
    " ○ .loc se basa principalmente en la etiqueta, pero también puede utilizarse con una matriz booleana. .loc elevará el \n",
    "KeyError cuando los elementos no se encuentren. Las entradas permitidas son:\n",
    " ■ Una sola etiqueta\n",
    " ■ Una lista o conjunto de etiquetas\n",
    " ■ Un subconjunto de un objeto\n",
    " ■ Una matriz booleana\n",
    " ■ Una función con un argumento (la llamada Series o DataFrame) y que devuelve una salida válida para la \n",
    "indexación (una de las anteriores).\n",
    " ○ .iloc se basa principalmente en la posición entera (desde 0 hasta la longitud-1 del eje), pero también puede \n",
    "utilizarse con un arreglo booleano. .iloc aumentará el IndexError si un indexador solicitado está fuera de los límites, \n",
    "excepto los indexadores de corte que permiten la indexación fuera de los límites. (esto se ajusta a la semántica de \n",
    "rebanadas de Python/NumPy). Las entradas permitidas son:\n",
    " ■ Un número entero\n",
    " ■ Una lista o conjunto de números enteros\n",
    " ■ Un subconjunto de un objeto\n",
    " ■ Una matriz booleana\n",
    " ■ Una función con un argumento (la llamada Series o DataFrame) y que devuelve una salida válida para la \n",
    "indexación (una de las anteriores)"
   ]
  },
  {
   "cell_type": "markdown",
   "id": "75d40dd4",
   "metadata": {},
   "source": [
    "Manipulación de Estructuras de Datos - Operador []"
   ]
  },
  {
   "cell_type": "code",
   "execution_count": null,
   "id": "1e4a2298",
   "metadata": {},
   "outputs": [
    {
     "data": {
      "text/plain": [
       "0    1\n",
       "1    1\n",
       "Name: uno, dtype: int64"
      ]
     },
     "execution_count": 80,
     "metadata": {},
     "output_type": "execute_result"
    }
   ],
   "source": [
    "diccionario=[{'uno':1,'dos':2},{'uno':1,'dos':2,'tres':3}]\n",
    "df=pd.DataFrame(diccionario)\n",
    "df['uno']"
   ]
  },
  {
   "cell_type": "code",
   "execution_count": null,
   "id": "c34ba770",
   "metadata": {},
   "outputs": [
    {
     "data": {
      "text/html": [
       "<div>\n",
       "<style scoped>\n",
       "    .dataframe tbody tr th:only-of-type {\n",
       "        vertical-align: middle;\n",
       "    }\n",
       "\n",
       "    .dataframe tbody tr th {\n",
       "        vertical-align: top;\n",
       "    }\n",
       "\n",
       "    .dataframe thead th {\n",
       "        text-align: right;\n",
       "    }\n",
       "</style>\n",
       "<table border=\"1\" class=\"dataframe\">\n",
       "  <thead>\n",
       "    <tr style=\"text-align: right;\">\n",
       "      <th></th>\n",
       "      <th>uno</th>\n",
       "      <th>dos</th>\n",
       "    </tr>\n",
       "  </thead>\n",
       "  <tbody>\n",
       "    <tr>\n",
       "      <th>0</th>\n",
       "      <td>1</td>\n",
       "      <td>2</td>\n",
       "    </tr>\n",
       "    <tr>\n",
       "      <th>1</th>\n",
       "      <td>1</td>\n",
       "      <td>2</td>\n",
       "    </tr>\n",
       "  </tbody>\n",
       "</table>\n",
       "</div>"
      ],
      "text/plain": [
       "   uno  dos\n",
       "0    1    2\n",
       "1    1    2"
      ]
     },
     "execution_count": 82,
     "metadata": {},
     "output_type": "execute_result"
    }
   ],
   "source": [
    "diccionario=[{'uno':1,'dos':2},{'uno':1,'dos':2,'tres':3}]\n",
    "df=pd.DataFrame(diccionario)\n",
    "df[['uno','dos']]"
   ]
  },
  {
   "cell_type": "markdown",
   "id": "67194735",
   "metadata": {},
   "source": [
    " Se puede acceder a un índice en una Serie o columna en un DataFrame directamente como un atributo:"
   ]
  },
  {
   "cell_type": "code",
   "execution_count": null,
   "id": "25b9be9e",
   "metadata": {},
   "outputs": [
    {
     "data": {
      "text/plain": [
       "np.int64(2)"
      ]
     },
     "execution_count": 84,
     "metadata": {},
     "output_type": "execute_result"
    }
   ],
   "source": [
    "datos=[1,2,3,4,5]\n",
    "indice=['a','b','c','d','e']\n",
    "serie=pd.Series(datos,index=indice)\n",
    "serie.b"
   ]
  },
  {
   "cell_type": "markdown",
   "id": "68bcec24",
   "metadata": {},
   "source": [
    " ● Para obtener subconjuntos con Series se puede utilizar el operador [ ], la sintaxis funciona exactamente como con un darray, devolviendo el subconjunto de los valores y las etiquetas correspondientes:"
   ]
  },
  {
   "cell_type": "code",
   "execution_count": null,
   "id": "e58bcea5",
   "metadata": {},
   "outputs": [
    {
     "data": {
      "text/plain": [
       "a    1\n",
       "c    3\n",
       "e    5\n",
       "dtype: int64"
      ]
     },
     "execution_count": 94,
     "metadata": {},
     "output_type": "execute_result"
    }
   ],
   "source": [
    "datos=[1,2,3,4,5]\n",
    "indice=['a','b','c','d','e']\n",
    "serie=pd.Series(datos,index=indice)\n",
    "serie[3:]\n",
    "serie[::2]"
   ]
  },
  {
   "cell_type": "markdown",
   "id": "fb26018d",
   "metadata": {},
   "source": [
    "Con los DataFrames, el operador [ ] corta las filas:"
   ]
  },
  {
   "cell_type": "code",
   "execution_count": null,
   "id": "78e00a00",
   "metadata": {},
   "outputs": [
    {
     "data": {
      "text/html": [
       "<div>\n",
       "<style scoped>\n",
       "    .dataframe tbody tr th:only-of-type {\n",
       "        vertical-align: middle;\n",
       "    }\n",
       "\n",
       "    .dataframe tbody tr th {\n",
       "        vertical-align: top;\n",
       "    }\n",
       "\n",
       "    .dataframe thead th {\n",
       "        text-align: right;\n",
       "    }\n",
       "</style>\n",
       "<table border=\"1\" class=\"dataframe\">\n",
       "  <thead>\n",
       "    <tr style=\"text-align: right;\">\n",
       "      <th></th>\n",
       "      <th>uno</th>\n",
       "      <th>dos</th>\n",
       "      <th>tres</th>\n",
       "    </tr>\n",
       "  </thead>\n",
       "  <tbody>\n",
       "    <tr>\n",
       "      <th>2</th>\n",
       "      <td>1</td>\n",
       "      <td>2</td>\n",
       "      <td>3.0</td>\n",
       "    </tr>\n",
       "    <tr>\n",
       "      <th>1</th>\n",
       "      <td>1</td>\n",
       "      <td>2</td>\n",
       "      <td>3.0</td>\n",
       "    </tr>\n",
       "    <tr>\n",
       "      <th>0</th>\n",
       "      <td>1</td>\n",
       "      <td>2</td>\n",
       "      <td>NaN</td>\n",
       "    </tr>\n",
       "  </tbody>\n",
       "</table>\n",
       "</div>"
      ],
      "text/plain": [
       "   uno  dos  tres\n",
       "2    1    2   3.0\n",
       "1    1    2   3.0\n",
       "0    1    2   NaN"
      ]
     },
     "execution_count": 98,
     "metadata": {},
     "output_type": "execute_result"
    }
   ],
   "source": [
    "diccionario=[{'uno':1,'dos':2},\n",
    "             {'uno':1,'dos':2,'tres':3},\n",
    "             {'uno':1,'dos':2,'tres':3}]\n",
    "\n",
    "df=pd.DataFrame(diccionario)\n",
    "df[:-1] # Elimina la última fila\n",
    "df.iloc[:-1]  # Elimina la última fila usando iloc\n",
    "df[::-1]  # Invierte el orden de las filas"
   ]
  },
  {
   "cell_type": "markdown",
   "id": "0c70a57e",
   "metadata": {},
   "source": [
    " ● Pandas proporciona un conjunto de métodos para tener una indexación basada \n",
    "puramente en etiquetas\n",
    " ● Se trata de un protocolo basado en la inclusión estricta\n",
    " ● Cada etiqueta que se pida debe estar en el índice, o se levantará un KeyError\n",
    " ● Cuando se corta, se incluyen tanto el límite de inicio como el límite de parada, si está \n",
    "presente en el índice\n",
    " ● Los números enteros son etiquetas válidas, pero se refieren a la etiqueta y no a la \n",
    "posición"
   ]
  },
  {
   "cell_type": "code",
   "execution_count": null,
   "id": "2cefac6b",
   "metadata": {},
   "outputs": [
    {
     "data": {
      "text/plain": [
       "d    4\n",
       "e    5\n",
       "dtype: int64"
      ]
     },
     "execution_count": 101,
     "metadata": {},
     "output_type": "execute_result"
    }
   ],
   "source": [
    "datos=[1,2,3,4,5]\n",
    "indice=['a','b','c','d','e']\n",
    "serie=pd.Series(datos,index=indice)\n",
    "serie.loc['a']\n",
    "serie.loc[['d','e']]"
   ]
  },
  {
   "cell_type": "markdown",
   "id": "b036ce20",
   "metadata": {},
   "source": [
    "Con un DataFrame"
   ]
  },
  {
   "cell_type": "code",
   "execution_count": null,
   "id": "ed6d6dc3",
   "metadata": {},
   "outputs": [
    {
     "data": {
      "text/plain": [
       "b    2\n",
       "c    2\n",
       "Name: dos, dtype: int64"
      ]
     },
     "execution_count": 117,
     "metadata": {},
     "output_type": "execute_result"
    }
   ],
   "source": [
    "diccionario=[{'uno':1,'dos':2},\n",
    "             {'uno':1,'dos':2,'tres':3},\n",
    "             {'uno':1,'dos':2,'tres':3}]\n",
    "indice=['a','b','c']\n",
    "\n",
    "df=pd.DataFrame(diccionario,index=indice)\n",
    "df.loc['a']\n",
    "df.loc['a':,'dos']\n",
    "df.loc['a','uno']  \n",
    "df.loc['b':,'dos']  # Selecciona desde 'b' en adelante, columna 'dos'"
   ]
  },
  {
   "cell_type": "markdown",
   "id": "8ff8ea72",
   "metadata": {},
   "source": [
    " Mediante un array de booleanos"
   ]
  },
  {
   "cell_type": "code",
   "execution_count": null,
   "id": "737a705b",
   "metadata": {},
   "outputs": [
    {
     "data": {
      "text/plain": [
       "dos     2.0\n",
       "tres    3.0\n",
       "Name: b, dtype: float64"
      ]
     },
     "execution_count": 121,
     "metadata": {},
     "output_type": "execute_result"
    }
   ],
   "source": [
    "diccionario=[{'uno':1,'dos':2},\n",
    "             {'uno':1,'dos':2,'tres':3},\n",
    "             {'uno':1,'dos':2,'tres':3}]\n",
    "indice=['a','b','c']\n",
    "df=pd.DataFrame(diccionario,index=indice)\n",
    "df.loc['b']>1\n",
    "df.loc['b'][df.loc['b']>1] # Selecciona valores mayores a 1 en la fila 'b'"
   ]
  },
  {
   "cell_type": "markdown",
   "id": "1f719a19",
   "metadata": {},
   "source": [
    "● Pandas proporciona un conjunto de métodos para obtener una indexación basada puramente en números enteros\n",
    " ● La semántica es similar a la selección de subconjuntos de Python y NumPy\n",
    " ● Es una indexación basada en 0\n",
    " ● Al rebanar, se incluye el límite de inicio, mientras que el límite superior se excluye"
   ]
  },
  {
   "cell_type": "code",
   "execution_count": null,
   "id": "60521a67",
   "metadata": {},
   "outputs": [
    {
     "data": {
      "text/plain": [
       "a    1\n",
       "b    2\n",
       "dtype: int64"
      ]
     },
     "execution_count": 126,
     "metadata": {},
     "output_type": "execute_result"
    }
   ],
   "source": [
    "datos=[1,2,3,4,5]\n",
    "indice=['a','b','c','d','e']\n",
    "serie=pd.Series(datos,index=indice)\n",
    "serie[serie>3]  # Selecciona valores mayores a 3\n",
    "serie.iloc[2]\n",
    "serie.iloc[2:]  # Selecciona desde el índice 2 \n",
    "serie.iloc[:2]"
   ]
  },
  {
   "cell_type": "markdown",
   "id": "126033db",
   "metadata": {},
   "source": [
    " Con un DataFrame:"
   ]
  },
  {
   "cell_type": "code",
   "execution_count": null,
   "id": "24e24dd9",
   "metadata": {},
   "outputs": [
    {
     "data": {
      "text/html": [
       "<div>\n",
       "<style scoped>\n",
       "    .dataframe tbody tr th:only-of-type {\n",
       "        vertical-align: middle;\n",
       "    }\n",
       "\n",
       "    .dataframe tbody tr th {\n",
       "        vertical-align: top;\n",
       "    }\n",
       "\n",
       "    .dataframe thead th {\n",
       "        text-align: right;\n",
       "    }\n",
       "</style>\n",
       "<table border=\"1\" class=\"dataframe\">\n",
       "  <thead>\n",
       "    <tr style=\"text-align: right;\">\n",
       "      <th></th>\n",
       "      <th>uno</th>\n",
       "    </tr>\n",
       "  </thead>\n",
       "  <tbody>\n",
       "    <tr>\n",
       "      <th>a</th>\n",
       "      <td>1</td>\n",
       "    </tr>\n",
       "    <tr>\n",
       "      <th>b</th>\n",
       "      <td>1</td>\n",
       "    </tr>\n",
       "  </tbody>\n",
       "</table>\n",
       "</div>"
      ],
      "text/plain": [
       "   uno\n",
       "a    1\n",
       "b    1"
      ]
     },
     "execution_count": 137,
     "metadata": {},
     "output_type": "execute_result"
    }
   ],
   "source": [
    "diccionario=[{'uno':1,'dos':2},\n",
    "             {'uno':1,'dos':2,'tres':3},\n",
    "             {'uno':1,'dos':2,'tres':3}]\n",
    "indice=['a','b','c']\n",
    "df=pd.DataFrame(diccionario,index=indice)\n",
    "df.iloc[:1]  # Selecciona la primera fila\n",
    "df.iloc[:2,:1]  # Selecciona la primera fila y todas las columnas a partir de la segunda\n"
   ]
  },
  {
   "cell_type": "markdown",
   "id": "9078936e",
   "metadata": {},
   "source": [
    " ● Para seleccionar de manera aleatoria de filas o columnas de una Serie o DataFrame se utiliza el método sample()\n",
    " ● El método muestrea las filas por defecto, y acepta un número específico de filas/columnas a devolver, o un porcentaje (fracción) de filas."
   ]
  },
  {
   "cell_type": "code",
   "execution_count": null,
   "id": "8d8de655",
   "metadata": {},
   "outputs": [
    {
     "data": {
      "text/plain": [
       "c    3\n",
       "d    4\n",
       "dtype: int64"
      ]
     },
     "execution_count": 152,
     "metadata": {},
     "output_type": "execute_result"
    }
   ],
   "source": [
    "datos=[1,2,3,4,5]\n",
    "indice=['a','b','c','d','e']\n",
    "serie=pd.Series(datos,index=indice)\n",
    "serie.sample()\n",
    "serie.sample(n=2)\n",
    "serie.sample(frac=0.5)  # Muestra el 50% de los datos"
   ]
  },
  {
   "cell_type": "markdown",
   "id": "461e7564",
   "metadata": {},
   "source": [
    "Método where()\n",
    "A diferencia de la selección de valores de una Serie con un vector booleano, que generalmente devuelve un subconjunto de los datos, se puede utilizar el método where en Series y DataFrame para garantizar que la salida de la selección tiene la \n",
    "misma forma que los datos originales"
   ]
  },
  {
   "cell_type": "code",
   "execution_count": null,
   "id": "68989d34",
   "metadata": {},
   "outputs": [
    {
     "data": {
      "text/plain": [
       "a    NaN\n",
       "b    NaN\n",
       "c    3.0\n",
       "d    4.0\n",
       "e    5.0\n",
       "dtype: float64"
      ]
     },
     "execution_count": 159,
     "metadata": {},
     "output_type": "execute_result"
    }
   ],
   "source": [
    "datos=[1,2,3,4,5]\n",
    "indice=['a','b','c','d','e']\n",
    "serie=pd.Series(datos,index=indice)\n",
    "serie[serie>2]\n",
    "serie.where(serie>2)"
   ]
  },
  {
   "cell_type": "markdown",
   "id": "a30f15fe",
   "metadata": {},
   "source": [
    " Además, where toma un argumento opcional other para el reemplazo de los valores donde la condición es Falsa:"
   ]
  },
  {
   "cell_type": "code",
   "execution_count": null,
   "id": "1aabbdd7",
   "metadata": {},
   "outputs": [
    {
     "data": {
      "text/plain": [
       "a    3\n",
       "b    4\n",
       "c    3\n",
       "d    4\n",
       "e    5\n",
       "dtype: int64"
      ]
     },
     "execution_count": 161,
     "metadata": {},
     "output_type": "execute_result"
    }
   ],
   "source": [
    "serie.where(serie>2, other=0)  # Reemplaza valores que no cumplen la condición con 0\n",
    "serie.where(serie>2,serie + 2)"
   ]
  },
  {
   "cell_type": "markdown",
   "id": "4b3d3e72",
   "metadata": {},
   "source": [
    " Los objetos DataFrame tienen un método query() que permite la selección mediante una expresión"
   ]
  },
  {
   "cell_type": "code",
   "execution_count": null,
   "id": "01f9845c",
   "metadata": {},
   "outputs": [
    {
     "data": {
      "text/html": [
       "<div>\n",
       "<style scoped>\n",
       "    .dataframe tbody tr th:only-of-type {\n",
       "        vertical-align: middle;\n",
       "    }\n",
       "\n",
       "    .dataframe tbody tr th {\n",
       "        vertical-align: top;\n",
       "    }\n",
       "\n",
       "    .dataframe thead th {\n",
       "        text-align: right;\n",
       "    }\n",
       "</style>\n",
       "<table border=\"1\" class=\"dataframe\">\n",
       "  <thead>\n",
       "    <tr style=\"text-align: right;\">\n",
       "      <th></th>\n",
       "      <th>uno</th>\n",
       "      <th>dos</th>\n",
       "      <th>tres</th>\n",
       "    </tr>\n",
       "  </thead>\n",
       "  <tbody>\n",
       "    <tr>\n",
       "      <th>c</th>\n",
       "      <td>100</td>\n",
       "      <td>200</td>\n",
       "      <td>300.0</td>\n",
       "    </tr>\n",
       "  </tbody>\n",
       "</table>\n",
       "</div>"
      ],
      "text/plain": [
       "   uno  dos   tres\n",
       "c  100  200  300.0"
      ]
     },
     "execution_count": 164,
     "metadata": {},
     "output_type": "execute_result"
    }
   ],
   "source": [
    "diccionario=[{'uno':1,'dos':2},\n",
    "             {'uno':10,'dos':20,'tres':30},\n",
    "             {'uno':100,'dos':200,'tres':300}]\n",
    "indices=['a','b','c']\n",
    "df=pd.DataFrame(diccionario,index=indices)\n",
    "df.query('uno>=10 and dos<200')\n",
    "df.query('uno>=100 and tres<=300')"
   ]
  },
  {
   "cell_type": "markdown",
   "id": "447fc796",
   "metadata": {},
   "source": [
    "##Datos tipo Texto"
   ]
  },
  {
   "cell_type": "markdown",
   "id": "1898e6d0",
   "metadata": {},
   "source": [
    "● En pandas hay dos formas de almacenar texto:\n",
    " ○ object-dtype NumPy array\n",
    " ○ StringDtype\n",
    " ● El tipo StringDtype ha de ser definido explicitamente, por defecto el tipo es object:"
   ]
  },
  {
   "cell_type": "code",
   "execution_count": null,
   "id": "02de9f12",
   "metadata": {},
   "outputs": [
    {
     "data": {
      "text/plain": [
       "0    a\n",
       "1    b\n",
       "2    c\n",
       "3    d\n",
       "4    e\n",
       "dtype: string"
      ]
     },
     "execution_count": 167,
     "metadata": {},
     "output_type": "execute_result"
    }
   ],
   "source": [
    "pd.Series(list('abcde'),dtype='string')\n",
    "#modificado despues de creado\n",
    "serie=pd.Series(list('abcde'))\n",
    "serie.astype('string')"
   ]
  },
  {
   "cell_type": "markdown",
   "id": "37f48f42",
   "metadata": {},
   "source": [
    "Para acceder a las operaciones de cadenas de texto, utilizaremos el operador .str:"
   ]
  },
  {
   "cell_type": "code",
   "execution_count": null,
   "id": "19bb80fc",
   "metadata": {},
   "outputs": [
    {
     "data": {
      "text/plain": [
       "0    [a]\n",
       "1    [b]\n",
       "2    [c]\n",
       "3    [d]\n",
       "4    [e]\n",
       "5    [f]\n",
       "dtype: object"
      ]
     },
     "execution_count": 171,
     "metadata": {},
     "output_type": "execute_result"
    }
   ],
   "source": [
    "serie=pd.Series(list('abcdef'),dtype='string')\n",
    "serie.str.upper()\n",
    "serie.str.lower()\n",
    "serie.str.len()\n",
    "serie.str.split('_')"
   ]
  },
  {
   "cell_type": "markdown",
   "id": "a09aa450",
   "metadata": {},
   "source": [
    "###Método extract()\n",
    " ● El método extract() acepta una expresión regular con al menos un grupo de captura\n",
    " ● La extracción de una expresión regular con más de un grupo devuelve un DataFrame con una columna por grupo.\n",
    " ● Los elementos que no coinciden regresan a una fila llena de NaN\n",
    " ● El dtype del resultado es siempre objeto, incluso si no se encuentra ninguna coincidencia y el resultado sólo contiene NaN"
   ]
  },
  {
   "cell_type": "code",
   "execution_count": null,
   "id": "810d5e22",
   "metadata": {},
   "outputs": [
    {
     "data": {
      "text/html": [
       "<div>\n",
       "<style scoped>\n",
       "    .dataframe tbody tr th:only-of-type {\n",
       "        vertical-align: middle;\n",
       "    }\n",
       "\n",
       "    .dataframe tbody tr th {\n",
       "        vertical-align: top;\n",
       "    }\n",
       "\n",
       "    .dataframe thead th {\n",
       "        text-align: right;\n",
       "    }\n",
       "</style>\n",
       "<table border=\"1\" class=\"dataframe\">\n",
       "  <thead>\n",
       "    <tr style=\"text-align: right;\">\n",
       "      <th></th>\n",
       "      <th>0</th>\n",
       "      <th>1</th>\n",
       "    </tr>\n",
       "  </thead>\n",
       "  <tbody>\n",
       "    <tr>\n",
       "      <th>0</th>\n",
       "      <td>a</td>\n",
       "      <td>1</td>\n",
       "    </tr>\n",
       "    <tr>\n",
       "      <th>1</th>\n",
       "      <td>b</td>\n",
       "      <td>2</td>\n",
       "    </tr>\n",
       "    <tr>\n",
       "      <th>2</th>\n",
       "      <td>&lt;NA&gt;</td>\n",
       "      <td>&lt;NA&gt;</td>\n",
       "    </tr>\n",
       "    <tr>\n",
       "      <th>3</th>\n",
       "      <td>&lt;NA&gt;</td>\n",
       "      <td>&lt;NA&gt;</td>\n",
       "    </tr>\n",
       "    <tr>\n",
       "      <th>4</th>\n",
       "      <td>&lt;NA&gt;</td>\n",
       "      <td>&lt;NA&gt;</td>\n",
       "    </tr>\n",
       "  </tbody>\n",
       "</table>\n",
       "</div>"
      ],
      "text/plain": [
       "      0     1\n",
       "0     a     1\n",
       "1     b     2\n",
       "2  <NA>  <NA>\n",
       "3  <NA>  <NA>\n",
       "4  <NA>  <NA>"
      ]
     },
     "execution_count": 172,
     "metadata": {},
     "output_type": "execute_result"
    }
   ],
   "source": [
    "serie=pd.Series(['a1', 'b2', 'c3', 'd4', 'e5'],dtype='string')\n",
    "serie.str.extract(r'([ab])(\\d)')  # Extrae letras seguidas de un dígito\n",
    "\n"
   ]
  },
  {
   "cell_type": "code",
   "execution_count": null,
   "id": "c46e7718",
   "metadata": {},
   "outputs": [
    {
     "data": {
      "text/html": [
       "<div>\n",
       "<style scoped>\n",
       "    .dataframe tbody tr th:only-of-type {\n",
       "        vertical-align: middle;\n",
       "    }\n",
       "\n",
       "    .dataframe tbody tr th {\n",
       "        vertical-align: top;\n",
       "    }\n",
       "\n",
       "    .dataframe thead th {\n",
       "        text-align: right;\n",
       "    }\n",
       "</style>\n",
       "<table border=\"1\" class=\"dataframe\">\n",
       "  <thead>\n",
       "    <tr style=\"text-align: right;\">\n",
       "      <th></th>\n",
       "      <th>letra</th>\n",
       "      <th>digito</th>\n",
       "    </tr>\n",
       "  </thead>\n",
       "  <tbody>\n",
       "    <tr>\n",
       "      <th>0</th>\n",
       "      <td>a</td>\n",
       "      <td>1</td>\n",
       "    </tr>\n",
       "    <tr>\n",
       "      <th>1</th>\n",
       "      <td>b</td>\n",
       "      <td>2</td>\n",
       "    </tr>\n",
       "    <tr>\n",
       "      <th>2</th>\n",
       "      <td>c</td>\n",
       "      <td>3</td>\n",
       "    </tr>\n",
       "    <tr>\n",
       "      <th>3</th>\n",
       "      <td>&lt;NA&gt;</td>\n",
       "      <td>&lt;NA&gt;</td>\n",
       "    </tr>\n",
       "    <tr>\n",
       "      <th>4</th>\n",
       "      <td>&lt;NA&gt;</td>\n",
       "      <td>&lt;NA&gt;</td>\n",
       "    </tr>\n",
       "  </tbody>\n",
       "</table>\n",
       "</div>"
      ],
      "text/plain": [
       "  letra digito\n",
       "0     a      1\n",
       "1     b      2\n",
       "2     c      3\n",
       "3  <NA>   <NA>\n",
       "4  <NA>   <NA>"
      ]
     },
     "execution_count": 176,
     "metadata": {},
     "output_type": "execute_result"
    }
   ],
   "source": [
    "serie=pd.Series(['a1', 'b2', 'c3', 'd4', 'e5'],dtype='string')\n",
    "serie.str.extract(r'(?P<letra>[abc])(?P<digito>\\d)')  # Extrae letras seguidas de un dígito con nombres de grupos"
   ]
  },
  {
   "cell_type": "markdown",
   "id": "856a689b",
   "metadata": {},
   "source": [
    " En Pandas, en una columna de tipo string se puede comprobar si contiene un patrón con el método contains:"
   ]
  },
  {
   "cell_type": "code",
   "execution_count": null,
   "id": "394f9686",
   "metadata": {},
   "outputs": [
    {
     "data": {
      "text/plain": [
       "0     X\n",
       "1     X\n",
       "2     X\n",
       "3    d4\n",
       "4    e5\n",
       "dtype: string"
      ]
     },
     "execution_count": 181,
     "metadata": {},
     "output_type": "execute_result"
    }
   ],
   "source": [
    "patron=r'[abc][\\d]'\n",
    "serie=pd.Series(['a1', 'b2', 'c3', 'd4', 'e5'],dtype='string')\n",
    "serie.str.contains(patron) # Verifica si la serie contiene el patrón \n",
    "serie.str.replace(patron, 'X', regex=True)  # Reemplaza el patrón por 'X' usando regex  "
   ]
  },
  {
   "cell_type": "markdown",
   "id": "280ab242",
   "metadata": {},
   "source": [
    " También si coincide un determinado patrón"
   ]
  },
  {
   "cell_type": "code",
   "execution_count": 13,
   "id": "526dd8e7",
   "metadata": {},
   "outputs": [
    {
     "data": {
      "text/plain": [
       "0     True\n",
       "1     True\n",
       "2    False\n",
       "3    False\n",
       "4    False\n",
       "dtype: boolean"
      ]
     },
     "execution_count": 13,
     "metadata": {},
     "output_type": "execute_result"
    }
   ],
   "source": [
    "patron=r'[ab][\\d]'\n",
    "serie=pd.Series(['a1', 'b2', 'c3', 'd4', 'e5'],dtype='string')\n",
    "serie.str.match(patron)"
   ]
  },
  {
   "cell_type": "markdown",
   "id": "ed153298",
   "metadata": {},
   "source": [
    " O si coincide de manera completa:"
   ]
  },
  {
   "cell_type": "code",
   "execution_count": 14,
   "id": "801ef4db",
   "metadata": {},
   "outputs": [
    {
     "data": {
      "text/plain": [
       "0     True\n",
       "1     True\n",
       "2    False\n",
       "3    False\n",
       "4    False\n",
       "dtype: boolean"
      ]
     },
     "execution_count": 14,
     "metadata": {},
     "output_type": "execute_result"
    }
   ],
   "source": [
    "patron=r'[ab][\\d]'\n",
    "serie=pd.Series(['a1', 'b2', 'c3', 'd4', 'e5'],dtype='string')\n",
    "serie.str.fullmatch(patron)"
   ]
  },
  {
   "cell_type": "markdown",
   "id": "a8956e9a",
   "metadata": {},
   "source": [
    "###Datos de tipo categórico\n"
   ]
  },
  {
   "cell_type": "markdown",
   "id": "78eb289c",
   "metadata": {},
   "source": [
    " ● En pandas las categorías son de tipo CategoricalDtype\n",
    " ● El tipo de una categoría se describe completamente por\n",
    " ○ categories: una secuencia de valores únicos y sin valores perdidos\n",
    "  ○ ordered: un booleano\n",
    " ● En Pandas se puede definir una Serie o la columna de un DataFrame de tipo categórico.\n",
    " ● Se puede realizar especificando el tipo en la construcción:"
   ]
  },
  {
   "cell_type": "code",
   "execution_count": 16,
   "id": "d86951fd",
   "metadata": {},
   "outputs": [],
   "source": [
    "series=pd.Series(list('abcdef'),dtype='category')"
   ]
  },
  {
   "cell_type": "markdown",
   "id": "dd871345",
   "metadata": {},
   "source": [
    " O modificado después de creado:"
   ]
  },
  {
   "cell_type": "code",
   "execution_count": null,
   "id": "de570f41",
   "metadata": {},
   "outputs": [],
   "source": [
    "series=pd.Series(list('abcdef'))\n",
    "series.astype('category')  # Convierte la serie a tipo 'category'"
   ]
  },
  {
   "cell_type": "markdown",
   "id": "345707d2",
   "metadata": {},
   "source": [
    " ● Para acceder a los métodos de las categorías se utiliza el operador .cat"
   ]
  },
  {
   "cell_type": "code",
   "execution_count": 18,
   "id": "daa5e094",
   "metadata": {},
   "outputs": [
    {
     "data": {
      "text/plain": [
       "0    0\n",
       "1    1\n",
       "2    2\n",
       "3    3\n",
       "4    4\n",
       "5    5\n",
       "dtype: int8"
      ]
     },
     "execution_count": 18,
     "metadata": {},
     "output_type": "execute_result"
    }
   ],
   "source": [
    "series=pd.Series(list('abcdef'),dtype='category')\n",
    "series.cat.categories  # Muestra las categorías de la serie\n",
    "series.cat.codes  # Muestra los códigos de las categorías"
   ]
  },
  {
   "cell_type": "markdown",
   "id": "207275be",
   "metadata": {},
   "source": [
    "###Datos de tipo temporal"
   ]
  },
  {
   "cell_type": "markdown",
   "id": "3737de3f",
   "metadata": {},
   "source": [
    " ● En pandas las fechas y horas son, principalmente, de tipo Timestamp\n",
    " ● Las colecciones de Timestamp son de tipo DatetimeIndex\n",
    " ● La definición de una serie de Timestamp se realiza de la siguiente forma:"
   ]
  },
  {
   "cell_type": "code",
   "execution_count": 20,
   "id": "e62cc04c",
   "metadata": {},
   "outputs": [
    {
     "data": {
      "text/plain": [
       "0   2023-09-01\n",
       "1   2023-09-02\n",
       "2   2023-10-03\n",
       "3   2023-10-05\n",
       "4   2023-10-08\n",
       "dtype: datetime64[ns]"
      ]
     },
     "execution_count": 20,
     "metadata": {},
     "output_type": "execute_result"
    }
   ],
   "source": [
    "fechas=[pd.Timestamp('2023-09-01'),\n",
    "        pd.Timestamp('2023-09-02'),\n",
    "        pd.Timestamp('2023-10-03'),\n",
    "        pd.Timestamp('2023-10-05'),\n",
    "        pd.Timestamp('2023-10-08')]\n",
    "\n",
    "serie=pd.Series(fechas)\n",
    "serie"
   ]
  },
  {
   "cell_type": "code",
   "execution_count": 22,
   "id": "b2125dd8",
   "metadata": {},
   "outputs": [
    {
     "data": {
      "text/plain": [
       "0     9\n",
       "1     9\n",
       "2    10\n",
       "3    10\n",
       "4    10\n",
       "dtype: int32"
      ]
     },
     "execution_count": 22,
     "metadata": {},
     "output_type": "execute_result"
    }
   ],
   "source": [
    "serie=pd.Series(fechas)\n",
    "serie.dt.year\n",
    "serie.dt.month# Extrae el año de las fechas\n"
   ]
  }
 ],
 "metadata": {
  "kernelspec": {
   "display_name": "base",
   "language": "python",
   "name": "python3"
  },
  "language_info": {
   "codemirror_mode": {
    "name": "ipython",
    "version": 3
   },
   "file_extension": ".py",
   "mimetype": "text/x-python",
   "name": "python",
   "nbconvert_exporter": "python",
   "pygments_lexer": "ipython3",
   "version": "3.12.7"
  }
 },
 "nbformat": 4,
 "nbformat_minor": 5
}
